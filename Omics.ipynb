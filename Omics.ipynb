{
 "cells": [
  {
   "cell_type": "markdown",
   "metadata": {},
   "source": [
    "**Aims**:\n",
    " - extract the omics mentioned in multi-omics articles\n",
    "\n",
    "**NOTE**: the articles not in PMC/with no full text need to be analysed separately, or at least highlighted."
   ]
  },
  {
   "cell_type": "code",
   "execution_count": 1,
   "metadata": {},
   "outputs": [],
   "source": [
    "%run notebook_setup.ipynb"
   ]
  },
  {
   "cell_type": "code",
   "execution_count": 2,
   "metadata": {},
   "outputs": [],
   "source": [
    "import pandas\n",
    "pandas.set_option('display.max_colwidth', 100)"
   ]
  },
  {
   "cell_type": "code",
   "execution_count": 3,
   "metadata": {},
   "outputs": [
    {
     "data": {
      "text/markdown": [
       "Imported:\n",
       "\n",
       " - `literature` (67ED7D31)\n",
       " - `literature_subjects` (E63E424E)\n",
       "\n",
       "at Saturday, 25. Jul 2020 02:07"
      ],
      "text/plain": [
       "<IPython.core.display.Markdown object>"
      ]
     },
     "metadata": {
      "text/markdown": {
       "action": "import",
       "command": "from pubmed_derived_data import literature, literature_subjects",
       "finished": "2020-07-25T02:07:19.253577",
       "finished_human_readable": "Saturday, 25. Jul 2020 02:07",
       "result": [
        {
         "new_file": {
          "crc32": "67ED7D31",
          "sha256": "8402318935941594BF35DE214FCA3DF3E3D97CFC252D728435E56730E3629075"
         },
         "subject": "literature"
        },
        {
         "new_file": {
          "crc32": "E63E424E",
          "sha256": "208D997BE23CBFC872CB67808D0B996044EEDFA0ACC7BECEC3145A7AE444E674"
         },
         "subject": "literature_subjects"
        }
       ],
       "started": "2020-07-25T02:07:15.483641"
      }
     },
     "output_type": "display_data"
    }
   ],
   "source": [
    "%vault from pubmed_derived_data import literature, literature_subjects"
   ]
  },
  {
   "cell_type": "code",
   "execution_count": 4,
   "metadata": {},
   "outputs": [],
   "source": [
    "literature['title_abstract_text_subjects'] = (\n",
    "    literature['title']\n",
    "    + ' ' + literature['abstract_clean'].fillna('')\n",
    "    + ' ' + literature_subjects.apply(lambda x: ' '.join(x[x == True].index), axis=1)\n",
    "    + ' ' + literature['full_text'].fillna('')\n",
    ")"
   ]
  },
  {
   "cell_type": "code",
   "execution_count": 5,
   "metadata": {},
   "outputs": [],
   "source": [
    "omics_features = literature.index.to_frame().drop(columns='uid').copy()"
   ]
  },
  {
   "cell_type": "code",
   "execution_count": 6,
   "metadata": {},
   "outputs": [],
   "source": [
    "from functools import partial\n",
    "from helpers.text_processing import check_usage\n",
    "from pandas import Series\n",
    "\n",
    "check_usage_in_input = partial(\n",
    "    check_usage,\n",
    "    data=literature,\n",
    "    column='title_abstract_text_subjects',\n",
    "    limit=5  # show only first 5 results\n",
    ")"
   ]
  },
  {
   "cell_type": "code",
   "execution_count": 7,
   "metadata": {},
   "outputs": [],
   "source": [
    "TERM_IN_AT_LEAST_N_ARTICLES = 5"
   ]
  },
  {
   "cell_type": "markdown",
   "metadata": {},
   "source": [
    "# Omics"
   ]
  },
  {
   "cell_type": "markdown",
   "metadata": {},
   "source": [
    "## 1. Lookup by words which end with -ome"
   ]
  },
  {
   "cell_type": "code",
   "execution_count": 8,
   "metadata": {},
   "outputs": [],
   "source": [
    "cellular_structures = {\n",
    "    # organelles\n",
    "    'peroxisome',\n",
    "    'proteasome',\n",
    "    'ribosome',\n",
    "    'exosome',\n",
    "    'nucleosome',\n",
    "    'polysome',\n",
    "    'autosome',\n",
    "    'autophagosome',\n",
    "    'endosome',\n",
    "    'lysosome',\n",
    "    # molecular machines\n",
    "    'spliceosome',\n",
    "    # chromosmes\n",
    "    'autosome',\n",
    "    'chromosome',\n",
    "    'x-chromosome',\n",
    "    'y-chromosome',\n",
    "}\n",
    "\n",
    "species = {\n",
    "    'trichome'\n",
    "}\n",
    "\n",
    "tools_and_methods = {\n",
    "    # dry lab\n",
    "    'dphenome',\n",
    "    'dgenome',\n",
    "    'reactome',\n",
    "    'rexposome',\n",
    "    'phytozome',\n",
    "    'rgenome',\n",
    "    'igenome',  # iGenomes\n",
    "    # wet lab\n",
    "    'microtome'\n",
    "}"
   ]
  },
  {
   "cell_type": "code",
   "execution_count": 9,
   "metadata": {},
   "outputs": [],
   "source": [
    "not_an_ome = {\n",
    "    'outcome',\n",
    "    'middle-income',\n",
    "    'welcome',\n",
    "    'wellcome',  # :)\n",
    "    'chrome',\n",
    "    'some',\n",
    "    'cumbersome',\n",
    "    'become',\n",
    "    'home',\n",
    "    'come',\n",
    "    'overcome',\n",
    "    'cytochrome',\n",
    "    'syndrome',\n",
    "    'ubiome',\n",
    "    'biome',  # this IS an ome, but more into envrionmental studies, rather than molecular biology!\n",
    "    'fluorochrome',\n",
    "    'post-genome',\n",
    "    'ubiquitin-proteasome',  # UPS\n",
    "    *tools_and_methods,\n",
    "    *cellular_structures,\n",
    "    *species\n",
    "}"
   ]
  },
  {
   "cell_type": "code",
   "execution_count": 10,
   "metadata": {},
   "outputs": [
    {
     "data": {
      "text/plain": [
       "\u001b[0;31mSignature:\u001b[0m \u001b[0mget_ome_regexp\u001b[0m\u001b[0;34m(\u001b[0m\u001b[0;34m)\u001b[0m \u001b[0;34m->\u001b[0m \u001b[0mstr\u001b[0m\u001b[0;34m\u001b[0m\u001b[0;34m\u001b[0m\u001b[0m\n",
       "\u001b[0;31mDocstring:\u001b[0m <no docstring>\n",
       "\u001b[0;31mSource:\u001b[0m   \n",
       "\u001b[0;32mdef\u001b[0m \u001b[0mget_ome_regexp\u001b[0m\u001b[0;34m(\u001b[0m\u001b[0;34m)\u001b[0m \u001b[0;34m->\u001b[0m \u001b[0mstr\u001b[0m\u001b[0;34m:\u001b[0m\u001b[0;34m\u001b[0m\n",
       "\u001b[0;34m\u001b[0m    \u001b[0;32mreturn\u001b[0m \u001b[0;34m(\u001b[0m\u001b[0;34m\u001b[0m\n",
       "\u001b[0;34m\u001b[0m        \u001b[0;31m# use look-ahead to allow for overlaps\u001b[0m\u001b[0;34m\u001b[0m\n",
       "\u001b[0;34m\u001b[0m        \u001b[0;34m'(?='\u001b[0m\u001b[0;34m\u001b[0m\n",
       "\u001b[0;34m\u001b[0m            \u001b[0;34mrf'(?:^|\\s|{separators_re}|ome-)'\u001b[0m\u001b[0;34m\u001b[0m\n",
       "\u001b[0;34m\u001b[0m            \u001b[0;34m'('\u001b[0m\u001b[0;34m\u001b[0m\n",
       "\u001b[0;34m\u001b[0m                \u001b[0;34mr'(?:\\w+)ome'\u001b[0m\u001b[0;34m\u001b[0m\n",
       "\u001b[0;34m\u001b[0m                \u001b[0;34m'|'\u001b[0m\u001b[0;34m\u001b[0m\n",
       "\u001b[0;34m\u001b[0m                \u001b[0;34mr'(?:(?:\\w+-\\w*)|\\w+)ome'\u001b[0m\u001b[0;34m\u001b[0m\n",
       "\u001b[0;34m\u001b[0m            \u001b[0;34m')'\u001b[0m\u001b[0;34m\u001b[0m\n",
       "\u001b[0;34m\u001b[0m            \u001b[0;31m# also, match plural form\u001b[0m\u001b[0;34m\u001b[0m\n",
       "\u001b[0;34m\u001b[0m            \u001b[0;34m'(?:s)?'\u001b[0m\u001b[0;34m\u001b[0m\n",
       "\u001b[0;34m\u001b[0m            \u001b[0;34mrf'(?:\\s|$|{separators_re}|{final_dot_not_url_part}|-)'\u001b[0m\u001b[0;34m\u001b[0m\n",
       "\u001b[0;34m\u001b[0m        \u001b[0;34m')'\u001b[0m\u001b[0;34m\u001b[0m\n",
       "\u001b[0;34m\u001b[0m    \u001b[0;34m)\u001b[0m\u001b[0;34m\u001b[0m\u001b[0;34m\u001b[0m\u001b[0m\n",
       "\u001b[0;31mFile:\u001b[0m      ~/multi-omics/omics.py\n",
       "\u001b[0;31mType:\u001b[0m      function\n"
      ]
     },
     "metadata": {},
     "output_type": "display_data"
    }
   ],
   "source": [
    "from omics import get_ome_regexp\n",
    "ome_re = get_ome_regexp()\n",
    "get_ome_regexp??"
   ]
  },
  {
   "cell_type": "code",
   "execution_count": 11,
   "metadata": {},
   "outputs": [
    {
     "data": {
      "text/html": [
       "<div>\n",
       "<style scoped>\n",
       "    .dataframe tbody tr th:only-of-type {\n",
       "        vertical-align: middle;\n",
       "    }\n",
       "\n",
       "    .dataframe tbody tr th {\n",
       "        vertical-align: top;\n",
       "    }\n",
       "\n",
       "    .dataframe thead th {\n",
       "        text-align: right;\n",
       "    }\n",
       "</style>\n",
       "<table border=\"1\" class=\"dataframe\">\n",
       "  <thead>\n",
       "    <tr style=\"text-align: right;\">\n",
       "      <th></th>\n",
       "      <th>uid</th>\n",
       "      <th>match</th>\n",
       "      <th>term</th>\n",
       "    </tr>\n",
       "  </thead>\n",
       "  <tbody>\n",
       "    <tr>\n",
       "      <th>2</th>\n",
       "      <td>15687839</td>\n",
       "      <td>1</td>\n",
       "      <td>genome</td>\n",
       "    </tr>\n",
       "    <tr>\n",
       "      <th>7</th>\n",
       "      <td>16611894</td>\n",
       "      <td>0</td>\n",
       "      <td>genome</td>\n",
       "    </tr>\n",
       "    <tr>\n",
       "      <th>9</th>\n",
       "      <td>16611894</td>\n",
       "      <td>2</td>\n",
       "      <td>genome</td>\n",
       "    </tr>\n",
       "  </tbody>\n",
       "</table>\n",
       "</div>"
      ],
      "text/plain": [
       "        uid  match    term\n",
       "2  15687839      1  genome\n",
       "7  16611894      0  genome\n",
       "9  16611894      2  genome"
      ]
     },
     "execution_count": 11,
     "metadata": {},
     "output_type": "execute_result"
    }
   ],
   "source": [
    "ome_occurrences = (\n",
    "    literature['title_abstract_text_subjects'].str.lower()\n",
    "    .str.extractall(ome_re)[0]\n",
    "    .to_frame('term').reset_index()\n",
    ")\n",
    "ome_occurrences = ome_occurrences[~ome_occurrences.term.isin(not_an_ome)]\n",
    "ome_occurrences.head(3)"
   ]
  },
  {
   "cell_type": "markdown",
   "metadata": {},
   "source": [
    "### 1.1 Harmonise hyphenation"
   ]
  },
  {
   "cell_type": "code",
   "execution_count": 12,
   "metadata": {},
   "outputs": [],
   "source": [
    "from helpers.text_processing import report_hyphenation_trends, harmonise_hyphenation"
   ]
  },
  {
   "cell_type": "code",
   "execution_count": 13,
   "metadata": {},
   "outputs": [
    {
     "data": {
      "text/html": [
       "<div>\n",
       "<style scoped>\n",
       "    .dataframe tbody tr th:only-of-type {\n",
       "        vertical-align: middle;\n",
       "    }\n",
       "\n",
       "    .dataframe tbody tr th {\n",
       "        vertical-align: top;\n",
       "    }\n",
       "\n",
       "    .dataframe thead th {\n",
       "        text-align: right;\n",
       "    }\n",
       "</style>\n",
       "<table border=\"1\" class=\"dataframe\">\n",
       "  <thead>\n",
       "    <tr style=\"text-align: right;\">\n",
       "      <th></th>\n",
       "      <th>more_popular</th>\n",
       "      <th>less_popular</th>\n",
       "    </tr>\n",
       "  </thead>\n",
       "  <tbody>\n",
       "    <tr>\n",
       "      <th>0</th>\n",
       "      <td>metagenome</td>\n",
       "      <td>meta-genome</td>\n",
       "    </tr>\n",
       "    <tr>\n",
       "      <th>1</th>\n",
       "      <td>phosphoproteome</td>\n",
       "      <td>phospho-proteome</td>\n",
       "    </tr>\n",
       "    <tr>\n",
       "      <th>2</th>\n",
       "      <td>metaproteome</td>\n",
       "      <td>meta-proteome</td>\n",
       "    </tr>\n",
       "    <tr>\n",
       "      <th>3</th>\n",
       "      <td>whole-exome</td>\n",
       "      <td>wholeexome</td>\n",
       "    </tr>\n",
       "    <tr>\n",
       "      <th>4</th>\n",
       "      <td>pan-genome</td>\n",
       "      <td>pangenome</td>\n",
       "    </tr>\n",
       "    <tr>\n",
       "      <th>5</th>\n",
       "      <td>subgenome</td>\n",
       "      <td>sub-genome</td>\n",
       "    </tr>\n",
       "    <tr>\n",
       "      <th>6</th>\n",
       "      <td>sub-proteome</td>\n",
       "      <td>subproteome</td>\n",
       "    </tr>\n",
       "    <tr>\n",
       "      <th>7</th>\n",
       "      <td>endo-metabolome</td>\n",
       "      <td>endometabolome</td>\n",
       "    </tr>\n",
       "    <tr>\n",
       "      <th>8</th>\n",
       "      <td>cancer-genome</td>\n",
       "      <td>cancergenome</td>\n",
       "    </tr>\n",
       "    <tr>\n",
       "      <th>9</th>\n",
       "      <td>exometabolome</td>\n",
       "      <td>exo-metabolome</td>\n",
       "    </tr>\n",
       "    <tr>\n",
       "      <th>10</th>\n",
       "      <td>1000genome</td>\n",
       "      <td>1000-genome</td>\n",
       "    </tr>\n",
       "    <tr>\n",
       "      <th>11</th>\n",
       "      <td>mini-chromosome</td>\n",
       "      <td>minichromosome</td>\n",
       "    </tr>\n",
       "  </tbody>\n",
       "</table>\n",
       "</div>"
      ],
      "text/plain": [
       "       more_popular      less_popular\n",
       "0        metagenome       meta-genome\n",
       "1   phosphoproteome  phospho-proteome\n",
       "2      metaproteome     meta-proteome\n",
       "3       whole-exome        wholeexome\n",
       "4        pan-genome         pangenome\n",
       "5         subgenome        sub-genome\n",
       "6      sub-proteome       subproteome\n",
       "7   endo-metabolome    endometabolome\n",
       "8     cancer-genome      cancergenome\n",
       "9     exometabolome    exo-metabolome\n",
       "10       1000genome       1000-genome\n",
       "11  mini-chromosome    minichromosome"
      ]
     },
     "execution_count": 13,
     "metadata": {},
     "output_type": "execute_result"
    }
   ],
   "source": [
    "hyphenation_rules = report_hyphenation_trends(ome_occurrences.term)\n",
    "hyphenation_rules"
   ]
  },
  {
   "cell_type": "code",
   "execution_count": 14,
   "metadata": {},
   "outputs": [],
   "source": [
    "ome_occurrences.term = harmonise_hyphenation(ome_occurrences.term, hyphenation_rules)"
   ]
  },
  {
   "cell_type": "markdown",
   "metadata": {},
   "source": [
    "### 1.2 Fix typos"
   ]
  },
  {
   "cell_type": "code",
   "execution_count": 15,
   "metadata": {},
   "outputs": [],
   "source": [
    "from helpers.text_processing import find_term_typos, create_typos_map"
   ]
  },
  {
   "cell_type": "code",
   "execution_count": 16,
   "metadata": {},
   "outputs": [
    {
     "data": {
      "text/html": [
       "<div>\n",
       "<style scoped>\n",
       "    .dataframe tbody tr th:only-of-type {\n",
       "        vertical-align: middle;\n",
       "    }\n",
       "\n",
       "    .dataframe tbody tr th {\n",
       "        vertical-align: top;\n",
       "    }\n",
       "\n",
       "    .dataframe thead th {\n",
       "        text-align: right;\n",
       "    }\n",
       "</style>\n",
       "<table border=\"1\" class=\"dataframe\">\n",
       "  <thead>\n",
       "    <tr style=\"text-align: right;\">\n",
       "      <th></th>\n",
       "      <th>rare_term</th>\n",
       "      <th>popular_term</th>\n",
       "      <th>similarity</th>\n",
       "    </tr>\n",
       "  </thead>\n",
       "  <tbody>\n",
       "    <tr>\n",
       "      <th>0</th>\n",
       "      <td>transcritome</td>\n",
       "      <td>transcriptome</td>\n",
       "      <td>0.960000</td>\n",
       "    </tr>\n",
       "    <tr>\n",
       "      <th>1</th>\n",
       "      <td>transciptome</td>\n",
       "      <td>transcriptome</td>\n",
       "      <td>0.960000</td>\n",
       "    </tr>\n",
       "    <tr>\n",
       "      <th>2</th>\n",
       "      <td>tanscriptome</td>\n",
       "      <td>transcriptome</td>\n",
       "      <td>0.960000</td>\n",
       "    </tr>\n",
       "    <tr>\n",
       "      <th>3</th>\n",
       "      <td>microbome</td>\n",
       "      <td>microbiome</td>\n",
       "      <td>0.947368</td>\n",
       "    </tr>\n",
       "    <tr>\n",
       "      <th>4</th>\n",
       "      <td>protenome</td>\n",
       "      <td>proteome</td>\n",
       "      <td>0.941176</td>\n",
       "    </tr>\n",
       "    <tr>\n",
       "      <th>5</th>\n",
       "      <td>o-glycoproteome</td>\n",
       "      <td>glycoproteome</td>\n",
       "      <td>0.928571</td>\n",
       "    </tr>\n",
       "    <tr>\n",
       "      <th>6</th>\n",
       "      <td>n-glycoproteome</td>\n",
       "      <td>glycoproteome</td>\n",
       "      <td>0.928571</td>\n",
       "    </tr>\n",
       "    <tr>\n",
       "      <th>7</th>\n",
       "      <td>glycol-proteome</td>\n",
       "      <td>glycoproteome</td>\n",
       "      <td>0.928571</td>\n",
       "    </tr>\n",
       "    <tr>\n",
       "      <th>8</th>\n",
       "      <td>mirome</td>\n",
       "      <td>mirnome</td>\n",
       "      <td>0.923077</td>\n",
       "    </tr>\n",
       "    <tr>\n",
       "      <th>9</th>\n",
       "      <td>1-metabolome</td>\n",
       "      <td>metabolome</td>\n",
       "      <td>0.909091</td>\n",
       "    </tr>\n",
       "  </tbody>\n",
       "</table>\n",
       "</div>"
      ],
      "text/plain": [
       "         rare_term   popular_term  similarity\n",
       "0     transcritome  transcriptome    0.960000\n",
       "1     transciptome  transcriptome    0.960000\n",
       "2     tanscriptome  transcriptome    0.960000\n",
       "3        microbome     microbiome    0.947368\n",
       "4        protenome       proteome    0.941176\n",
       "5  o-glycoproteome  glycoproteome    0.928571\n",
       "6  n-glycoproteome  glycoproteome    0.928571\n",
       "7  glycol-proteome  glycoproteome    0.928571\n",
       "8           mirome        mirnome    0.923077\n",
       "9     1-metabolome     metabolome    0.909091"
      ]
     },
     "execution_count": 16,
     "metadata": {},
     "output_type": "execute_result"
    }
   ],
   "source": [
    "ome_counts = ome_occurrences.drop_duplicates(['uid', 'term']).term.sorted_value_counts()\n",
    "potential_ome_typos = find_term_typos(ome_counts, TERM_IN_AT_LEAST_N_ARTICLES - 1)\n",
    "potential_ome_typos"
   ]
  },
  {
   "cell_type": "code",
   "execution_count": 17,
   "metadata": {},
   "outputs": [
    {
     "data": {
      "text/plain": [
       "uid\n",
       "31216675     source), it may be possible to evaluate how Omic 1-metabolome relationships and associated path...\n",
       "Name: title_abstract_text_subjects, dtype: object"
      ]
     },
     "execution_count": 17,
     "metadata": {},
     "output_type": "execute_result"
    }
   ],
   "source": [
    "check_usage_in_input('1-metabolome')"
   ]
  },
  {
   "cell_type": "code",
   "execution_count": 18,
   "metadata": {},
   "outputs": [
    {
     "data": {
      "text/plain": [
       "uid\n",
       "22661985    es are applying high-throughput miRNA sequencing (miRNAome) based identification and quantificat...\n",
       "25783038    stemic responses of gut hormones, the circulating miRNAome and the metabolome in a rat model of ...\n",
       "27716141     of PDGF-BB-regulated transcriptome, proteome and miRNAome (3-omics) in PASMCs. The results demo...\n",
       "29312565    hts. Here, we performed an integrated analysis of miRNAome, proteome and metabolome, aimed to in...\n",
       "29703144    of miRNA changes in aneuploid cells (Fig. \\nFig. 1\\nmiRNAome in aneuploid model cell lines. \\na\\...\n",
       "Name: title_abstract_text_subjects, dtype: object"
      ]
     },
     "execution_count": 18,
     "metadata": {},
     "output_type": "execute_result"
    }
   ],
   "source": [
    "check_usage_in_input('miRNAome')"
   ]
  },
  {
   "cell_type": "code",
   "execution_count": 19,
   "metadata": {},
   "outputs": [
    {
     "data": {
      "text/plain": [
       "uid\n",
       "26697401    ome (copy number), transcriptome, translatome and miRome levels (GEO series GSE56654, GSE56552 a...\n",
       "Name: title_abstract_text_subjects, dtype: object"
      ]
     },
     "execution_count": 19,
     "metadata": {},
     "output_type": "execute_result"
    }
   ],
   "source": [
    "check_usage_in_input('miRome')"
   ]
  },
  {
   "cell_type": "code",
   "execution_count": 20,
   "metadata": {},
   "outputs": [
    {
     "data": {
      "text/plain": [
       "uid\n",
       "32318338    publicly available implementations. The packages \\nrexposome\\nomicRexposome\\nexposome\\nOmicsLonD...\n",
       "Name: title_abstract_text_subjects, dtype: object"
      ]
     },
     "execution_count": 20,
     "metadata": {},
     "output_type": "execute_result"
    }
   ],
   "source": [
    "check_usage_in_input('rexposome')"
   ]
  },
  {
   "cell_type": "code",
   "execution_count": 21,
   "metadata": {},
   "outputs": [
    {
     "data": {
      "text/plain": [
       "uid\n",
       "32076369    gical data such as lipidome, phosphoproteome, and glycol-proteome. Multi-omics data generated fo...\n",
       "Name: title_abstract_text_subjects, dtype: object"
      ]
     },
     "execution_count": 21,
     "metadata": {},
     "output_type": "execute_result"
    }
   ],
   "source": [
    "check_usage_in_input('glycol-proteome')"
   ]
  },
  {
   "cell_type": "code",
   "execution_count": 22,
   "metadata": {},
   "outputs": [
    {
     "data": {
      "text/plain": [
       "uid\n",
       "31925439    performed using the CasOFFinder tool (\\nhttp://www.rgenome.net/cas-offinder/\\n\\n        \\nStatis...\n",
       "Name: title_abstract_text_subjects, dtype: object"
      ]
     },
     "execution_count": 22,
     "metadata": {},
     "output_type": "execute_result"
    }
   ],
   "source": [
    "check_usage_in_input('rgenome')"
   ]
  },
  {
   "cell_type": "code",
   "execution_count": 23,
   "metadata": {},
   "outputs": [
    {
     "data": {
      "text/plain": [
       "uid\n",
       "26542228    ng a reference annotation comprised of Illumina’s iGenomes, Mark Gerstein’s Pseudogene annotatio...\n",
       "Name: title_abstract_text_subjects, dtype: object"
      ]
     },
     "execution_count": 23,
     "metadata": {},
     "output_type": "execute_result"
    }
   ],
   "source": [
    "check_usage_in_input('iGenomes')"
   ]
  },
  {
   "cell_type": "code",
   "execution_count": 24,
   "metadata": {},
   "outputs": [
    {
     "data": {
      "text/plain": [
       "uid\n",
       "25364758    versa\\nThe seminal work of Hawkins et al. (\\nhttp://cancergenome.nih.gov/\\nhttp://www.roadmapepi...\n",
       "26239918    ownloaded from TCGA data portal (level 3; \\nhttp://cancergenome.nih.gov\\nKnown methylated CRC ge...\n",
       "26256959    f commonly mutated genes.\\nBeyond \\nin vitro\\nhttp://cancergenome.nih.gov\\nhttp://www.cbioportal...\n",
       "26283178    ach step can be found in Additional files \\nhttp://cancergenome.nih.gov/\\n\\n      \\nResults and ...\n",
       "26396172    ns in Cancer (COSMIC, \\nhttp://cancer.sanger.ac.uk/cancergenome/projects/cosmic\\nhttp://www.myca...\n",
       "Name: title_abstract_text_subjects, dtype: object"
      ]
     },
     "execution_count": 24,
     "metadata": {},
     "output_type": "execute_result"
    }
   ],
   "source": [
    "check_usage_in_input('cancergenome')"
   ]
  },
  {
   "cell_type": "code",
   "execution_count": 25,
   "metadata": {},
   "outputs": [],
   "source": [
    "is_typo_subset_or_variant = {\n",
    "    ('transcritome', 'transcriptome'): True,\n",
    "    ('transciptome', 'transcriptome'): True,\n",
    "    ('tanscriptome', 'transcriptome'): True,\n",
    "    ('microbome', 'microbiome'): True,\n",
    "    ('protenome', 'proteome'): True,\n",
    "    # (neither n- nor o- is frequent enough on its own)\n",
    "    ('o-glycoproteome', 'glycoproteome'): True,\n",
    "    ('n-glycoproteome', 'glycoproteome'): True,\n",
    "    ('glycol-proteome', 'glycoproteome'): True, # note \"glycol\" instead of \"glyco\"\n",
    "    ('mirome', 'mirnome'): True,\n",
    "    ('1-metabolome', 'metabolome'): True\n",
    "}\n",
    "ome_typos_map = create_typos_map(potential_ome_typos, is_typo_subset_or_variant)"
   ]
  },
  {
   "cell_type": "code",
   "execution_count": 26,
   "metadata": {},
   "outputs": [
    {
     "data": {
      "text/plain": [
       "mirome             7\n",
       "transciptome       2\n",
       "n-glycoproteome    2\n",
       "protenome          1\n",
       "1-metabolome       1\n",
       "tanscriptome       1\n",
       "o-glycoproteome    1\n",
       "microbome          1\n",
       "transcritome       1\n",
       "glycol-proteome    1\n",
       "Name: term, dtype: int64"
      ]
     },
     "execution_count": 26,
     "metadata": {},
     "output_type": "execute_result"
    }
   ],
   "source": [
    "replaced = ome_occurrences.term[ome_occurrences.term.isin(ome_typos_map)]\n",
    "replaced.value_counts()"
   ]
  },
  {
   "cell_type": "code",
   "execution_count": 27,
   "metadata": {},
   "outputs": [
    {
     "data": {
      "text/plain": [
       "18"
      ]
     },
     "execution_count": 27,
     "metadata": {},
     "output_type": "execute_result"
    }
   ],
   "source": [
    "len(replaced)"
   ]
  },
  {
   "cell_type": "code",
   "execution_count": 28,
   "metadata": {},
   "outputs": [],
   "source": [
    "ome_occurrences.term = ome_occurrences.term.replace(ome_typos_map)"
   ]
  },
  {
   "cell_type": "markdown",
   "metadata": {},
   "source": [
    "### 1.3 Replace synonymous and narrow terms"
   ]
  },
  {
   "cell_type": "code",
   "execution_count": 29,
   "metadata": {},
   "outputs": [],
   "source": [
    "ome_replacements = {}"
   ]
  },
  {
   "cell_type": "markdown",
   "metadata": {},
   "source": [
    "#### miRNAomics → miRNomics"
   ]
  },
  {
   "cell_type": "markdown",
   "metadata": {},
   "source": [
    "miRNAome is more popular name for -ome, while miRNomics is more popular for -omics."
   ]
  },
  {
   "cell_type": "code",
   "execution_count": 30,
   "metadata": {},
   "outputs": [
    {
     "data": {
      "text/plain": [
       "mirnome     19\n",
       "mirnaome    24\n",
       "Name: term, dtype: int64"
      ]
     },
     "execution_count": 30,
     "metadata": {},
     "output_type": "execute_result"
    }
   ],
   "source": [
    "ome_occurrences.term.value_counts().loc[['mirnome', 'mirnaome']]"
   ]
  },
  {
   "cell_type": "markdown",
   "metadata": {},
   "source": [
    "As I use -omcis for later on, for consistency I will change miRNAome → miRNome"
   ]
  },
  {
   "cell_type": "code",
   "execution_count": 31,
   "metadata": {},
   "outputs": [],
   "source": [
    "ome_replacements['miRNAome'] = 'miRNome'"
   ]
  },
  {
   "cell_type": "markdown",
   "metadata": {},
   "source": [
    "#### Cancer genome → genome"
   ]
  },
  {
   "cell_type": "code",
   "execution_count": 32,
   "metadata": {},
   "outputs": [
    {
     "data": {
      "text/plain": [
       "genome           5478\n",
       "cancer-genome       5\n",
       "Name: term, dtype: int64"
      ]
     },
     "execution_count": 32,
     "metadata": {},
     "output_type": "execute_result"
    }
   ],
   "source": [
    "ome_occurrences.term.value_counts().loc[['genome', 'cancer-genome']]"
   ]
  },
  {
   "cell_type": "code",
   "execution_count": 33,
   "metadata": {},
   "outputs": [],
   "source": [
    "ome_replacements['cancer-genome'] = 'genome'"
   ]
  },
  {
   "cell_type": "markdown",
   "metadata": {},
   "source": [
    "#### Host microbiome → microbiome"
   ]
  },
  {
   "cell_type": "code",
   "execution_count": 34,
   "metadata": {},
   "outputs": [
    {
     "data": {
      "text/plain": [
       "microbiome         2041\n",
       "host-microbiome      18\n",
       "Name: term, dtype: int64"
      ]
     },
     "execution_count": 34,
     "metadata": {},
     "output_type": "execute_result"
    }
   ],
   "source": [
    "ome_occurrences.term.value_counts().loc[['microbiome', 'host-microbiome']]"
   ]
  },
  {
   "cell_type": "code",
   "execution_count": 35,
   "metadata": {},
   "outputs": [],
   "source": [
    "ome_replacements['host-microbiome'] = 'microbiome'"
   ]
  },
  {
   "cell_type": "markdown",
   "metadata": {},
   "source": [
    "#### Replace the values"
   ]
  },
  {
   "cell_type": "code",
   "execution_count": 36,
   "metadata": {},
   "outputs": [],
   "source": [
    "ome_occurrences.term = ome_occurrences.term.replace(\n",
    "    {k.lower(): v.lower() for k, v in ome_replacements.items()}\n",
    ")"
   ]
  },
  {
   "cell_type": "markdown",
   "metadata": {},
   "source": [
    "### 1.4 Summarise popular \\*ome terms"
   ]
  },
  {
   "cell_type": "code",
   "execution_count": 37,
   "metadata": {},
   "outputs": [
    {
     "data": {
      "text/plain": [
       "index\n",
       "genome                 1467\n",
       "transcriptome           797\n",
       "proteome                574\n",
       "metabolome              396\n",
       "microbiome              297\n",
       "epigenome               180\n",
       "whole-genome            132\n",
       "exome                   118\n",
       "metagenome               77\n",
       "methylome                70\n",
       "interactome              69\n",
       "phenome                  52\n",
       "whole-exome              49\n",
       "lipidome                 43\n",
       "phosphoproteome          36\n",
       "metatranscriptome        30\n",
       "secretome                29\n",
       "metaproteome             23\n",
       "exposome                 18\n",
       "whole-transcriptome      18\n",
       "translatome              16\n",
       "mirnome                  14\n",
       "virome                   12\n",
       "fluxome                  11\n",
       "peptidome                 9\n",
       "regulome                  9\n",
       "glycome                   8\n",
       "immunome                  8\n",
       "degradome                 7\n",
       "glycoproteome             7\n",
       "pan-genome                6\n",
       "kinome                    5\n",
       "mycobiome                 5\n",
       "Name: term, dtype: int64"
      ]
     },
     "execution_count": 37,
     "metadata": {},
     "output_type": "execute_result"
    }
   ],
   "source": [
    "ome_counts = ome_occurrences.drop_duplicates(['uid', 'term']).term.sorted_value_counts()\n",
    "ome_common_counts = ome_counts[ome_counts >= TERM_IN_AT_LEAST_N_ARTICLES]\n",
    "ome_common_counts"
   ]
  },
  {
   "cell_type": "code",
   "execution_count": 38,
   "metadata": {},
   "outputs": [
    {
     "data": {
      "text/plain": [
       "18    exposome\n",
       "Name: index, dtype: object"
      ]
     },
     "execution_count": 38,
     "metadata": {},
     "output_type": "execute_result"
    }
   ],
   "source": [
    "ome_common_terms = Series(ome_common_counts.index)\n",
    "ome_common_terms[ome_common_terms.str.endswith('some')]"
   ]
  },
  {
   "cell_type": "markdown",
   "metadata": {},
   "source": [
    "### 2. Lookup by omics and adjectives"
   ]
  },
  {
   "cell_type": "code",
   "execution_count": 39,
   "metadata": {},
   "outputs": [
    {
     "data": {
      "text/plain": [
       "\u001b[0;31mSignature:\u001b[0m \u001b[0mget_omics_regexp\u001b[0m\u001b[0;34m(\u001b[0m\u001b[0;34m)\u001b[0m \u001b[0;34m->\u001b[0m \u001b[0mstr\u001b[0m\u001b[0;34m\u001b[0m\u001b[0;34m\u001b[0m\u001b[0m\n",
       "\u001b[0;31mDocstring:\u001b[0m <no docstring>\n",
       "\u001b[0;31mSource:\u001b[0m   \n",
       "\u001b[0;32mdef\u001b[0m \u001b[0mget_omics_regexp\u001b[0m\u001b[0;34m(\u001b[0m\u001b[0;34m)\u001b[0m \u001b[0;34m->\u001b[0m \u001b[0mstr\u001b[0m\u001b[0;34m:\u001b[0m\u001b[0;34m\u001b[0m\n",
       "\u001b[0;34m\u001b[0m    \u001b[0;32mreturn\u001b[0m \u001b[0;34m(\u001b[0m\u001b[0;34m\u001b[0m\n",
       "\u001b[0;34m\u001b[0m        \u001b[0;31m# use look-ahead to allow for overlaps\u001b[0m\u001b[0;34m\u001b[0m\n",
       "\u001b[0;34m\u001b[0m        \u001b[0;34m'(?='\u001b[0m\u001b[0;34m\u001b[0m\n",
       "\u001b[0;34m\u001b[0m            \u001b[0;34mrf'(?:^|\\s|{separators_re}|omic-)'\u001b[0m\u001b[0;34m\u001b[0m\n",
       "\u001b[0;34m\u001b[0m            \u001b[0;31m# match '*-omic', '*-*omic', '*omic'\u001b[0m\u001b[0;34m\u001b[0m\n",
       "\u001b[0;34m\u001b[0m            \u001b[0;34m'('\u001b[0m\u001b[0;34m\u001b[0m\n",
       "\u001b[0;34m\u001b[0m                \u001b[0;31m# handle both *omic-*omic and *-*omic\u001b[0m\u001b[0;34m\u001b[0m\n",
       "\u001b[0;34m\u001b[0m                \u001b[0;34mr'(?:\\w+)omic'\u001b[0m\u001b[0;34m\u001b[0m\n",
       "\u001b[0;34m\u001b[0m                \u001b[0;34m'|'\u001b[0m\u001b[0;34m\u001b[0m\n",
       "\u001b[0;34m\u001b[0m                \u001b[0;34mr'(?:(?:\\w+-\\w*)|\\w+)omic'\u001b[0m\u001b[0;34m\u001b[0m\n",
       "\u001b[0;34m\u001b[0m            \u001b[0;34m')'\u001b[0m\u001b[0;34m\u001b[0m\n",
       "\u001b[0;34m\u001b[0m            \u001b[0;31m# match both *omic and omics, but capture only \"omic\" part\u001b[0m\u001b[0;34m\u001b[0m\n",
       "\u001b[0;34m\u001b[0m            \u001b[0;34m'(?:s)?'\u001b[0m\u001b[0;34m\u001b[0m\n",
       "\u001b[0;34m\u001b[0m            \u001b[0;34mrf'(?:\\s|$|{separators_re}|{final_dot_not_url_part}|-)'\u001b[0m\u001b[0;34m\u001b[0m\n",
       "\u001b[0;34m\u001b[0m        \u001b[0;34m')'\u001b[0m\u001b[0;34m\u001b[0m\n",
       "\u001b[0;34m\u001b[0m    \u001b[0;34m)\u001b[0m\u001b[0;34m\u001b[0m\u001b[0;34m\u001b[0m\u001b[0m\n",
       "\u001b[0;31mFile:\u001b[0m      ~/multi-omics/omics.py\n",
       "\u001b[0;31mType:\u001b[0m      function\n"
      ]
     },
     "metadata": {},
     "output_type": "display_data"
    }
   ],
   "source": [
    "from omics import get_omics_regexp\n",
    "\n",
    "omics_re = get_omics_regexp()\n",
    "get_omics_regexp??"
   ]
  },
  {
   "cell_type": "code",
   "execution_count": 40,
   "metadata": {},
   "outputs": [
    {
     "data": {
      "text/plain": [
       "uid\n",
       "23105932    endium and integrative omics analyses, so-called \"integromics\", have extended our understanding ...\n",
       "24299457                                           Tamoxifen integromics and personalized medicine: dynamic mod\n",
       "25887273    nd reveals micronome synergism. \\nThe avalanche of integromics and panomics approaches shifted t...\n",
       "26110022                                     DNA microarray integromics analysis platform. \\nThe study of inter\n",
       "27255914    l explore the essential elements of assembling an integromics framework from a more detailed per...\n",
       "Name: title_abstract_text_subjects, dtype: object"
      ]
     },
     "execution_count": 40,
     "metadata": {},
     "output_type": "execute_result"
    }
   ],
   "source": [
    "check_usage_in_input('integromics')"
   ]
  },
  {
   "cell_type": "code",
   "execution_count": 41,
   "metadata": {},
   "outputs": [
    {
     "data": {
      "text/plain": [
       "uid\n",
       "19837627    s on metabolomics data management, normalization, meta-omics data analysis, and an integrative a...\n",
       "24624120     high-resolution molecular approaches, so called “meta-omics”, are now allowing concrete linkage...\n",
       "26315987    nd us through the application of high-resolution \"meta-omics\". Metaproteomics offers the ability...\n",
       "28724401    l diversification within the lichen microbiota by meta-omics. \\nRecent evidence of specific bact...\n",
       "28744486    odontal ligament and alveolar bone. We employed a meta-omics approach that included microbial 16...\n",
       "Name: title_abstract_text_subjects, dtype: object"
      ]
     },
     "execution_count": 41,
     "metadata": {},
     "output_type": "execute_result"
    }
   ],
   "source": [
    "check_usage_in_input('meta-omics')"
   ]
  },
  {
   "cell_type": "code",
   "execution_count": 42,
   "metadata": {},
   "outputs": [
    {
     "data": {
      "text/plain": [
       "uid\n",
       "19996478    gene expression and function. This is called the \"post-genomic area\" by some authors or \"functio...\n",
       "20821203     the sequencing of complete genomes and efficient post-genomic approaches provide the basis for ...\n",
       "22303399    ities of integrative omics. Since the dawn of the post-genomic era a myriad of novel high-throug...\n",
       "22319563    iverse networks. State-of-the-art technologies in post-genomic science offer ways to inspect and...\n",
       "24851096    ptome consists of approximately 25,000 genes. The post-genomic era has provided a wealth of nove...\n",
       "Name: title_abstract_text_subjects, dtype: object"
      ]
     },
     "execution_count": 42,
     "metadata": {},
     "output_type": "execute_result"
    }
   ],
   "source": [
    "check_usage_in_input('post-genomic')"
   ]
  },
  {
   "cell_type": "code",
   "execution_count": 43,
   "metadata": {},
   "outputs": [
    {
     "data": {
      "text/plain": [
       "uid\n",
       "27716141    B-regulated transcriptome, proteome and miRNAome (3-omics) in PASMCs. The results demonstrated t...\n",
       "28450497                                         Integrating 3-omics data analyze rat lung tissue of COPD state\n",
       "29888072    y, on 20 successive and random splits of the TCGA 3-omics dataset in training (66%) and test (33...\n",
       "Name: title_abstract_text_subjects, dtype: object"
      ]
     },
     "execution_count": 43,
     "metadata": {},
     "output_type": "execute_result"
    }
   ],
   "source": [
    "check_usage_in_input('3-omics')"
   ]
  },
  {
   "cell_type": "code",
   "execution_count": 44,
   "metadata": {},
   "outputs": [],
   "source": [
    "multi_omic = {\n",
    "    'multi-omic',\n",
    "    'muti-omic',\n",
    "    'mutli-omic',\n",
    "    'multiomic',\n",
    "    'cross-omic',\n",
    "    'panomic',\n",
    "    'pan-omic',\n",
    "    'trans-omic',\n",
    "    'transomic',\n",
    "    'four-omic',\n",
    "    'multiple-omic',\n",
    "    'inter-omic',\n",
    "    'poly-omic',\n",
    "    'polyomic',\n",
    "    'integromic',\n",
    "    'integrated-omic',\n",
    "    'integrative-omic',\n",
    "    '3-omic'\n",
    "}\n",
    "\n",
    "tools = {\n",
    "    # MixOmics\n",
    "    'mixomic',\n",
    "    # MetaRbolomics\n",
    "    'metarbolomic',\n",
    "    # MinOmics\n",
    "    'minomic',\n",
    "    # LinkedOmics - TCGA portal\n",
    "    'linkedomic',\n",
    "    # Mergeomics - https://doi.org/10.1186/s12864-016-3198-9\n",
    "    'mergeomic'\n",
    "}\n",
    "\n",
    "vague = {\n",
    "    'single-omic'\n",
    "}\n",
    "\n",
    "adjectives = {\n",
    "    'economic',\n",
    "    'socio-economic',\n",
    "    'socioeconomic',\n",
    "    'taxonomic',\n",
    "    'syndromic',\n",
    "    'non-syndromic',\n",
    "    'agronomic',\n",
    "    'anatomic',\n",
    "    'autonomic',\n",
    "    'atomic',\n",
    "    'palindromic',\n",
    "    # temporal\n",
    "    'postgenomic',\n",
    "    'post-genomic'\n",
    "}\n",
    "\n",
    "not_an_omic = {\n",
    "    'non-omic',  # this on was straightforward :)\n",
    "    *adjectives,\n",
    "    *multi_omic,\n",
    "    *tools,\n",
    "    *vague\n",
    "}"
   ]
  },
  {
   "cell_type": "code",
   "execution_count": 45,
   "metadata": {},
   "outputs": [
    {
     "data": {
      "text/html": [
       "<div>\n",
       "<style scoped>\n",
       "    .dataframe tbody tr th:only-of-type {\n",
       "        vertical-align: middle;\n",
       "    }\n",
       "\n",
       "    .dataframe tbody tr th {\n",
       "        vertical-align: top;\n",
       "    }\n",
       "\n",
       "    .dataframe thead th {\n",
       "        text-align: right;\n",
       "    }\n",
       "</style>\n",
       "<table border=\"1\" class=\"dataframe\">\n",
       "  <thead>\n",
       "    <tr style=\"text-align: right;\">\n",
       "      <th></th>\n",
       "      <th>uid</th>\n",
       "      <th>match</th>\n",
       "      <th>term</th>\n",
       "    </tr>\n",
       "  </thead>\n",
       "  <tbody>\n",
       "    <tr>\n",
       "      <th>0</th>\n",
       "      <td>15687700</td>\n",
       "      <td>0</td>\n",
       "      <td>genomic</td>\n",
       "    </tr>\n",
       "    <tr>\n",
       "      <th>2</th>\n",
       "      <td>15687839</td>\n",
       "      <td>0</td>\n",
       "      <td>genomic</td>\n",
       "    </tr>\n",
       "  </tbody>\n",
       "</table>\n",
       "</div>"
      ],
      "text/plain": [
       "        uid  match     term\n",
       "0  15687700      0  genomic\n",
       "2  15687839      0  genomic"
      ]
     },
     "execution_count": 45,
     "metadata": {},
     "output_type": "execute_result"
    }
   ],
   "source": [
    "omic_occurrences = (\n",
    "    literature['title_abstract_text_subjects'].str.lower()\n",
    "    .str.extractall(omics_re)[0]\n",
    "    .to_frame('term').reset_index()\n",
    ")\n",
    "omic_occurrences = omic_occurrences[~omic_occurrences.term.isin(not_an_omic)]\n",
    "omic_occurrences.head(2)"
   ]
  },
  {
   "cell_type": "markdown",
   "metadata": {},
   "source": [
    "### 2.1 Harmonise hyphenation"
   ]
  },
  {
   "cell_type": "code",
   "execution_count": 46,
   "metadata": {},
   "outputs": [
    {
     "data": {
      "text/html": [
       "<div>\n",
       "<style scoped>\n",
       "    .dataframe tbody tr th:only-of-type {\n",
       "        vertical-align: middle;\n",
       "    }\n",
       "\n",
       "    .dataframe tbody tr th {\n",
       "        vertical-align: top;\n",
       "    }\n",
       "\n",
       "    .dataframe thead th {\n",
       "        text-align: right;\n",
       "    }\n",
       "</style>\n",
       "<table border=\"1\" class=\"dataframe\">\n",
       "  <thead>\n",
       "    <tr style=\"text-align: right;\">\n",
       "      <th></th>\n",
       "      <th>more_popular</th>\n",
       "      <th>less_popular</th>\n",
       "    </tr>\n",
       "  </thead>\n",
       "  <tbody>\n",
       "    <tr>\n",
       "      <th>0</th>\n",
       "      <td>metabolomic</td>\n",
       "      <td>meta-bolomic</td>\n",
       "    </tr>\n",
       "    <tr>\n",
       "      <th>1</th>\n",
       "      <td>metagenomic</td>\n",
       "      <td>meta-genomic</td>\n",
       "    </tr>\n",
       "    <tr>\n",
       "      <th>2</th>\n",
       "      <td>epigenomic</td>\n",
       "      <td>epi-genomic</td>\n",
       "    </tr>\n",
       "    <tr>\n",
       "      <th>3</th>\n",
       "      <td>lipidomic</td>\n",
       "      <td>lipid-omic</td>\n",
       "    </tr>\n",
       "    <tr>\n",
       "      <th>4</th>\n",
       "      <td>metaproteomic</td>\n",
       "      <td>meta-proteomic</td>\n",
       "    </tr>\n",
       "    <tr>\n",
       "      <th>5</th>\n",
       "      <td>metatranscriptomic</td>\n",
       "      <td>meta-transcriptomic</td>\n",
       "    </tr>\n",
       "    <tr>\n",
       "      <th>6</th>\n",
       "      <td>proteogenomic</td>\n",
       "      <td>proteo-genomic</td>\n",
       "    </tr>\n",
       "    <tr>\n",
       "      <th>7</th>\n",
       "      <td>pharmacogenomic</td>\n",
       "      <td>pharmaco-genomic</td>\n",
       "    </tr>\n",
       "    <tr>\n",
       "      <th>8</th>\n",
       "      <td>phosphoproteomic</td>\n",
       "      <td>phospho-proteomic</td>\n",
       "    </tr>\n",
       "    <tr>\n",
       "      <th>9</th>\n",
       "      <td>meta-omic</td>\n",
       "      <td>metaomic</td>\n",
       "    </tr>\n",
       "    <tr>\n",
       "      <th>10</th>\n",
       "      <td>exometabolomic</td>\n",
       "      <td>exo-metabolomic</td>\n",
       "    </tr>\n",
       "    <tr>\n",
       "      <th>11</th>\n",
       "      <td>immunogenomic</td>\n",
       "      <td>immuno-genomic</td>\n",
       "    </tr>\n",
       "    <tr>\n",
       "      <th>12</th>\n",
       "      <td>proteo-transcriptomic</td>\n",
       "      <td>proteotranscriptomic</td>\n",
       "    </tr>\n",
       "    <tr>\n",
       "      <th>13</th>\n",
       "      <td>non-genomic</td>\n",
       "      <td>nongenomic</td>\n",
       "    </tr>\n",
       "    <tr>\n",
       "      <th>14</th>\n",
       "      <td>metaproteogenomic</td>\n",
       "      <td>meta-proteogenomic</td>\n",
       "    </tr>\n",
       "    <tr>\n",
       "      <th>15</th>\n",
       "      <td>cellomic</td>\n",
       "      <td>cell-omic</td>\n",
       "    </tr>\n",
       "    <tr>\n",
       "      <th>16</th>\n",
       "      <td>multigenomic</td>\n",
       "      <td>multi-genomic</td>\n",
       "    </tr>\n",
       "    <tr>\n",
       "      <th>17</th>\n",
       "      <td>epi-transcriptomic</td>\n",
       "      <td>epitranscriptomic</td>\n",
       "    </tr>\n",
       "    <tr>\n",
       "      <th>18</th>\n",
       "      <td>meta-metabolomic</td>\n",
       "      <td>metametabolomic</td>\n",
       "    </tr>\n",
       "    <tr>\n",
       "      <th>19</th>\n",
       "      <td>mult-omic</td>\n",
       "      <td>multomic</td>\n",
       "    </tr>\n",
       "    <tr>\n",
       "      <th>20</th>\n",
       "      <td>systems-genomic</td>\n",
       "      <td>systemsgenomic</td>\n",
       "    </tr>\n",
       "    <tr>\n",
       "      <th>21</th>\n",
       "      <td>multi-proteomic</td>\n",
       "      <td>multiproteomic</td>\n",
       "    </tr>\n",
       "    <tr>\n",
       "      <th>22</th>\n",
       "      <td>endo-metabolomic</td>\n",
       "      <td>endometabolomic</td>\n",
       "    </tr>\n",
       "    <tr>\n",
       "      <th>23</th>\n",
       "      <td>imaginggenomic</td>\n",
       "      <td>imaging-genomic</td>\n",
       "    </tr>\n",
       "    <tr>\n",
       "      <th>24</th>\n",
       "      <td>immuno-proteomic</td>\n",
       "      <td>immunoproteomic</td>\n",
       "    </tr>\n",
       "  </tbody>\n",
       "</table>\n",
       "</div>"
      ],
      "text/plain": [
       "             more_popular          less_popular\n",
       "0             metabolomic          meta-bolomic\n",
       "1             metagenomic          meta-genomic\n",
       "2              epigenomic           epi-genomic\n",
       "3               lipidomic            lipid-omic\n",
       "4           metaproteomic        meta-proteomic\n",
       "5      metatranscriptomic   meta-transcriptomic\n",
       "6           proteogenomic        proteo-genomic\n",
       "7         pharmacogenomic      pharmaco-genomic\n",
       "8        phosphoproteomic     phospho-proteomic\n",
       "9               meta-omic              metaomic\n",
       "10         exometabolomic       exo-metabolomic\n",
       "11          immunogenomic        immuno-genomic\n",
       "12  proteo-transcriptomic  proteotranscriptomic\n",
       "13            non-genomic            nongenomic\n",
       "14      metaproteogenomic    meta-proteogenomic\n",
       "15               cellomic             cell-omic\n",
       "16           multigenomic         multi-genomic\n",
       "17     epi-transcriptomic     epitranscriptomic\n",
       "18       meta-metabolomic       metametabolomic\n",
       "19              mult-omic              multomic\n",
       "20        systems-genomic        systemsgenomic\n",
       "21        multi-proteomic        multiproteomic\n",
       "22       endo-metabolomic       endometabolomic\n",
       "23         imaginggenomic       imaging-genomic\n",
       "24       immuno-proteomic       immunoproteomic"
      ]
     },
     "execution_count": 46,
     "metadata": {},
     "output_type": "execute_result"
    }
   ],
   "source": [
    "hyphenation_rules = report_hyphenation_trends(omic_occurrences.term)\n",
    "hyphenation_rules"
   ]
  },
  {
   "cell_type": "code",
   "execution_count": 47,
   "metadata": {},
   "outputs": [],
   "source": [
    "omic_occurrences.term = harmonise_hyphenation(omic_occurrences.term, hyphenation_rules)"
   ]
  },
  {
   "cell_type": "markdown",
   "metadata": {},
   "source": [
    "### 2.2 Fix typos"
   ]
  },
  {
   "cell_type": "code",
   "execution_count": 48,
   "metadata": {},
   "outputs": [
    {
     "data": {
      "text/html": [
       "<div>\n",
       "<style scoped>\n",
       "    .dataframe tbody tr th:only-of-type {\n",
       "        vertical-align: middle;\n",
       "    }\n",
       "\n",
       "    .dataframe tbody tr th {\n",
       "        vertical-align: top;\n",
       "    }\n",
       "\n",
       "    .dataframe thead th {\n",
       "        text-align: right;\n",
       "    }\n",
       "</style>\n",
       "<table border=\"1\" class=\"dataframe\">\n",
       "  <thead>\n",
       "    <tr style=\"text-align: right;\">\n",
       "      <th></th>\n",
       "      <th>rare_term</th>\n",
       "      <th>popular_term</th>\n",
       "      <th>similarity</th>\n",
       "    </tr>\n",
       "  </thead>\n",
       "  <tbody>\n",
       "    <tr>\n",
       "      <th>0</th>\n",
       "      <td>phoshphoproteomic</td>\n",
       "      <td>phosphoproteomic</td>\n",
       "      <td>0.969697</td>\n",
       "    </tr>\n",
       "    <tr>\n",
       "      <th>1</th>\n",
       "      <td>trascriptomic</td>\n",
       "      <td>transcriptomic</td>\n",
       "      <td>0.962963</td>\n",
       "    </tr>\n",
       "    <tr>\n",
       "      <th>2</th>\n",
       "      <td>transriptomic</td>\n",
       "      <td>transcriptomic</td>\n",
       "      <td>0.962963</td>\n",
       "    </tr>\n",
       "    <tr>\n",
       "      <th>3</th>\n",
       "      <td>transcripomic</td>\n",
       "      <td>transcriptomic</td>\n",
       "      <td>0.962963</td>\n",
       "    </tr>\n",
       "    <tr>\n",
       "      <th>4</th>\n",
       "      <td>transciptomic</td>\n",
       "      <td>transcriptomic</td>\n",
       "      <td>0.962963</td>\n",
       "    </tr>\n",
       "    <tr>\n",
       "      <th>5</th>\n",
       "      <td>trancriptomic</td>\n",
       "      <td>transcriptomic</td>\n",
       "      <td>0.962963</td>\n",
       "    </tr>\n",
       "    <tr>\n",
       "      <th>6</th>\n",
       "      <td>metageonomic</td>\n",
       "      <td>metagenomic</td>\n",
       "      <td>0.956522</td>\n",
       "    </tr>\n",
       "    <tr>\n",
       "      <th>7</th>\n",
       "      <td>metaobolomic</td>\n",
       "      <td>metabolomic</td>\n",
       "      <td>0.956522</td>\n",
       "    </tr>\n",
       "    <tr>\n",
       "      <th>8</th>\n",
       "      <td>metabotranscriptomic</td>\n",
       "      <td>metatranscriptomic</td>\n",
       "      <td>0.947368</td>\n",
       "    </tr>\n",
       "    <tr>\n",
       "      <th>9</th>\n",
       "      <td>mirnaomic</td>\n",
       "      <td>mirnomic</td>\n",
       "      <td>0.941176</td>\n",
       "    </tr>\n",
       "    <tr>\n",
       "      <th>10</th>\n",
       "      <td>metranscriptomic</td>\n",
       "      <td>metatranscriptomic</td>\n",
       "      <td>0.941176</td>\n",
       "    </tr>\n",
       "    <tr>\n",
       "      <th>11</th>\n",
       "      <td>metranscriptomic</td>\n",
       "      <td>transcriptomic</td>\n",
       "      <td>0.933333</td>\n",
       "    </tr>\n",
       "    <tr>\n",
       "      <th>12</th>\n",
       "      <td>miromic</td>\n",
       "      <td>mirnomic</td>\n",
       "      <td>0.933333</td>\n",
       "    </tr>\n",
       "    <tr>\n",
       "      <th>13</th>\n",
       "      <td>n-glycoproteomic</td>\n",
       "      <td>glycoproteomic</td>\n",
       "      <td>0.933333</td>\n",
       "    </tr>\n",
       "    <tr>\n",
       "      <th>14</th>\n",
       "      <td>onomic</td>\n",
       "      <td>ionomic</td>\n",
       "      <td>0.923077</td>\n",
       "    </tr>\n",
       "    <tr>\n",
       "      <th>15</th>\n",
       "      <td>c-metabolomic</td>\n",
       "      <td>metabolomic</td>\n",
       "      <td>0.916667</td>\n",
       "    </tr>\n",
       "    <tr>\n",
       "      <th>16</th>\n",
       "      <td>pharmacoepigenomic</td>\n",
       "      <td>pharmacogenomic</td>\n",
       "      <td>0.909091</td>\n",
       "    </tr>\n",
       "    <tr>\n",
       "      <th>17</th>\n",
       "      <td>metobolomic</td>\n",
       "      <td>metabolomic</td>\n",
       "      <td>0.909091</td>\n",
       "    </tr>\n",
       "    <tr>\n",
       "      <th>18</th>\n",
       "      <td>scepigenomic</td>\n",
       "      <td>epigenomic</td>\n",
       "      <td>0.909091</td>\n",
       "    </tr>\n",
       "    <tr>\n",
       "      <th>19</th>\n",
       "      <td>epigenomomic</td>\n",
       "      <td>epigenomic</td>\n",
       "      <td>0.909091</td>\n",
       "    </tr>\n",
       "  </tbody>\n",
       "</table>\n",
       "</div>"
      ],
      "text/plain": [
       "               rare_term        popular_term  similarity\n",
       "0      phoshphoproteomic    phosphoproteomic    0.969697\n",
       "1          trascriptomic      transcriptomic    0.962963\n",
       "2          transriptomic      transcriptomic    0.962963\n",
       "3          transcripomic      transcriptomic    0.962963\n",
       "4          transciptomic      transcriptomic    0.962963\n",
       "5          trancriptomic      transcriptomic    0.962963\n",
       "6           metageonomic         metagenomic    0.956522\n",
       "7           metaobolomic         metabolomic    0.956522\n",
       "8   metabotranscriptomic  metatranscriptomic    0.947368\n",
       "9              mirnaomic            mirnomic    0.941176\n",
       "10      metranscriptomic  metatranscriptomic    0.941176\n",
       "11      metranscriptomic      transcriptomic    0.933333\n",
       "12               miromic            mirnomic    0.933333\n",
       "13      n-glycoproteomic      glycoproteomic    0.933333\n",
       "14                onomic             ionomic    0.923077\n",
       "15         c-metabolomic         metabolomic    0.916667\n",
       "16    pharmacoepigenomic     pharmacogenomic    0.909091\n",
       "17           metobolomic         metabolomic    0.909091\n",
       "18          scepigenomic          epigenomic    0.909091\n",
       "19          epigenomomic          epigenomic    0.909091"
      ]
     },
     "execution_count": 48,
     "metadata": {},
     "output_type": "execute_result"
    }
   ],
   "source": [
    "omic_counts = omic_occurrences.drop_duplicates(['uid', 'term']).term.sorted_value_counts()\n",
    "potential_omic_typos = find_term_typos(omic_counts, TERM_IN_AT_LEAST_N_ARTICLES - 1)\n",
    "potential_omic_typos"
   ]
  },
  {
   "cell_type": "code",
   "execution_count": 49,
   "metadata": {},
   "outputs": [
    {
     "data": {
      "text/plain": [
       "uid\n",
       "26870025    against pathogenic infections. In addition, other non-omic techniques such as real-time PCR (qPC...\n",
       "28935855    the extent of ethnic variation at these omics and non-omics biomarkers. It is evident that there...\n",
       "Name: title_abstract_text_subjects, dtype: object"
      ]
     },
     "execution_count": 49,
     "metadata": {},
     "output_type": "execute_result"
    }
   ],
   "source": [
    "check_usage_in_input('non-omic')"
   ]
  },
  {
   "cell_type": "code",
   "execution_count": 50,
   "metadata": {},
   "outputs": [
    {
     "data": {
      "text/plain": [
       "uid\n",
       "30936206    h the Entner-Doudoroff pathway. We integrated the C-metabolomics data with physiological paramet...\n",
       "Name: title_abstract_text_subjects, dtype: object"
      ]
     },
     "execution_count": 50,
     "metadata": {},
     "output_type": "execute_result"
    }
   ],
   "source": [
    "check_usage_in_input('C-metabolomics')"
   ]
  },
  {
   "cell_type": "markdown",
   "metadata": {},
   "source": [
    "Not captured in the text abstract, but full version has 13C, so carbon-13, so type of metabolomics."
   ]
  },
  {
   "cell_type": "code",
   "execution_count": 51,
   "metadata": {},
   "outputs": [
    {
     "data": {
      "text/plain": [
       "uid\n",
       "29312565     consequences in cells. Integrating metabolomics, miRNAomics and proteomics approach and thereby...\n",
       "Name: title_abstract_text_subjects, dtype: object"
      ]
     },
     "execution_count": 51,
     "metadata": {},
     "output_type": "execute_result"
    }
   ],
   "source": [
    "check_usage_in_input('miRNAomics')"
   ]
  },
  {
   "cell_type": "code",
   "execution_count": 52,
   "metadata": {},
   "outputs": [
    {
     "data": {
      "text/plain": [
       "uid\n",
       "28005952    by integrating patient derived transcriptomic and miRomics data into gene/miRNA/transcription fa...\n",
       "Name: title_abstract_text_subjects, dtype: object"
      ]
     },
     "execution_count": 52,
     "metadata": {},
     "output_type": "execute_result"
    }
   ],
   "source": [
    "check_usage_in_input('miRomics')"
   ]
  },
  {
   "cell_type": "code",
   "execution_count": 53,
   "metadata": {},
   "outputs": [
    {
     "data": {
      "text/plain": [
       "uid\n",
       "29927748    MinOmics, an Integrative and Immersive Tool for Mu\n",
       "Name: title_abstract_text_subjects, dtype: object"
      ]
     },
     "execution_count": 53,
     "metadata": {},
     "output_type": "execute_result"
    }
   ],
   "source": [
    "check_usage_in_input('MinOmics')"
   ]
  },
  {
   "cell_type": "code",
   "execution_count": 54,
   "metadata": {},
   "outputs": [
    {
     "data": {
      "text/plain": [
       "uid\n",
       "31555316    been relevant in problem domains ranging across economics, robotics, genomics, chemometrics, and...\n",
       "Name: title_abstract_text_subjects, dtype: object"
      ]
     },
     "execution_count": 54,
     "metadata": {},
     "output_type": "execute_result"
    }
   ],
   "source": [
    "check_usage_in_input('onomic', words=True)"
   ]
  },
  {
   "cell_type": "code",
   "execution_count": 55,
   "metadata": {},
   "outputs": [
    {
     "data": {
      "text/plain": [
       "uid\n",
       "31555316    Multitable Methods for Microbiome Data Integration. The simultaneous study of multiple measureme...\n",
       "Name: title_abstract_text_subjects, dtype: object"
      ]
     },
     "execution_count": 55,
     "metadata": {},
     "output_type": "execute_result"
    }
   ],
   "source": [
    "literature.loc[omic_occurrences[omic_occurrences.term == 'onomic'].uid].title_abstract_text_subjects"
   ]
  },
  {
   "cell_type": "code",
   "execution_count": 56,
   "metadata": {},
   "outputs": [
    {
     "data": {
      "text/plain": [
       "uid\n",
       "31555316     corresponds to a species, and is shaded in by tax onomic family. Species with loadings far from...\n",
       "Name: title_abstract_text_subjects, dtype: object"
      ]
     },
     "execution_count": 56,
     "metadata": {},
     "output_type": "execute_result"
    }
   ],
   "source": [
    "check_usage_in_input(r'\\bonomic', words=False, highlight=' onomic')"
   ]
  },
  {
   "cell_type": "code",
   "execution_count": 57,
   "metadata": {},
   "outputs": [
    {
     "data": {
      "text/plain": [
       "uid\n",
       "25330259     rRNA; to assess the elemental content we employed ionomics by inductively coupled plasma optica...\n",
       "25660284    ranscriptomics, lipidomics, cytomics, metallomics, ionomics, interactomics, and phenomics. These...\n",
       "27821058     salt tolerance, were used to determine changes of ionomic, metabolomic and proteomic profiles i...\n",
       "30904092    nomics, transcriptomics, proteomics, phenomics and ionomics in delineating the complex molecular...\n",
       "31232451    ). Fine isolation of cell components combined with ionomics revealed that more Cd accumulated in...\n",
       "Name: title_abstract_text_subjects, dtype: object"
      ]
     },
     "execution_count": 57,
     "metadata": {},
     "output_type": "execute_result"
    }
   ],
   "source": [
    "check_usage_in_input(' ionomic', words=False)"
   ]
  },
  {
   "cell_type": "code",
   "execution_count": 58,
   "metadata": {},
   "outputs": [],
   "source": [
    "is_typo_subset_or_variant = {\n",
    "    ('phoshphoproteomic', 'phosphoproteomic'): True,\n",
    "    ('transriptomic', 'transcriptomic'): True,\n",
    "    ('transcripomic', 'transcriptomic'): True,\n",
    "    ('transciptomic', 'transcriptomic'): True,\n",
    "    ('trancriptomic', 'transcriptomic'): True,\n",
    "    ('trascriptomic', 'transcriptomic'): True,\n",
    "    ('metageonomic', 'metagenomic'): True,\n",
    "    ('metaobolomic', 'metabolomic'): True,\n",
    "    ('metabotranscriptomic', 'metatranscriptomic'): False,\n",
    "    ('mirnaomic', 'mirnomic'): True,\n",
    "    ('metranscriptomic', 'metatranscriptomic'): True,\n",
    "    ('metranscriptomic', 'transcriptomic'): False,\n",
    "    ('miromic', 'mirnomic'): True,\n",
    "    ('n-glycoproteomic', 'glycoproteomic'): True,\n",
    "    ('onomic', 'ionomic'): False,\n",
    "    ('c-metabolomic', 'metabolomic'): True,\n",
    "    ('pharmacoepigenomic', 'pharmacogenomic'): False,\n",
    "    ('metobolomic', 'metabolomic'): True,\n",
    "    # how to treat single-cell?\n",
    "    ('scepigenomic', 'epigenomic'): True,\n",
    "    #('epitranscriptomic', 'transcriptomic'): False\n",
    "    ('epigenomomic', 'epigenomic'): True,\n",
    "}\n",
    "omic_typos_map = create_typos_map(potential_omic_typos, is_typo_subset_or_variant)"
   ]
  },
  {
   "cell_type": "code",
   "execution_count": 59,
   "metadata": {},
   "outputs": [
    {
     "data": {
      "text/plain": [
       "n-glycoproteomic     8\n",
       "transciptomic        2\n",
       "metranscriptomic     1\n",
       "transcripomic        1\n",
       "scepigenomic         1\n",
       "trascriptomic        1\n",
       "mirnaomic            1\n",
       "epigenomomic         1\n",
       "metobolomic          1\n",
       "miromic              1\n",
       "metaobolomic         1\n",
       "c-metabolomic        1\n",
       "transriptomic        1\n",
       "trancriptomic        1\n",
       "phoshphoproteomic    1\n",
       "metageonomic         1\n",
       "Name: term, dtype: int64"
      ]
     },
     "execution_count": 59,
     "metadata": {},
     "output_type": "execute_result"
    }
   ],
   "source": [
    "replaced = omic_occurrences.term[omic_occurrences.term.isin(omic_typos_map)]\n",
    "replaced.value_counts()"
   ]
  },
  {
   "cell_type": "code",
   "execution_count": 60,
   "metadata": {},
   "outputs": [
    {
     "data": {
      "text/plain": [
       "24"
      ]
     },
     "execution_count": 60,
     "metadata": {},
     "output_type": "execute_result"
    }
   ],
   "source": [
    "len(replaced)"
   ]
  },
  {
   "cell_type": "code",
   "execution_count": 61,
   "metadata": {},
   "outputs": [],
   "source": [
    "omic_occurrences.term = omic_occurrences.term.replace(omic_typos_map)"
   ]
  },
  {
   "cell_type": "markdown",
   "metadata": {},
   "source": [
    "### 2.3 Popular *omic(s) terms:"
   ]
  },
  {
   "cell_type": "code",
   "execution_count": 62,
   "metadata": {},
   "outputs": [
    {
     "data": {
      "text/plain": [
       "index\n",
       "genomics                1315\n",
       "proteomics              1112\n",
       "transcriptomics         1080\n",
       "metabolomics             838\n",
       "epigenomics              266\n",
       "metagenomics             201\n",
       "lipidomics               119\n",
       "metatranscriptomics       68\n",
       "metaproteomics            64\n",
       "pharmacogenomics          58\n",
       "phosphoproteomics         54\n",
       "proteogenomics            52\n",
       "phenomics                 48\n",
       "fluxomics                 35\n",
       "glycomics                 32\n",
       "meta-omics                27\n",
       "metabonomics              23\n",
       "microbiomics              21\n",
       "interactomics             20\n",
       "methylomics               17\n",
       "peptidomics               16\n",
       "radiomics                 16\n",
       "nutrigenomics             14\n",
       "glycoproteomics           13\n",
       "secretomics               12\n",
       "mirnomics                 11\n",
       "toxicogenomics            11\n",
       "phylogenomics             10\n",
       "radiogenomics             10\n",
       "immunogenomics             8\n",
       "pharmacometabolomics       7\n",
       "viromics                   7\n",
       "foodomics                  5\n",
       "ionomics                   5\n",
       "Name: term, dtype: int64"
      ]
     },
     "execution_count": 62,
     "metadata": {},
     "output_type": "execute_result"
    }
   ],
   "source": [
    "omic_counts = omic_occurrences.drop_duplicates(['uid', 'term']).term.sorted_value_counts()\n",
    "omic_counts[omic_counts >= TERM_IN_AT_LEAST_N_ARTICLES].add_suffix('s')"
   ]
  },
  {
   "cell_type": "markdown",
   "metadata": {},
   "source": [
    "### Crude overview"
   ]
  },
  {
   "cell_type": "code",
   "execution_count": 63,
   "metadata": {},
   "outputs": [],
   "source": [
    "ome_terms = Series(ome_counts[ome_counts >= TERM_IN_AT_LEAST_N_ARTICLES].index)\n",
    "omic_terms = Series(omic_counts[omic_counts >= TERM_IN_AT_LEAST_N_ARTICLES].index)"
   ]
  },
  {
   "cell_type": "code",
   "execution_count": 64,
   "metadata": {},
   "outputs": [],
   "source": [
    "assert omics_features.index.name == 'uid'\n",
    "\n",
    "for term in ome_terms:\n",
    "    mentioned_by_uid = set(ome_occurrences[ome_occurrences.term == term].uid)\n",
    "    omics_features['mentions_' + term] = omics_features.index.isin(mentioned_by_uid)\n",
    "\n",
    "for term in omic_terms:\n",
    "    mentioned_by_uid = set(omic_occurrences[omic_occurrences.term == term].uid)\n",
    "    omics_features['mentions_' + term] = omics_features.index.isin(mentioned_by_uid)"
   ]
  },
  {
   "cell_type": "code",
   "execution_count": 65,
   "metadata": {},
   "outputs": [],
   "source": [
    "from helpers.text_processing import prefix_remover\n",
    "\n",
    "ome_terms_mentioned = omics_features['mentions_' + ome_terms].rename(columns=prefix_remover('mentions_'))\n",
    "omic_terms_mentioned = omics_features['mentions_' + omic_terms].rename(columns=prefix_remover('mentions_'))"
   ]
  },
  {
   "cell_type": "code",
   "execution_count": 66,
   "metadata": {},
   "outputs": [],
   "source": [
    "%R library(ComplexUpset);"
   ]
  },
  {
   "cell_type": "code",
   "execution_count": 67,
   "metadata": {},
   "outputs": [
    {
     "name": "stdout",
     "output_type": "stream",
     "text": [
      "[1] \"Dropping 23 empty groups\"\n"
     ]
    },
    {
     "data": {
      "image/png": "[encoded data removed]"
     },
     "metadata": {},
     "output_type": "display_data"
    }
   ],
   "source": [
    "%%R -i ome_terms_mentioned -w 800 -r 100\n",
    "\n",
    "upset(ome_terms_mentioned, colnames(ome_terms_mentioned), min_size=10, width_ratio=0.1)"
   ]
  },
  {
   "cell_type": "code",
   "execution_count": 68,
   "metadata": {},
   "outputs": [
    {
     "name": "stdout",
     "output_type": "stream",
     "text": [
      "[1] \"Dropping 25 empty groups\"\n"
     ]
    },
    {
     "data": {
      "image/png": "[encoded data removed]"
     },
     "metadata": {},
     "output_type": "display_data"
    }
   ],
   "source": [
    "%%R -i omic_terms_mentioned -w 800 -r 100\n",
    "\n",
    "upset(omic_terms_mentioned, colnames(omic_terms_mentioned), min_size=10, width_ratio=0.1)"
   ]
  },
  {
   "cell_type": "markdown",
   "metadata": {},
   "source": [
    "## Merge -ome and -omic terms"
   ]
  },
  {
   "cell_type": "code",
   "execution_count": 69,
   "metadata": {},
   "outputs": [
    {
     "name": "stdout",
     "output_type": "stream",
     "text": [
      "Creating omic whole-genomics\n",
      "Creating omic exomics\n",
      "Creating omic whole-exomics\n",
      "Creating omic exposomics\n",
      "Creating omic whole-transcriptomics\n",
      "Creating omic translatomics\n",
      "Creating omic regulomics\n",
      "Creating omic immunomics\n",
      "Creating omic degradomics\n",
      "Creating omic pan-genomics\n",
      "Creating omic kinomics\n",
      "Creating omic mycobiomics\n"
     ]
    },
    {
     "data": {
      "text/plain": [
       "{'genomics': ['genomic', 'genome'],\n",
       " 'proteomics': ['proteomic', 'proteome'],\n",
       " 'transcriptomics': ['transcriptomic', 'transcriptome'],\n",
       " 'metabolomics': ['metabolomic', 'metabolome'],\n",
       " 'epigenomics': ['epigenomic', 'epigenome'],\n",
       " 'metagenomics': ['metagenomic', 'metagenome'],\n",
       " 'lipidomics': ['lipidomic', 'lipidome'],\n",
       " 'metatranscriptomics': ['metatranscriptomic', 'metatranscriptome'],\n",
       " 'metaproteomics': ['metaproteomic', 'metaproteome'],\n",
       " 'pharmacogenomics': ['pharmacogenomic'],\n",
       " 'phosphoproteomics': ['phosphoproteomic', 'phosphoproteome'],\n",
       " 'proteogenomics': ['proteogenomic'],\n",
       " 'phenomics': ['phenomic', 'phenome'],\n",
       " 'fluxomics': ['fluxomic', 'fluxome'],\n",
       " 'glycomics': ['glycomic', 'glycome'],\n",
       " 'meta-omics': ['meta-omic'],\n",
       " 'metabonomics': ['metabonomic'],\n",
       " 'microbiomics': ['microbiomic', 'microbiome'],\n",
       " 'interactomics': ['interactomic', 'interactome'],\n",
       " 'methylomics': ['methylomic', 'methylome'],\n",
       " 'peptidomics': ['peptidomic', 'peptidome'],\n",
       " 'radiomics': ['radiomic'],\n",
       " 'nutrigenomics': ['nutrigenomic'],\n",
       " 'glycoproteomics': ['glycoproteomic', 'glycoproteome'],\n",
       " 'secretomics': ['secretomic', 'secretome'],\n",
       " 'mirnomics': ['mirnomic', 'mirnome'],\n",
       " 'toxicogenomics': ['toxicogenomic'],\n",
       " 'phylogenomics': ['phylogenomic'],\n",
       " 'radiogenomics': ['radiogenomic'],\n",
       " 'immunogenomics': ['immunogenomic'],\n",
       " 'pharmacometabolomics': ['pharmacometabolomic'],\n",
       " 'viromics': ['viromic', 'virome'],\n",
       " 'foodomics': ['foodomic'],\n",
       " 'ionomics': ['ionomic'],\n",
       " 'whole-genomics': ['whole-genome'],\n",
       " 'exomics': ['exome'],\n",
       " 'whole-exomics': ['whole-exome'],\n",
       " 'exposomics': ['exposome'],\n",
       " 'whole-transcriptomics': ['whole-transcriptome'],\n",
       " 'translatomics': ['translatome'],\n",
       " 'regulomics': ['regulome'],\n",
       " 'immunomics': ['immunome'],\n",
       " 'degradomics': ['degradome'],\n",
       " 'pan-genomics': ['pan-genome'],\n",
       " 'kinomics': ['kinome'],\n",
       " 'mycobiomics': ['mycobiome']}"
      ]
     },
     "execution_count": 69,
     "metadata": {},
     "output_type": "execute_result"
    }
   ],
   "source": [
    "from warnings import warn\n",
    "\n",
    "terms_associated_with_omic = {\n",
    "    omic + 's': [omic]\n",
    "    for omic in omic_terms\n",
    "}\n",
    "\n",
    "for ome in ome_terms:\n",
    "    assert ome.endswith('ome')\n",
    "    auto_generate_omic_term = ome[:-3] + 'omics'\n",
    "    omic = auto_generate_omic_term\n",
    "    if omic not in terms_associated_with_omic:\n",
    "        if omic in omic_counts.index:\n",
    "            warn(f'{omic} was removed at thresholding, but it is a frequent -ome!')\n",
    "        else:\n",
    "            print(f'Creating omic {omic}')\n",
    "        terms_associated_with_omic[omic] = []\n",
    "\n",
    "    terms_associated_with_omic[omic].append(ome)\n",
    "\n",
    "terms_associated_with_omic"
   ]
  },
  {
   "cell_type": "code",
   "execution_count": 70,
   "metadata": {},
   "outputs": [],
   "source": [
    "omics_by_entity = {\n",
    "    'genes': {\n",
    "        'genomics',\n",
    "        'whole-genomics',\n",
    "        'exomics',\n",
    "        'whole-exomics',\n",
    "        # associations\n",
    "        'immunogenomics'\n",
    "    },\n",
    "    'transcripts': {\n",
    "        'transcriptomics',\n",
    "        'whole-transcriptomics',\n",
    "        'mirnomics',\n",
    "        'translatomics',  # the \"final day\" in life of a transcript\n",
    "    },\n",
    "    'proteins & peptides': {\n",
    "        'proteomics',\n",
    "        # proteogenomics is basicaly protein/peptite identification\n",
    "        # using genomic data, see https://doi.org/10.1038/nmeth.3144\n",
    "        'proteogenomics',\n",
    "        'peptidomics',\n",
    "        # secretomics - study of all secreted proteins\n",
    "        'secretomics',\n",
    "        # degradomics is the study of proteases, substrates & inhibitors\n",
    "        # using genomic & proteomic data, see https://doi.org/10.1038/nrm858\n",
    "        'degradomics',\n",
    "    },\n",
    "    # both microbes, viruses AND animals!\n",
    "    'clades (meta-* & pan-*)': {\n",
    "        # for the sake of methods comparisons, the meta-*omic data are so different\n",
    "        # (being a mix of thousands of organisms) that it warrants considering\n",
    "        # those meta-Xomic as separate from Xomics (e.g. metagenomics as separate\n",
    "        # from genomics)\n",
    "        'metagenomics',\n",
    "        'metatranscriptomics',\n",
    "        'metaproteomics',\n",
    "        'meta-omics',\n",
    "        'microbiomics',  # used as a synonym for metagenomics, but there are other uses too\n",
    "        'mycobiomics',\n",
    "        'viromics',   # = viral metagenomics (but sometimes also viral genomics...)\n",
    "        'pan-genomics',  # genes of all strains in a species/clade;\n",
    "                         # used for microbiome but also for plants and human https://doi.org/10.1038/s41576-020-0210-7\n",
    "    },\n",
    "    'epigenetic modifications': {\n",
    "        'epigenomics',\n",
    "        'methylomics'\n",
    "    },\n",
    "    'protein modifications': {\n",
    "        'glycoproteomics',\n",
    "        'phosphoproteomics',\n",
    "        'kinomics'\n",
    "    },\n",
    "    # drugs, toxins, diet & interactions\n",
    "    'exogenous factors': {\n",
    "        # metabolomic\n",
    "        'exposomics',\n",
    "        'pharmacometabolomics',\n",
    "        # genomic\n",
    "        'pharmacogenomics',\n",
    "        'nutrigenomics',\n",
    "        'toxicogenomics',\n",
    "        'foodomics'\n",
    "    },\n",
    "    'endogenous molecules': {\n",
    "        'metabonomics',\n",
    "        'lipidomics',\n",
    "        'metabolomics',\n",
    "        'glycomics',\n",
    "        'fluxomics',\n",
    "        'ionomics'\n",
    "    },\n",
    "    'clinical data': {\n",
    "        'radiogenomics',\n",
    "        'radiomics',\n",
    "        'phenomics'\n",
    "    }\n",
    "}\n",
    "\n",
    "omics_by_entity_group = {\n",
    "    'proteins, peptides & modifications': {\n",
    "        *omics_by_entity['proteins & peptides'],\n",
    "        *omics_by_entity['protein modifications']\n",
    "    },\n",
    "    'metabolites & other molecules': {\n",
    "        *omics_by_entity['endogenous molecules'],\n",
    "        'exposomics',\n",
    "        'pharmacometabolomics',\n",
    "    },\n",
    "    'genes, epigenetics & genetic associations': {\n",
    "        *omics_by_entity['genes'],\n",
    "        *omics_by_entity['epigenetic modifications'],\n",
    "        'pharmacogenomics',\n",
    "        'nutrigenomics',\n",
    "        'radiogenomics',\n",
    "        'toxicogenomics'\n",
    "    },\n",
    "    'clades (meta-* & pan-*)': omics_by_entity['clades (meta-* & pan-*)'],\n",
    "    'transcripts': omics_by_entity['transcripts'],\n",
    "    #'clinical data': ,\n",
    "    'other': {\n",
    "        *omics_by_entity['clinical data'],\n",
    "        'foodomics',\n",
    "        'interactomics',\n",
    "        'immunomics'\n",
    "    },\n",
    "}"
   ]
  },
  {
   "cell_type": "markdown",
   "metadata": {},
   "source": [
    "interactomics is a proper \"omics\", but it is difficult to assign to a single entity - by definition"
   ]
  },
  {
   "cell_type": "code",
   "execution_count": 71,
   "metadata": {},
   "outputs": [
    {
     "data": {
      "text/plain": [
       "uid\n",
       "19910409    termines abundance of small cellular metabolites; interactomics, which resolves the whole set of...\n",
       "22510581    sent study we performed an integrated proteomics, interactomics and metabolomics analysis of Lon...\n",
       "23137709    ed investigations (metabolomics, transcriptomics, interactomics, phosphoproteomics, mathematical...\n",
       "23248778    tis through genomics, trascriptomics, proteomics, interactomics, etc. These studies serve as fou...\n",
       "25111155    mbining proteomics, transcriptomics, genomics and interactomics data. This approach identified a...\n",
       "Name: title_abstract_text_subjects, dtype: object"
      ]
     },
     "execution_count": 71,
     "metadata": {},
     "output_type": "execute_result"
    }
   ],
   "source": [
    "check_usage_in_input('interactomics')"
   ]
  },
  {
   "cell_type": "markdown",
   "metadata": {},
   "source": [
    "phylogenomics is not an omic on its own, but if used in context of metagenomics it can refer to actual omics data"
   ]
  },
  {
   "cell_type": "code",
   "execution_count": 72,
   "metadata": {},
   "outputs": [
    {
     "data": {
      "text/plain": [
       "uid\n",
       "23122336    ematic analysis of the Hsf family in rice using a phylogenomics-based approach that integrates m...\n",
       "27480683    stems. Recent advances in genomics, metabolomics, phylogenomics, and synthetic biology now enabl...\n",
       "27540739    segmentally duplicated (Itoh et al. \\nTo date, six phylogenomics databases have been developed f...\n",
       "27633273    otation browser, genes and proteins, epitope map, phylogenomics, molecular diagnostic primers, t...\n",
       "Name: title_abstract_text_subjects, dtype: object"
      ]
     },
     "execution_count": 72,
     "metadata": {},
     "output_type": "execute_result"
    }
   ],
   "source": [
    "check_usage_in_input('phylogenomics')"
   ]
  },
  {
   "cell_type": "markdown",
   "metadata": {},
   "source": [
    "regulomics is both a name of a tool, group (@MIM UW), and omics:"
   ]
  },
  {
   "cell_type": "code",
   "execution_count": 73,
   "metadata": {},
   "outputs": [
    {
     "data": {
      "text/plain": [
       "uid\n",
       "30985253     to integrate transcriptomics, interactomics, and regulomics data in  using a network-based mult...\n",
       "31494994                                        s is available at http://bioinfo.sibs.ac.cn/plant-regulomics.  \n",
       "Name: title_abstract_text_subjects, dtype: object"
      ]
     },
     "execution_count": 73,
     "metadata": {},
     "output_type": "execute_result"
    }
   ],
   "source": [
    "check_usage_in_input('regulomics')"
   ]
  },
  {
   "cell_type": "code",
   "execution_count": 74,
   "metadata": {},
   "outputs": [
    {
     "data": {
      "text/plain": [
       "{'immunomics', 'interactomics', 'phylogenomics', 'regulomics'}"
      ]
     },
     "execution_count": 74,
     "metadata": {},
     "output_type": "execute_result"
    }
   ],
   "source": [
    "from functools import reduce\n",
    "omics_mapped_to_entities = reduce(set.union, omics_by_entity.values())\n",
    "set(terms_associated_with_omic) - omics_mapped_to_entities"
   ]
  },
  {
   "cell_type": "code",
   "execution_count": 75,
   "metadata": {},
   "outputs": [],
   "source": [
    "assert omics_mapped_to_entities - set(terms_associated_with_omic) == set()"
   ]
  },
  {
   "cell_type": "code",
   "execution_count": 76,
   "metadata": {},
   "outputs": [
    {
     "data": {
      "text/plain": [
       "{'phylogenomics', 'regulomics'}"
      ]
     },
     "execution_count": 76,
     "metadata": {},
     "output_type": "execute_result"
    }
   ],
   "source": [
    "omics_mapped_to_entities_groups = reduce(set.union, omics_by_entity_group.values())\n",
    "set(terms_associated_with_omic) - omics_mapped_to_entities_groups"
   ]
  },
  {
   "cell_type": "code",
   "execution_count": 77,
   "metadata": {},
   "outputs": [],
   "source": [
    "from omics import add_entities_to_features\n",
    "\n",
    "\n",
    "add_entities_to_omic_features = partial(\n",
    "    add_entities_to_features,\n",
    "    features=omics_features,\n",
    "    omics_terms=terms_associated_with_omic\n",
    ")"
   ]
  },
  {
   "cell_type": "code",
   "execution_count": 78,
   "metadata": {},
   "outputs": [
    {
     "data": {
      "text/html": [
       "<div>\n",
       "<style scoped>\n",
       "    .dataframe tbody tr th:only-of-type {\n",
       "        vertical-align: middle;\n",
       "    }\n",
       "\n",
       "    .dataframe tbody tr th {\n",
       "        vertical-align: top;\n",
       "    }\n",
       "\n",
       "    .dataframe thead th {\n",
       "        text-align: right;\n",
       "    }\n",
       "</style>\n",
       "<table border=\"1\" class=\"dataframe\">\n",
       "  <thead>\n",
       "    <tr style=\"text-align: right;\">\n",
       "      <th></th>\n",
       "      <th>ome_or_omic</th>\n",
       "      <th>terms</th>\n",
       "    </tr>\n",
       "  </thead>\n",
       "  <tbody>\n",
       "    <tr>\n",
       "      <th>0</th>\n",
       "      <td>genomics</td>\n",
       "      <td>[genome, genomic]</td>\n",
       "    </tr>\n",
       "    <tr>\n",
       "      <th>1</th>\n",
       "      <td>proteomics</td>\n",
       "      <td>[proteome, proteomic]</td>\n",
       "    </tr>\n",
       "    <tr>\n",
       "      <th>2</th>\n",
       "      <td>transcriptomics</td>\n",
       "      <td>[transcriptome, transcriptomic]</td>\n",
       "    </tr>\n",
       "    <tr>\n",
       "      <th>3</th>\n",
       "      <td>metabolomics</td>\n",
       "      <td>[metabolome, metabolomic]</td>\n",
       "    </tr>\n",
       "    <tr>\n",
       "      <th>4</th>\n",
       "      <td>epigenomics</td>\n",
       "      <td>[epigenome, epigenomic]</td>\n",
       "    </tr>\n",
       "    <tr>\n",
       "      <th>5</th>\n",
       "      <td>metagenomics</td>\n",
       "      <td>[metagenome, metagenomic]</td>\n",
       "    </tr>\n",
       "    <tr>\n",
       "      <th>6</th>\n",
       "      <td>lipidomics</td>\n",
       "      <td>[lipidome, lipidomic]</td>\n",
       "    </tr>\n",
       "    <tr>\n",
       "      <th>7</th>\n",
       "      <td>metatranscriptomics</td>\n",
       "      <td>[metatranscriptome, metatranscriptomic]</td>\n",
       "    </tr>\n",
       "    <tr>\n",
       "      <th>8</th>\n",
       "      <td>metaproteomics</td>\n",
       "      <td>[metaproteome, metaproteomic]</td>\n",
       "    </tr>\n",
       "    <tr>\n",
       "      <th>9</th>\n",
       "      <td>pharmacogenomics</td>\n",
       "      <td>[pharmacogenomic]</td>\n",
       "    </tr>\n",
       "    <tr>\n",
       "      <th>10</th>\n",
       "      <td>phosphoproteomics</td>\n",
       "      <td>[phosphoproteome, phosphoproteomic]</td>\n",
       "    </tr>\n",
       "    <tr>\n",
       "      <th>11</th>\n",
       "      <td>proteogenomics</td>\n",
       "      <td>[proteogenomic]</td>\n",
       "    </tr>\n",
       "    <tr>\n",
       "      <th>12</th>\n",
       "      <td>phenomics</td>\n",
       "      <td>[phenome, phenomic]</td>\n",
       "    </tr>\n",
       "    <tr>\n",
       "      <th>13</th>\n",
       "      <td>fluxomics</td>\n",
       "      <td>[fluxome, fluxomic]</td>\n",
       "    </tr>\n",
       "    <tr>\n",
       "      <th>14</th>\n",
       "      <td>glycomics</td>\n",
       "      <td>[glycome, glycomic]</td>\n",
       "    </tr>\n",
       "    <tr>\n",
       "      <th>15</th>\n",
       "      <td>meta-omics</td>\n",
       "      <td>[meta-omic]</td>\n",
       "    </tr>\n",
       "    <tr>\n",
       "      <th>16</th>\n",
       "      <td>metabonomics</td>\n",
       "      <td>[metabonomic]</td>\n",
       "    </tr>\n",
       "    <tr>\n",
       "      <th>17</th>\n",
       "      <td>microbiomics</td>\n",
       "      <td>[microbiome, microbiomic]</td>\n",
       "    </tr>\n",
       "    <tr>\n",
       "      <th>18</th>\n",
       "      <td>interactomics</td>\n",
       "      <td>[interactome, interactomic]</td>\n",
       "    </tr>\n",
       "    <tr>\n",
       "      <th>19</th>\n",
       "      <td>methylomics</td>\n",
       "      <td>[methylome, methylomic]</td>\n",
       "    </tr>\n",
       "    <tr>\n",
       "      <th>20</th>\n",
       "      <td>peptidomics</td>\n",
       "      <td>[peptidome, peptidomic]</td>\n",
       "    </tr>\n",
       "    <tr>\n",
       "      <th>21</th>\n",
       "      <td>radiomics</td>\n",
       "      <td>[radiomic]</td>\n",
       "    </tr>\n",
       "    <tr>\n",
       "      <th>22</th>\n",
       "      <td>nutrigenomics</td>\n",
       "      <td>[nutrigenomic]</td>\n",
       "    </tr>\n",
       "    <tr>\n",
       "      <th>23</th>\n",
       "      <td>glycoproteomics</td>\n",
       "      <td>[glycoproteome, glycoproteomic]</td>\n",
       "    </tr>\n",
       "    <tr>\n",
       "      <th>24</th>\n",
       "      <td>secretomics</td>\n",
       "      <td>[secretome, secretomic]</td>\n",
       "    </tr>\n",
       "    <tr>\n",
       "      <th>25</th>\n",
       "      <td>mirnomics</td>\n",
       "      <td>[mirnome, mirnomic]</td>\n",
       "    </tr>\n",
       "    <tr>\n",
       "      <th>26</th>\n",
       "      <td>toxicogenomics</td>\n",
       "      <td>[toxicogenomic]</td>\n",
       "    </tr>\n",
       "    <tr>\n",
       "      <th>27</th>\n",
       "      <td>phylogenomics</td>\n",
       "      <td>[phylogenomic]</td>\n",
       "    </tr>\n",
       "    <tr>\n",
       "      <th>28</th>\n",
       "      <td>radiogenomics</td>\n",
       "      <td>[radiogenomic]</td>\n",
       "    </tr>\n",
       "    <tr>\n",
       "      <th>29</th>\n",
       "      <td>immunogenomics</td>\n",
       "      <td>[immunogenomic]</td>\n",
       "    </tr>\n",
       "    <tr>\n",
       "      <th>30</th>\n",
       "      <td>pharmacometabolomics</td>\n",
       "      <td>[pharmacometabolomic]</td>\n",
       "    </tr>\n",
       "    <tr>\n",
       "      <th>31</th>\n",
       "      <td>viromics</td>\n",
       "      <td>[virome, viromic]</td>\n",
       "    </tr>\n",
       "    <tr>\n",
       "      <th>32</th>\n",
       "      <td>foodomics</td>\n",
       "      <td>[foodomic]</td>\n",
       "    </tr>\n",
       "    <tr>\n",
       "      <th>33</th>\n",
       "      <td>ionomics</td>\n",
       "      <td>[ionomic]</td>\n",
       "    </tr>\n",
       "    <tr>\n",
       "      <th>34</th>\n",
       "      <td>whole-genomics</td>\n",
       "      <td>[whole-genome]</td>\n",
       "    </tr>\n",
       "    <tr>\n",
       "      <th>35</th>\n",
       "      <td>exomics</td>\n",
       "      <td>[exome]</td>\n",
       "    </tr>\n",
       "    <tr>\n",
       "      <th>36</th>\n",
       "      <td>whole-exomics</td>\n",
       "      <td>[whole-exome]</td>\n",
       "    </tr>\n",
       "    <tr>\n",
       "      <th>37</th>\n",
       "      <td>exposomics</td>\n",
       "      <td>[exposome]</td>\n",
       "    </tr>\n",
       "    <tr>\n",
       "      <th>38</th>\n",
       "      <td>whole-transcriptomics</td>\n",
       "      <td>[whole-transcriptome]</td>\n",
       "    </tr>\n",
       "    <tr>\n",
       "      <th>39</th>\n",
       "      <td>translatomics</td>\n",
       "      <td>[translatome]</td>\n",
       "    </tr>\n",
       "    <tr>\n",
       "      <th>40</th>\n",
       "      <td>regulomics</td>\n",
       "      <td>[regulome]</td>\n",
       "    </tr>\n",
       "    <tr>\n",
       "      <th>41</th>\n",
       "      <td>immunomics</td>\n",
       "      <td>[immunome]</td>\n",
       "    </tr>\n",
       "    <tr>\n",
       "      <th>42</th>\n",
       "      <td>degradomics</td>\n",
       "      <td>[degradome]</td>\n",
       "    </tr>\n",
       "    <tr>\n",
       "      <th>43</th>\n",
       "      <td>pan-genomics</td>\n",
       "      <td>[pan-genome]</td>\n",
       "    </tr>\n",
       "    <tr>\n",
       "      <th>44</th>\n",
       "      <td>kinomics</td>\n",
       "      <td>[kinome]</td>\n",
       "    </tr>\n",
       "    <tr>\n",
       "      <th>45</th>\n",
       "      <td>mycobiomics</td>\n",
       "      <td>[mycobiome]</td>\n",
       "    </tr>\n",
       "  </tbody>\n",
       "</table>\n",
       "</div>"
      ],
      "text/plain": [
       "              ome_or_omic                                    terms\n",
       "0                genomics                        [genome, genomic]\n",
       "1              proteomics                    [proteome, proteomic]\n",
       "2         transcriptomics          [transcriptome, transcriptomic]\n",
       "3            metabolomics                [metabolome, metabolomic]\n",
       "4             epigenomics                  [epigenome, epigenomic]\n",
       "5            metagenomics                [metagenome, metagenomic]\n",
       "6              lipidomics                    [lipidome, lipidomic]\n",
       "7     metatranscriptomics  [metatranscriptome, metatranscriptomic]\n",
       "8          metaproteomics            [metaproteome, metaproteomic]\n",
       "9        pharmacogenomics                        [pharmacogenomic]\n",
       "10      phosphoproteomics      [phosphoproteome, phosphoproteomic]\n",
       "11         proteogenomics                          [proteogenomic]\n",
       "12              phenomics                      [phenome, phenomic]\n",
       "13              fluxomics                      [fluxome, fluxomic]\n",
       "14              glycomics                      [glycome, glycomic]\n",
       "15             meta-omics                              [meta-omic]\n",
       "16           metabonomics                            [metabonomic]\n",
       "17           microbiomics                [microbiome, microbiomic]\n",
       "18          interactomics              [interactome, interactomic]\n",
       "19            methylomics                  [methylome, methylomic]\n",
       "20            peptidomics                  [peptidome, peptidomic]\n",
       "21              radiomics                               [radiomic]\n",
       "22          nutrigenomics                           [nutrigenomic]\n",
       "23        glycoproteomics          [glycoproteome, glycoproteomic]\n",
       "24            secretomics                  [secretome, secretomic]\n",
       "25              mirnomics                      [mirnome, mirnomic]\n",
       "26         toxicogenomics                          [toxicogenomic]\n",
       "27          phylogenomics                           [phylogenomic]\n",
       "28          radiogenomics                           [radiogenomic]\n",
       "29         immunogenomics                          [immunogenomic]\n",
       "30   pharmacometabolomics                    [pharmacometabolomic]\n",
       "31               viromics                        [virome, viromic]\n",
       "32              foodomics                               [foodomic]\n",
       "33               ionomics                                [ionomic]\n",
       "34         whole-genomics                           [whole-genome]\n",
       "35                exomics                                  [exome]\n",
       "36          whole-exomics                            [whole-exome]\n",
       "37             exposomics                               [exposome]\n",
       "38  whole-transcriptomics                    [whole-transcriptome]\n",
       "39          translatomics                            [translatome]\n",
       "40             regulomics                               [regulome]\n",
       "41             immunomics                               [immunome]\n",
       "42            degradomics                              [degradome]\n",
       "43           pan-genomics                             [pan-genome]\n",
       "44               kinomics                                 [kinome]\n",
       "45            mycobiomics                              [mycobiome]"
      ]
     },
     "execution_count": 78,
     "metadata": {},
     "output_type": "execute_result"
    }
   ],
   "source": [
    "omics = {k: [k] for k in terms_associated_with_omic}\n",
    "add_entities_to_omic_features(omics, entity_type='ome_or_omic')"
   ]
  },
  {
   "cell_type": "code",
   "execution_count": 79,
   "metadata": {},
   "outputs": [
    {
     "data": {
      "text/html": [
       "<div>\n",
       "<style scoped>\n",
       "    .dataframe tbody tr th:only-of-type {\n",
       "        vertical-align: middle;\n",
       "    }\n",
       "\n",
       "    .dataframe tbody tr th {\n",
       "        vertical-align: top;\n",
       "    }\n",
       "\n",
       "    .dataframe thead th {\n",
       "        text-align: right;\n",
       "    }\n",
       "</style>\n",
       "<table border=\"1\" class=\"dataframe\">\n",
       "  <thead>\n",
       "    <tr style=\"text-align: right;\">\n",
       "      <th></th>\n",
       "      <th>entity</th>\n",
       "      <th>terms</th>\n",
       "    </tr>\n",
       "  </thead>\n",
       "  <tbody>\n",
       "    <tr>\n",
       "      <th>0</th>\n",
       "      <td>genes</td>\n",
       "      <td>[exome, genome, genomic, immunogenomic, whole-exome, whole-genome]</td>\n",
       "    </tr>\n",
       "    <tr>\n",
       "      <th>1</th>\n",
       "      <td>transcripts</td>\n",
       "      <td>[mirnome, mirnomic, transcriptome, transcriptomic, translatome, whole-transcriptome]</td>\n",
       "    </tr>\n",
       "    <tr>\n",
       "      <th>2</th>\n",
       "      <td>proteins &amp; peptides</td>\n",
       "      <td>[degradome, peptidome, peptidomic, proteogenomic, proteome, proteomic, secretome, secretomic]</td>\n",
       "    </tr>\n",
       "    <tr>\n",
       "      <th>3</th>\n",
       "      <td>clades (meta-* &amp; pan-*)</td>\n",
       "      <td>[meta-omic, metagenome, metagenomic, metaproteome, metaproteomic, metatranscriptome, metatranscr...</td>\n",
       "    </tr>\n",
       "    <tr>\n",
       "      <th>4</th>\n",
       "      <td>epigenetic modifications</td>\n",
       "      <td>[epigenome, epigenomic, methylome, methylomic]</td>\n",
       "    </tr>\n",
       "    <tr>\n",
       "      <th>5</th>\n",
       "      <td>protein modifications</td>\n",
       "      <td>[glycoproteome, glycoproteomic, kinome, phosphoproteome, phosphoproteomic]</td>\n",
       "    </tr>\n",
       "    <tr>\n",
       "      <th>6</th>\n",
       "      <td>exogenous factors</td>\n",
       "      <td>[exposome, foodomic, nutrigenomic, pharmacogenomic, pharmacometabolomic, toxicogenomic]</td>\n",
       "    </tr>\n",
       "    <tr>\n",
       "      <th>7</th>\n",
       "      <td>endogenous molecules</td>\n",
       "      <td>[fluxome, fluxomic, glycome, glycomic, ionomic, lipidome, lipidomic, metabolome, metabolomic, me...</td>\n",
       "    </tr>\n",
       "    <tr>\n",
       "      <th>8</th>\n",
       "      <td>clinical data</td>\n",
       "      <td>[phenome, phenomic, radiogenomic, radiomic]</td>\n",
       "    </tr>\n",
       "  </tbody>\n",
       "</table>\n",
       "</div>"
      ],
      "text/plain": [
       "                     entity  \\\n",
       "0                     genes   \n",
       "1               transcripts   \n",
       "2       proteins & peptides   \n",
       "3   clades (meta-* & pan-*)   \n",
       "4  epigenetic modifications   \n",
       "5     protein modifications   \n",
       "6         exogenous factors   \n",
       "7      endogenous molecules   \n",
       "8             clinical data   \n",
       "\n",
       "                                                                                                 terms  \n",
       "0                                   [exome, genome, genomic, immunogenomic, whole-exome, whole-genome]  \n",
       "1                 [mirnome, mirnomic, transcriptome, transcriptomic, translatome, whole-transcriptome]  \n",
       "2        [degradome, peptidome, peptidomic, proteogenomic, proteome, proteomic, secretome, secretomic]  \n",
       "3  [meta-omic, metagenome, metagenomic, metaproteome, metaproteomic, metatranscriptome, metatranscr...  \n",
       "4                                                       [epigenome, epigenomic, methylome, methylomic]  \n",
       "5                           [glycoproteome, glycoproteomic, kinome, phosphoproteome, phosphoproteomic]  \n",
       "6              [exposome, foodomic, nutrigenomic, pharmacogenomic, pharmacometabolomic, toxicogenomic]  \n",
       "7  [fluxome, fluxomic, glycome, glycomic, ionomic, lipidome, lipidomic, metabolome, metabolomic, me...  \n",
       "8                                                          [phenome, phenomic, radiogenomic, radiomic]  "
      ]
     },
     "execution_count": 79,
     "metadata": {},
     "output_type": "execute_result"
    }
   ],
   "source": [
    "add_entities_to_omic_features(omics_by_entity, entity_type='entity')"
   ]
  },
  {
   "cell_type": "code",
   "execution_count": 80,
   "metadata": {},
   "outputs": [
    {
     "data": {
      "text/html": [
       "<div>\n",
       "<style scoped>\n",
       "    .dataframe tbody tr th:only-of-type {\n",
       "        vertical-align: middle;\n",
       "    }\n",
       "\n",
       "    .dataframe tbody tr th {\n",
       "        vertical-align: top;\n",
       "    }\n",
       "\n",
       "    .dataframe thead th {\n",
       "        text-align: right;\n",
       "    }\n",
       "</style>\n",
       "<table border=\"1\" class=\"dataframe\">\n",
       "  <thead>\n",
       "    <tr style=\"text-align: right;\">\n",
       "      <th></th>\n",
       "      <th>entity_group</th>\n",
       "      <th>terms</th>\n",
       "    </tr>\n",
       "  </thead>\n",
       "  <tbody>\n",
       "    <tr>\n",
       "      <th>0</th>\n",
       "      <td>proteins, peptides &amp; modifications</td>\n",
       "      <td>[degradome, glycoproteome, glycoproteomic, kinome, peptidome, peptidomic, phosphoproteome, phosp...</td>\n",
       "    </tr>\n",
       "    <tr>\n",
       "      <th>1</th>\n",
       "      <td>metabolites &amp; other molecules</td>\n",
       "      <td>[exposome, fluxome, fluxomic, glycome, glycomic, ionomic, lipidome, lipidomic, metabolome, metab...</td>\n",
       "    </tr>\n",
       "    <tr>\n",
       "      <th>2</th>\n",
       "      <td>genes, epigenetics &amp; genetic associations</td>\n",
       "      <td>[epigenome, epigenomic, exome, genome, genomic, immunogenomic, methylome, methylomic, nutrigenom...</td>\n",
       "    </tr>\n",
       "    <tr>\n",
       "      <th>3</th>\n",
       "      <td>clades (meta-* &amp; pan-*)</td>\n",
       "      <td>[meta-omic, metagenome, metagenomic, metaproteome, metaproteomic, metatranscriptome, metatranscr...</td>\n",
       "    </tr>\n",
       "    <tr>\n",
       "      <th>4</th>\n",
       "      <td>transcripts</td>\n",
       "      <td>[mirnome, mirnomic, transcriptome, transcriptomic, translatome, whole-transcriptome]</td>\n",
       "    </tr>\n",
       "    <tr>\n",
       "      <th>5</th>\n",
       "      <td>other</td>\n",
       "      <td>[foodomic, immunome, interactome, interactomic, phenome, phenomic, radiogenomic, radiomic]</td>\n",
       "    </tr>\n",
       "  </tbody>\n",
       "</table>\n",
       "</div>"
      ],
      "text/plain": [
       "                                entity_group  \\\n",
       "0         proteins, peptides & modifications   \n",
       "1              metabolites & other molecules   \n",
       "2  genes, epigenetics & genetic associations   \n",
       "3                    clades (meta-* & pan-*)   \n",
       "4                                transcripts   \n",
       "5                                      other   \n",
       "\n",
       "                                                                                                 terms  \n",
       "0  [degradome, glycoproteome, glycoproteomic, kinome, peptidome, peptidomic, phosphoproteome, phosp...  \n",
       "1  [exposome, fluxome, fluxomic, glycome, glycomic, ionomic, lipidome, lipidomic, metabolome, metab...  \n",
       "2  [epigenome, epigenomic, exome, genome, genomic, immunogenomic, methylome, methylomic, nutrigenom...  \n",
       "3  [meta-omic, metagenome, metagenomic, metaproteome, metaproteomic, metatranscriptome, metatranscr...  \n",
       "4                 [mirnome, mirnomic, transcriptome, transcriptomic, translatome, whole-transcriptome]  \n",
       "5           [foodomic, immunome, interactome, interactomic, phenome, phenomic, radiogenomic, radiomic]  "
      ]
     },
     "execution_count": 80,
     "metadata": {},
     "output_type": "execute_result"
    }
   ],
   "source": [
    "add_entities_to_omic_features(omics_by_entity_group, entity_type='entity_group')"
   ]
  },
  {
   "cell_type": "markdown",
   "metadata": {},
   "source": [
    "### Visualize the entities & entities groups"
   ]
  },
  {
   "cell_type": "code",
   "execution_count": 81,
   "metadata": {},
   "outputs": [],
   "source": [
    "omic_entities = omics_features['entity_' + Series(list(omics_by_entity.keys()))].rename(columns=prefix_remover('entity_'))\n",
    "omic_entities_groups = omics_features['entity_group_' + Series(list(omics_by_entity_group.keys()))].rename(columns=prefix_remover('entity_group_'))"
   ]
  },
  {
   "cell_type": "code",
   "execution_count": 82,
   "metadata": {},
   "outputs": [
    {
     "data": {
      "image/png": "[encoded data removed]"
     },
     "metadata": {},
     "output_type": "display_data"
    }
   ],
   "source": [
    "%%R -i omic_entities -w 800 -r 100\n",
    "\n",
    "upset(omic_entities, colnames(omic_entities), min_size=10, width_ratio=0.1)"
   ]
  },
  {
   "cell_type": "code",
   "execution_count": 83,
   "metadata": {},
   "outputs": [
    {
     "data": {
      "image/png": "[encoded data removed]"
     },
     "metadata": {},
     "output_type": "display_data"
    }
   ],
   "source": [
    "%%R -i omic_entities_groups -w 800 -r 100\n",
    "\n",
    "upset(omic_entities_groups, colnames(omic_entities_groups), min_size=10, width_ratio=0.1)"
   ]
  },
  {
   "cell_type": "markdown",
   "metadata": {},
   "source": [
    "### Number of omics mentioned in abstract vs the multi-omic term used"
   ]
  },
  {
   "cell_type": "code",
   "execution_count": 84,
   "metadata": {},
   "outputs": [],
   "source": [
    "omes_or_omics_df = omics_features['ome_or_omic_' + Series(list(omics.keys()))].rename(columns=prefix_remover('ome_or_omic_'))"
   ]
  },
  {
   "cell_type": "code",
   "execution_count": 85,
   "metadata": {},
   "outputs": [],
   "source": [
    "literature['omic_terms_detected'] = omes_or_omics_df.sum(axis=1)"
   ]
  },
  {
   "cell_type": "code",
   "execution_count": 86,
   "metadata": {},
   "outputs": [],
   "source": [
    "lt = literature[['term', 'omic_terms_detected']]"
   ]
  },
  {
   "cell_type": "code",
   "execution_count": 87,
   "metadata": {},
   "outputs": [
    {
     "data": {
      "text/html": [
       "<div>\n",
       "<style scoped>\n",
       "    .dataframe tbody tr th:only-of-type {\n",
       "        vertical-align: middle;\n",
       "    }\n",
       "\n",
       "    .dataframe tbody tr th {\n",
       "        vertical-align: top;\n",
       "    }\n",
       "\n",
       "    .dataframe thead th {\n",
       "        text-align: right;\n",
       "    }\n",
       "</style>\n",
       "<table border=\"1\" class=\"dataframe\">\n",
       "  <thead>\n",
       "    <tr style=\"text-align: right;\">\n",
       "      <th></th>\n",
       "      <th>title</th>\n",
       "      <th>omic_terms_detected</th>\n",
       "    </tr>\n",
       "    <tr>\n",
       "      <th>uid</th>\n",
       "      <th></th>\n",
       "      <th></th>\n",
       "    </tr>\n",
       "  </thead>\n",
       "  <tbody>\n",
       "    <tr>\n",
       "      <th>31779274</th>\n",
       "      <td>The State-of-the Art of Environmental Toxicogenomics: Challenges and Perspectives of \"Omics\" App...</td>\n",
       "      <td>12</td>\n",
       "    </tr>\n",
       "    <tr>\n",
       "      <th>31142855</th>\n",
       "      <td>Multi-omics of the gut microbial ecosystem in inflammatory bowel diseases.</td>\n",
       "      <td>11</td>\n",
       "    </tr>\n",
       "    <tr>\n",
       "      <th>32318338</th>\n",
       "      <td>Computational Oncology in the Multi-Omics Era: State of the Art.</td>\n",
       "      <td>11</td>\n",
       "    </tr>\n",
       "    <tr>\n",
       "      <th>32326339</th>\n",
       "      <td>Precision Medicine in Childhood Asthma: Omic Studies of Treatment Response.</td>\n",
       "      <td>10</td>\n",
       "    </tr>\n",
       "    <tr>\n",
       "      <th>28232845</th>\n",
       "      <td>Abiotic Stress Responses and Microbe-Mediated Mitigation in Plants: The Omics Strategies.</td>\n",
       "      <td>10</td>\n",
       "    </tr>\n",
       "    <tr>\n",
       "      <th>29362952</th>\n",
       "      <td>The role of the clinician in the multi-omics era: are you ready?</td>\n",
       "      <td>10</td>\n",
       "    </tr>\n",
       "    <tr>\n",
       "      <th>32047482</th>\n",
       "      <td>The Progress of Multi-Omics Technologies: Determining Function in Lactic Acid Bacteria Using a S...</td>\n",
       "      <td>10</td>\n",
       "    </tr>\n",
       "    <tr>\n",
       "      <th>29927718</th>\n",
       "      <td>Multiomics Data Triangulation for Asthma Candidate Biomarkers and Precision Medicine.</td>\n",
       "      <td>10</td>\n",
       "    </tr>\n",
       "    <tr>\n",
       "      <th>28271979</th>\n",
       "      <td>Toward a Taxonomy for Multi-Omics Science? Terminology Development for Whole Genome Study Approa...</td>\n",
       "      <td>10</td>\n",
       "    </tr>\n",
       "    <tr>\n",
       "      <th>28926971</th>\n",
       "      <td>Mini-Review: The Contribution of Intermediate Phenotypes to GxE Effects on Disorders of Body Com...</td>\n",
       "      <td>9</td>\n",
       "    </tr>\n",
       "  </tbody>\n",
       "</table>\n",
       "</div>"
      ],
      "text/plain": [
       "                                                                                                        title  \\\n",
       "uid                                                                                                             \n",
       "31779274  The State-of-the Art of Environmental Toxicogenomics: Challenges and Perspectives of \"Omics\" App...   \n",
       "31142855                           Multi-omics of the gut microbial ecosystem in inflammatory bowel diseases.   \n",
       "32318338                                     Computational Oncology in the Multi-Omics Era: State of the Art.   \n",
       "32326339                          Precision Medicine in Childhood Asthma: Omic Studies of Treatment Response.   \n",
       "28232845            Abiotic Stress Responses and Microbe-Mediated Mitigation in Plants: The Omics Strategies.   \n",
       "29362952                                     The role of the clinician in the multi-omics era: are you ready?   \n",
       "32047482  The Progress of Multi-Omics Technologies: Determining Function in Lactic Acid Bacteria Using a S...   \n",
       "29927718                Multiomics Data Triangulation for Asthma Candidate Biomarkers and Precision Medicine.   \n",
       "28271979  Toward a Taxonomy for Multi-Omics Science? Terminology Development for Whole Genome Study Approa...   \n",
       "28926971  Mini-Review: The Contribution of Intermediate Phenotypes to GxE Effects on Disorders of Body Com...   \n",
       "\n",
       "          omic_terms_detected  \n",
       "uid                            \n",
       "31779274                   12  \n",
       "31142855                   11  \n",
       "32318338                   11  \n",
       "32326339                   10  \n",
       "28232845                   10  \n",
       "29362952                   10  \n",
       "32047482                   10  \n",
       "29927718                   10  \n",
       "28271979                   10  \n",
       "28926971                    9  "
      ]
     },
     "execution_count": 87,
     "metadata": {},
     "output_type": "execute_result"
    }
   ],
   "source": [
    "literature.sort_values('omic_terms_detected', ascending=False)[['title', 'omic_terms_detected']].head(10)"
   ]
  },
  {
   "cell_type": "code",
   "execution_count": 88,
   "metadata": {},
   "outputs": [
    {
     "data": {
      "image/png": "[encoded data removed]"
     },
     "metadata": {},
     "output_type": "display_data"
    }
   ],
   "source": [
    "%%R -i lt -w 800\n",
    "(\n",
    "    ggplot(lt, aes(x=term, y=omic_terms_detected))\n",
    "    + geom_violin(adjust=2)\n",
    "    + geom_point()\n",
    "    + theme_bw()\n",
    ")"
   ]
  },
  {
   "cell_type": "markdown",
   "metadata": {},
   "source": [
    "# Current limitations"
   ]
  },
  {
   "cell_type": "markdown",
   "metadata": {},
   "source": [
    "## Patchy coverage"
   ]
  },
  {
   "cell_type": "markdown",
   "metadata": {},
   "source": [
    "Currently I only detected omic-describing terms in less than 70% of abstracts:"
   ]
  },
  {
   "cell_type": "code",
   "execution_count": 89,
   "metadata": {},
   "outputs": [
    {
     "data": {
      "text/plain": [
       "0.8267104870032865"
      ]
     },
     "execution_count": 89,
     "metadata": {},
     "output_type": "execute_result"
    }
   ],
   "source": [
    "omic_entities.any(axis=1).mean()"
   ]
  },
  {
   "cell_type": "markdown",
   "metadata": {},
   "source": [
    "Potential solution: select a random sample of 50 articles, annotate manually, calculate sensitivity and specificity.\n",
    "\n",
    "If any omic is consistently omitted, reconsider how search terms are created."
   ]
  },
  {
   "cell_type": "markdown",
   "metadata": {},
   "source": [
    "## Apostrophes"
   ]
  },
  {
   "cell_type": "markdown",
   "metadata": {},
   "source": [
    "Are we missing out on \\*'omic terms, such us meta'omic used in [here](https://doi.org/10.1053/j.gastro.2014.01.049)?"
   ]
  },
  {
   "cell_type": "code",
   "execution_count": 90,
   "metadata": {},
   "outputs": [
    {
     "data": {
      "text/plain": [
       "uid\n",
       "31142855    lable through the Inflammatory Bowel Disease Multi'omics Database ( http://ibdmdb.org ), provide...\n",
       "32612960    ght and weight of our cohort. We performed a multi'omics [i.e., 16S rRNA amplicon and shotgun me...\n",
       "Name: title_abstract_text_subjects, dtype: object"
      ]
     },
     "execution_count": 90,
     "metadata": {},
     "output_type": "execute_result"
    }
   ],
   "source": [
    "check_usage_in_input(\n",
    "    r'\\w+\\'omic',\n",
    "    words=False,\n",
    "    highlight='\\'omic'\n",
    ")"
   ]
  },
  {
   "cell_type": "markdown",
   "metadata": {},
   "source": [
    "unlikely (but would be nice to get it in!)"
   ]
  },
  {
   "cell_type": "markdown",
   "metadata": {},
   "source": [
    "## Fields of study"
   ]
  },
  {
   "cell_type": "code",
   "execution_count": 91,
   "metadata": {},
   "outputs": [
    {
     "data": {
      "text/plain": [
       "('genetics', 'epigenetics')"
      ]
     },
     "execution_count": 91,
     "metadata": {},
     "output_type": "execute_result"
    }
   ],
   "source": [
    "'genetics', 'epigenetics'"
   ]
  },
  {
   "cell_type": "markdown",
   "metadata": {},
   "source": [
    "Some authors may prefer to say \"we integrated genetic and proteomic data\" rather than \"genomic and proteomic\""
   ]
  }
 ],
 "metadata": {
  "kernelspec": {
   "display_name": "Python 3",
   "language": "python",
   "name": "python3"
  },
  "language_info": {
   "codemirror_mode": {
    "name": "ipython",
    "version": 3
   },
   "file_extension": ".py",
   "mimetype": "text/x-python",
   "name": "python",
   "nbconvert_exporter": "python",
   "pygments_lexer": "ipython3",
   "version": "3.8.3"
  }
 },
 "nbformat": 4,
 "nbformat_minor": 4
}
