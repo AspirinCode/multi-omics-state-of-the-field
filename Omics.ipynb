{
 "cells": [
  {
   "cell_type": "markdown",
   "metadata": {},
   "source": [
    "**Aims**:\n",
    " - extract the omics mentioned in multi-omics articles"
   ]
  },
  {
   "cell_type": "code",
   "execution_count": 1,
   "metadata": {},
   "outputs": [],
   "source": [
    "%run notebook_setup.ipynb"
   ]
  },
  {
   "cell_type": "code",
   "execution_count": 2,
   "metadata": {},
   "outputs": [],
   "source": [
    "import pandas\n",
    "pandas.set_option('display.max_colwidth', 100)"
   ]
  },
  {
   "cell_type": "code",
   "execution_count": 3,
   "metadata": {},
   "outputs": [
    {
     "data": {
      "text/markdown": [
       "Imported `literature` (E4FB4141) at Thursday, 23. Jul 2020 02:32"
      ],
      "text/plain": [
       "<IPython.core.display.Markdown object>"
      ]
     },
     "metadata": {
      "text/markdown": {
       "action": "import",
       "command": "from pubmed_derived_data import literature",
       "finished": "2020-07-23T02:32:51.661268",
       "finished_human_readable": "Thursday, 23. Jul 2020 02:32",
       "result": [
        {
         "new_file": {
          "crc32": "E4FB4141",
          "sha256": "C981DC33DEA9E19014C4046161FD20ADCF763801479A0184D4670FADAD6CE564"
         },
         "subject": "literature"
        }
       ],
       "started": "2020-07-23T02:32:49.565836"
      }
     },
     "output_type": "display_data"
    }
   ],
   "source": [
    "%vault from pubmed_derived_data import literature"
   ]
  },
  {
   "cell_type": "code",
   "execution_count": 4,
   "metadata": {},
   "outputs": [],
   "source": [
    "has_abstract = ~literature['abstract'].isnull()"
   ]
  },
  {
   "cell_type": "markdown",
   "metadata": {},
   "source": [
    "**TODO: use title if not abstract, add keywords, use full text if available**"
   ]
  },
  {
   "cell_type": "code",
   "execution_count": 5,
   "metadata": {},
   "outputs": [],
   "source": [
    "literature['abstract_clean'] = literature['abstract_clean'].fillna('')"
   ]
  },
  {
   "cell_type": "code",
   "execution_count": 6,
   "metadata": {},
   "outputs": [],
   "source": [
    "omics_features = literature.index.to_frame().copy()"
   ]
  },
  {
   "cell_type": "code",
   "execution_count": 7,
   "metadata": {},
   "outputs": [],
   "source": [
    "from functools import partial\n",
    "from helpers.text_processing import check_usage\n",
    "from pandas import Series\n",
    "\n",
    "check_usage_in_abstracts = partial(check_usage, data=literature, column='abstract_clean')"
   ]
  },
  {
   "cell_type": "code",
   "execution_count": 8,
   "metadata": {},
   "outputs": [],
   "source": [
    "TERM_IN_AT_LEAST_N_ARTICLES = 5"
   ]
  },
  {
   "cell_type": "markdown",
   "metadata": {},
   "source": [
    "# Omics"
   ]
  },
  {
   "cell_type": "markdown",
   "metadata": {},
   "source": [
    "## 1. Lookup by words which end with -ome"
   ]
  },
  {
   "cell_type": "code",
   "execution_count": 9,
   "metadata": {},
   "outputs": [],
   "source": [
    "organelles = {\n",
    "    'peroxisome',\n",
    "    'proteasome',\n",
    "    'ribosome',\n",
    "    'exosome',\n",
    "    'nucleosome'\n",
    "}"
   ]
  },
  {
   "cell_type": "code",
   "execution_count": 10,
   "metadata": {},
   "outputs": [],
   "source": [
    "note_an_ome = {\n",
    "    'outcome',\n",
    "    'some',\n",
    "    'become',\n",
    "    'home',\n",
    "    'come',\n",
    "    'chromosome',\n",
    "    'overcome',\n",
    "    'cytochrome',\n",
    "    'syndrome',\n",
    "    'reactome',\n",
    "    *organelles\n",
    "}"
   ]
  },
  {
   "cell_type": "code",
   "execution_count": 11,
   "metadata": {},
   "outputs": [
    {
     "data": {
      "text/plain": [
       "\u001b[0;31mSignature:\u001b[0m \u001b[0mget_ome_regexp\u001b[0m\u001b[0;34m(\u001b[0m\u001b[0;34m)\u001b[0m \u001b[0;34m->\u001b[0m \u001b[0mstr\u001b[0m\u001b[0;34m\u001b[0m\u001b[0;34m\u001b[0m\u001b[0m\n",
       "\u001b[0;31mDocstring:\u001b[0m <no docstring>\n",
       "\u001b[0;31mSource:\u001b[0m   \n",
       "\u001b[0;32mdef\u001b[0m \u001b[0mget_ome_regexp\u001b[0m\u001b[0;34m(\u001b[0m\u001b[0;34m)\u001b[0m \u001b[0;34m->\u001b[0m \u001b[0mstr\u001b[0m\u001b[0;34m:\u001b[0m\u001b[0;34m\u001b[0m\n",
       "\u001b[0;34m\u001b[0m    \u001b[0;32mreturn\u001b[0m \u001b[0;34m(\u001b[0m\u001b[0;34m\u001b[0m\n",
       "\u001b[0;34m\u001b[0m        \u001b[0;31m# use look-ahead to allow for overlaps\u001b[0m\u001b[0;34m\u001b[0m\n",
       "\u001b[0;34m\u001b[0m        \u001b[0;34m'(?='\u001b[0m\u001b[0;34m\u001b[0m\n",
       "\u001b[0;34m\u001b[0m            \u001b[0;34mrf'(?:^|\\s|{separators_re})'\u001b[0m\u001b[0;34m\u001b[0m\n",
       "\u001b[0;34m\u001b[0m            \u001b[0;34m'('\u001b[0m\u001b[0;34m\u001b[0m\n",
       "\u001b[0;34m\u001b[0m                \u001b[0;34mr'(?:\\w+)ome'\u001b[0m\u001b[0;34m\u001b[0m\n",
       "\u001b[0;34m\u001b[0m                \u001b[0;34m'|'\u001b[0m\u001b[0;34m\u001b[0m\n",
       "\u001b[0;34m\u001b[0m                \u001b[0;34mr'(?:(?:\\w+-\\w*)|\\w+)ome'\u001b[0m\u001b[0;34m\u001b[0m\n",
       "\u001b[0;34m\u001b[0m            \u001b[0;34m')'\u001b[0m\u001b[0;34m\u001b[0m\n",
       "\u001b[0;34m\u001b[0m            \u001b[0;31m# also, match plural form\u001b[0m\u001b[0;34m\u001b[0m\n",
       "\u001b[0;34m\u001b[0m            \u001b[0;34m'(?:s)?'\u001b[0m\u001b[0;34m\u001b[0m\n",
       "\u001b[0;34m\u001b[0m            \u001b[0;34mrf'(?:\\s|$|{separators_re})'\u001b[0m\u001b[0;34m\u001b[0m\n",
       "\u001b[0;34m\u001b[0m        \u001b[0;34m')'\u001b[0m\u001b[0;34m\u001b[0m\n",
       "\u001b[0;34m\u001b[0m    \u001b[0;34m)\u001b[0m\u001b[0;34m\u001b[0m\u001b[0;34m\u001b[0m\u001b[0m\n",
       "\u001b[0;31mFile:\u001b[0m      ~/multi-omics/omics.py\n",
       "\u001b[0;31mType:\u001b[0m      function\n"
      ]
     },
     "metadata": {},
     "output_type": "display_data"
    }
   ],
   "source": [
    "from omics import get_ome_regexp\n",
    "ome_re = get_ome_regexp()\n",
    "get_ome_regexp??"
   ]
  },
  {
   "cell_type": "code",
   "execution_count": 12,
   "metadata": {},
   "outputs": [
    {
     "data": {
      "text/html": [
       "<div>\n",
       "<style scoped>\n",
       "    .dataframe tbody tr th:only-of-type {\n",
       "        vertical-align: middle;\n",
       "    }\n",
       "\n",
       "    .dataframe tbody tr th {\n",
       "        vertical-align: top;\n",
       "    }\n",
       "\n",
       "    .dataframe thead th {\n",
       "        text-align: right;\n",
       "    }\n",
       "</style>\n",
       "<table border=\"1\" class=\"dataframe\">\n",
       "  <thead>\n",
       "    <tr style=\"text-align: right;\">\n",
       "      <th></th>\n",
       "      <th>uid</th>\n",
       "      <th>match</th>\n",
       "      <th>term</th>\n",
       "    </tr>\n",
       "  </thead>\n",
       "  <tbody>\n",
       "    <tr>\n",
       "      <th>2</th>\n",
       "      <td>15687839</td>\n",
       "      <td>1</td>\n",
       "      <td>genome</td>\n",
       "    </tr>\n",
       "    <tr>\n",
       "      <th>7</th>\n",
       "      <td>16611894</td>\n",
       "      <td>0</td>\n",
       "      <td>genome</td>\n",
       "    </tr>\n",
       "    <tr>\n",
       "      <th>9</th>\n",
       "      <td>16935752</td>\n",
       "      <td>0</td>\n",
       "      <td>genome</td>\n",
       "    </tr>\n",
       "  </tbody>\n",
       "</table>\n",
       "</div>"
      ],
      "text/plain": [
       "        uid  match    term\n",
       "2  15687839      1  genome\n",
       "7  16611894      0  genome\n",
       "9  16935752      0  genome"
      ]
     },
     "execution_count": 12,
     "metadata": {},
     "output_type": "execute_result"
    }
   ],
   "source": [
    "ome_occurrences = (\n",
    "    literature['abstract_clean'].str.lower()\n",
    "    .str.extractall(ome_re)[0]\n",
    "    .to_frame('term').reset_index()\n",
    ")\n",
    "ome_occurrences = ome_occurrences[~ome_occurrences.term.isin(note_an_ome)]\n",
    "ome_occurrences.head(3)"
   ]
  },
  {
   "cell_type": "markdown",
   "metadata": {},
   "source": [
    "### 1.2 Fix typos"
   ]
  },
  {
   "cell_type": "code",
   "execution_count": 13,
   "metadata": {},
   "outputs": [],
   "source": [
    "from helpers.text_processing import find_term_typos, create_typos_map"
   ]
  },
  {
   "cell_type": "code",
   "execution_count": 14,
   "metadata": {},
   "outputs": [
    {
     "data": {
      "text/html": [
       "<div>\n",
       "<style scoped>\n",
       "    .dataframe tbody tr th:only-of-type {\n",
       "        vertical-align: middle;\n",
       "    }\n",
       "\n",
       "    .dataframe tbody tr th {\n",
       "        vertical-align: top;\n",
       "    }\n",
       "\n",
       "    .dataframe thead th {\n",
       "        text-align: right;\n",
       "    }\n",
       "</style>\n",
       "<table border=\"1\" class=\"dataframe\">\n",
       "  <thead>\n",
       "    <tr style=\"text-align: right;\">\n",
       "      <th></th>\n",
       "      <th>rare_term</th>\n",
       "      <th>popular_term</th>\n",
       "      <th>similarity</th>\n",
       "    </tr>\n",
       "  </thead>\n",
       "  <tbody>\n",
       "    <tr>\n",
       "      <th>0</th>\n",
       "      <td>phospho-proteome</td>\n",
       "      <td>phosphoproteome</td>\n",
       "      <td>0.967742</td>\n",
       "    </tr>\n",
       "    <tr>\n",
       "      <th>1</th>\n",
       "      <td>mirnaome</td>\n",
       "      <td>mirnome</td>\n",
       "      <td>0.933333</td>\n",
       "    </tr>\n",
       "    <tr>\n",
       "      <th>2</th>\n",
       "      <td>mirome</td>\n",
       "      <td>mirnome</td>\n",
       "      <td>0.923077</td>\n",
       "    </tr>\n",
       "  </tbody>\n",
       "</table>\n",
       "</div>"
      ],
      "text/plain": [
       "          rare_term     popular_term  similarity\n",
       "0  phospho-proteome  phosphoproteome    0.967742\n",
       "1          mirnaome          mirnome    0.933333\n",
       "2            mirome          mirnome    0.923077"
      ]
     },
     "execution_count": 14,
     "metadata": {},
     "output_type": "execute_result"
    }
   ],
   "source": [
    "ome_counts = ome_occurrences.drop_duplicates(['uid', 'term']).term.sorted_value_counts()\n",
    "potential_ome_typos = find_term_typos(ome_counts, TERM_IN_AT_LEAST_N_ARTICLES - 1)\n",
    "potential_ome_typos"
   ]
  },
  {
   "cell_type": "code",
   "execution_count": 15,
   "metadata": {},
   "outputs": [
    {
     "data": {
      "text/plain": [
       "uid\n",
       "25783038    stemic responses of gut hormones, the circulating miRNAome and the metabolome in a rat model of ...\n",
       "29312565    hts. Here, we performed an integrated analysis of miRNAome, proteome and metabolome, aimed to in...\n",
       "Name: abstract_clean, dtype: object"
      ]
     },
     "execution_count": 15,
     "metadata": {},
     "output_type": "execute_result"
    }
   ],
   "source": [
    "check_usage_in_abstracts('miRNAome')"
   ]
  },
  {
   "cell_type": "code",
   "execution_count": 16,
   "metadata": {},
   "outputs": [],
   "source": [
    "is_typo_subset_or_variant = {\n",
    "    ('phospho-proteome', 'phosphoproteome'): True,\n",
    "    ('mirnaome', 'mirnome'): True,\n",
    "    ('mirome', 'mirnome'): True\n",
    "}\n",
    "ome_typos_map = create_typos_map(potential_ome_typos, is_typo_subset_or_variant)"
   ]
  },
  {
   "cell_type": "code",
   "execution_count": 17,
   "metadata": {},
   "outputs": [
    {
     "data": {
      "text/plain": [
       "mirnaome            2\n",
       "phospho-proteome    1\n",
       "mirome              1\n",
       "Name: term, dtype: int64"
      ]
     },
     "execution_count": 17,
     "metadata": {},
     "output_type": "execute_result"
    }
   ],
   "source": [
    "replaced = ome_occurrences.term[ome_occurrences.term.isin(ome_typos_map)]\n",
    "replaced.value_counts()"
   ]
  },
  {
   "cell_type": "code",
   "execution_count": 18,
   "metadata": {},
   "outputs": [
    {
     "data": {
      "text/plain": [
       "4"
      ]
     },
     "execution_count": 18,
     "metadata": {},
     "output_type": "execute_result"
    }
   ],
   "source": [
    "len(replaced)"
   ]
  },
  {
   "cell_type": "code",
   "execution_count": 19,
   "metadata": {},
   "outputs": [],
   "source": [
    "ome_occurrences.term = ome_occurrences.term.replace(ome_typos_map)"
   ]
  },
  {
   "cell_type": "markdown",
   "metadata": {},
   "source": [
    "### 1.3 Popular \\*ome terms"
   ]
  },
  {
   "cell_type": "code",
   "execution_count": 20,
   "metadata": {},
   "outputs": [
    {
     "data": {
      "text/plain": [
       "index\n",
       "genome                 784\n",
       "transcriptome          317\n",
       "proteome               231\n",
       "microbiome             183\n",
       "metabolome             178\n",
       "exome                   72\n",
       "epigenome               49\n",
       "whole-genome            48\n",
       "methylome               30\n",
       "metagenome              24\n",
       "whole-exome             23\n",
       "interactome             20\n",
       "phenome                 18\n",
       "phosphoproteome         17\n",
       "lipidome                14\n",
       "secretome               13\n",
       "metatranscriptome       10\n",
       "translatome              9\n",
       "whole-transcriptome      8\n",
       "exposome                 6\n",
       "mirnome                  6\n",
       "host-microbiome          5\n",
       "metaproteome             5\n",
       "Name: term, dtype: int64"
      ]
     },
     "execution_count": 20,
     "metadata": {},
     "output_type": "execute_result"
    }
   ],
   "source": [
    "ome_counts = ome_occurrences.drop_duplicates(['uid', 'term']).term.sorted_value_counts()\n",
    "ome_counts[ome_counts >= TERM_IN_AT_LEAST_N_ARTICLES]"
   ]
  },
  {
   "cell_type": "markdown",
   "metadata": {},
   "source": [
    "### 2. Lookup by omics and adjectives"
   ]
  },
  {
   "cell_type": "code",
   "execution_count": 21,
   "metadata": {},
   "outputs": [
    {
     "data": {
      "text/plain": [
       "\u001b[0;31mSignature:\u001b[0m \u001b[0mget_omics_regexp\u001b[0m\u001b[0;34m(\u001b[0m\u001b[0;34m)\u001b[0m \u001b[0;34m->\u001b[0m \u001b[0mstr\u001b[0m\u001b[0;34m\u001b[0m\u001b[0;34m\u001b[0m\u001b[0m\n",
       "\u001b[0;31mDocstring:\u001b[0m <no docstring>\n",
       "\u001b[0;31mSource:\u001b[0m   \n",
       "\u001b[0;32mdef\u001b[0m \u001b[0mget_omics_regexp\u001b[0m\u001b[0;34m(\u001b[0m\u001b[0;34m)\u001b[0m \u001b[0;34m->\u001b[0m \u001b[0mstr\u001b[0m\u001b[0;34m:\u001b[0m\u001b[0;34m\u001b[0m\n",
       "\u001b[0;34m\u001b[0m    \u001b[0;32mreturn\u001b[0m \u001b[0;34m(\u001b[0m\u001b[0;34m\u001b[0m\n",
       "\u001b[0;34m\u001b[0m        \u001b[0;31m# use look-ahead to allow for overlaps\u001b[0m\u001b[0;34m\u001b[0m\n",
       "\u001b[0;34m\u001b[0m        \u001b[0;34m'(?='\u001b[0m\u001b[0;34m\u001b[0m\n",
       "\u001b[0;34m\u001b[0m            \u001b[0;34mrf'(?:^|\\s|{separators_re})'\u001b[0m\u001b[0;34m\u001b[0m\n",
       "\u001b[0;34m\u001b[0m            \u001b[0;31m# match '*-omic', '*-*omic', '*omic'\u001b[0m\u001b[0;34m\u001b[0m\n",
       "\u001b[0;34m\u001b[0m            \u001b[0;34m'('\u001b[0m\u001b[0;34m\u001b[0m\n",
       "\u001b[0;34m\u001b[0m                \u001b[0;31m# handle both *omic-*omic and *-*omic\u001b[0m\u001b[0;34m\u001b[0m\n",
       "\u001b[0;34m\u001b[0m                \u001b[0;34mr'(?:\\w+)omic'\u001b[0m\u001b[0;34m\u001b[0m\n",
       "\u001b[0;34m\u001b[0m                \u001b[0;34m'|'\u001b[0m\u001b[0;34m\u001b[0m\n",
       "\u001b[0;34m\u001b[0m                \u001b[0;34mr'(?:(?:\\w+-\\w*)|\\w+)omic'\u001b[0m\u001b[0;34m\u001b[0m\n",
       "\u001b[0;34m\u001b[0m            \u001b[0;34m')'\u001b[0m\u001b[0;34m\u001b[0m\n",
       "\u001b[0;34m\u001b[0m            \u001b[0;31m# match both *omic and omics, but capture only \"omic\" part\u001b[0m\u001b[0;34m\u001b[0m\n",
       "\u001b[0;34m\u001b[0m            \u001b[0;34m'(?:s)?'\u001b[0m\u001b[0;34m\u001b[0m\n",
       "\u001b[0;34m\u001b[0m            \u001b[0;34mrf'(?:\\s|$|{separators_re})'\u001b[0m\u001b[0;34m\u001b[0m\n",
       "\u001b[0;34m\u001b[0m        \u001b[0;34m')'\u001b[0m\u001b[0;34m\u001b[0m\n",
       "\u001b[0;34m\u001b[0m    \u001b[0;34m)\u001b[0m\u001b[0;34m\u001b[0m\u001b[0;34m\u001b[0m\u001b[0m\n",
       "\u001b[0;31mFile:\u001b[0m      ~/multi-omics/omics.py\n",
       "\u001b[0;31mType:\u001b[0m      function\n"
      ]
     },
     "metadata": {},
     "output_type": "display_data"
    }
   ],
   "source": [
    "from omics import get_omics_regexp\n",
    "\n",
    "omics_re = get_omics_regexp()\n",
    "get_omics_regexp??"
   ]
  },
  {
   "cell_type": "code",
   "execution_count": 22,
   "metadata": {},
   "outputs": [
    {
     "data": {
      "text/plain": [
       "uid\n",
       "23105932    endium and integrative omics analyses, so-called \"integromics\", have extended our understanding ...\n",
       "24299457    rmacological response mechanisms. By means of an \"integromics\" network approach, we assessed the...\n",
       "25887273                                  \\nThe avalanche of integromics and panomics approaches shifted the de\n",
       "27255914    l explore the essential elements of assembling an integromics framework from a more detailed per...\n",
       "31126983    on of these orthogonal data sets, perhaps called \"integromics.\" We highlight examples of recent ...\n",
       "Name: abstract_clean, dtype: object"
      ]
     },
     "execution_count": 22,
     "metadata": {},
     "output_type": "execute_result"
    }
   ],
   "source": [
    "check_usage_in_abstracts('integromics')"
   ]
  },
  {
   "cell_type": "code",
   "execution_count": 23,
   "metadata": {},
   "outputs": [
    {
     "data": {
      "text/plain": [
       "uid\n",
       "19837627    s on metabolomics data management, normalization, meta-omics data analysis, and an integrative a...\n",
       "26315987    nd us through the application of high-resolution \"meta-omics\". Metaproteomics offers the ability...\n",
       "28744486    odontal ligament and alveolar bone. We employed a meta-omics approach that included microbial 16...\n",
       "29427518    ast few years, the application of high-throughput meta-omics methods has provided great progress...\n",
       "29656009    enomics, transcriptomics, proteomics metabolomics meta-omics and combined omics as powerful stra...\n",
       "30285475    per reviews studies in which application of these meta-omics technologies has led to a better un...\n",
       "30728080    onomas sp. alone.\\n\\n\\nThe three types of integrated meta-omics analyses effectively revealed th...\n",
       "30945796    oding data sets were integrated in a multivariate meta-omics analysis (multi-block PLS-DA from t...\n",
       "31186307    niches of constituent populations, and functional meta-omics becomes a proxy to characterize the...\n",
       "31803221    s, encompassing microbial communities, omics, and meta-omics as well as clinical or chemistry va...\n",
       "31810497    in a complex microbiome. The application of these meta-omics approaches to clinical samples has ...\n",
       "32516966                     Recent advances in the field of meta-omics sciences and related bioinformatics too\n",
       "32579720    s, transcriptomics, proteomics, metabolomics, and meta-omics. The ability to interpret omics in ...\n",
       "Name: abstract_clean, dtype: object"
      ]
     },
     "execution_count": 23,
     "metadata": {},
     "output_type": "execute_result"
    }
   ],
   "source": [
    "check_usage_in_abstracts('meta-omics')"
   ]
  },
  {
   "cell_type": "code",
   "execution_count": 24,
   "metadata": {},
   "outputs": [],
   "source": [
    "multi_omic = {\n",
    "    'multi-omic',\n",
    "    'multiomic',\n",
    "    'cross-omic',\n",
    "    'panomic',\n",
    "    'pan-omic',\n",
    "    'trans-omic',\n",
    "    'transomic',\n",
    "    'four-omic',\n",
    "    'multiple-omic',\n",
    "    'inter-omic',\n",
    "    'poly-omic',\n",
    "    'polyomic',\n",
    "    'integromic'\n",
    "}\n",
    "\n",
    "tools = {\n",
    "    # MixOmics\n",
    "    'mixomic'\n",
    "}\n",
    "\n",
    "vague = {\n",
    "    'single-omic'\n",
    "}\n",
    "\n",
    "adjectives = {\n",
    "    'economic',\n",
    "    'socio-economic',\n",
    "    'socioeconomic',\n",
    "    'taxonomic',\n",
    "    'syndromic',\n",
    "    'agronomic',\n",
    "    # temporal\n",
    "    'postgenomic',\n",
    "    'post-genomic'\n",
    "}\n",
    "\n",
    "not_an_omic = {\n",
    "    *adjectives,\n",
    "    *multi_omic,\n",
    "    *tools,\n",
    "    *vague\n",
    "}"
   ]
  },
  {
   "cell_type": "code",
   "execution_count": 25,
   "metadata": {},
   "outputs": [
    {
     "data": {
      "text/html": [
       "<div>\n",
       "<style scoped>\n",
       "    .dataframe tbody tr th:only-of-type {\n",
       "        vertical-align: middle;\n",
       "    }\n",
       "\n",
       "    .dataframe tbody tr th {\n",
       "        vertical-align: top;\n",
       "    }\n",
       "\n",
       "    .dataframe thead th {\n",
       "        text-align: right;\n",
       "    }\n",
       "</style>\n",
       "<table border=\"1\" class=\"dataframe\">\n",
       "  <thead>\n",
       "    <tr style=\"text-align: right;\">\n",
       "      <th></th>\n",
       "      <th>uid</th>\n",
       "      <th>match</th>\n",
       "      <th>term</th>\n",
       "    </tr>\n",
       "  </thead>\n",
       "  <tbody>\n",
       "    <tr>\n",
       "      <th>1</th>\n",
       "      <td>15687839</td>\n",
       "      <td>0</td>\n",
       "      <td>proteomic</td>\n",
       "    </tr>\n",
       "    <tr>\n",
       "      <th>2</th>\n",
       "      <td>15687839</td>\n",
       "      <td>1</td>\n",
       "      <td>proteomic</td>\n",
       "    </tr>\n",
       "  </tbody>\n",
       "</table>\n",
       "</div>"
      ],
      "text/plain": [
       "        uid  match       term\n",
       "1  15687839      0  proteomic\n",
       "2  15687839      1  proteomic"
      ]
     },
     "execution_count": 25,
     "metadata": {},
     "output_type": "execute_result"
    }
   ],
   "source": [
    "omic_occurrences = (\n",
    "    literature['abstract_clean'].str.lower()\n",
    "    .str.extractall(omics_re)[0]\n",
    "    .to_frame('term').reset_index()\n",
    ")\n",
    "omic_occurrences = omic_occurrences[~omic_occurrences.term.isin(not_an_omic)]\n",
    "omic_occurrences.head(2)"
   ]
  },
  {
   "cell_type": "markdown",
   "metadata": {},
   "source": [
    "### 2.2 Fix typos"
   ]
  },
  {
   "cell_type": "code",
   "execution_count": 26,
   "metadata": {},
   "outputs": [],
   "source": [
    "from helpers.text_processing import find_term_typos"
   ]
  },
  {
   "cell_type": "code",
   "execution_count": 27,
   "metadata": {},
   "outputs": [
    {
     "data": {
      "text/html": [
       "<div>\n",
       "<style scoped>\n",
       "    .dataframe tbody tr th:only-of-type {\n",
       "        vertical-align: middle;\n",
       "    }\n",
       "\n",
       "    .dataframe tbody tr th {\n",
       "        vertical-align: top;\n",
       "    }\n",
       "\n",
       "    .dataframe thead th {\n",
       "        text-align: right;\n",
       "    }\n",
       "</style>\n",
       "<table border=\"1\" class=\"dataframe\">\n",
       "  <thead>\n",
       "    <tr style=\"text-align: right;\">\n",
       "      <th></th>\n",
       "      <th>rare_term</th>\n",
       "      <th>popular_term</th>\n",
       "      <th>similarity</th>\n",
       "    </tr>\n",
       "  </thead>\n",
       "  <tbody>\n",
       "    <tr>\n",
       "      <th>0</th>\n",
       "      <td>phospho-proteomic</td>\n",
       "      <td>phosphoproteomic</td>\n",
       "      <td>0.969697</td>\n",
       "    </tr>\n",
       "    <tr>\n",
       "      <th>1</th>\n",
       "      <td>transriptomic</td>\n",
       "      <td>transcriptomic</td>\n",
       "      <td>0.962963</td>\n",
       "    </tr>\n",
       "    <tr>\n",
       "      <th>2</th>\n",
       "      <td>trancriptomic</td>\n",
       "      <td>transcriptomic</td>\n",
       "      <td>0.962963</td>\n",
       "    </tr>\n",
       "    <tr>\n",
       "      <th>3</th>\n",
       "      <td>proteo-genomic</td>\n",
       "      <td>proteogenomic</td>\n",
       "      <td>0.962963</td>\n",
       "    </tr>\n",
       "    <tr>\n",
       "      <th>4</th>\n",
       "      <td>meta-proteomic</td>\n",
       "      <td>metaproteomic</td>\n",
       "      <td>0.962963</td>\n",
       "    </tr>\n",
       "    <tr>\n",
       "      <th>5</th>\n",
       "      <td>epi-genomic</td>\n",
       "      <td>epigenomic</td>\n",
       "      <td>0.952381</td>\n",
       "    </tr>\n",
       "    <tr>\n",
       "      <th>6</th>\n",
       "      <td>metabotranscriptomic</td>\n",
       "      <td>metatranscriptomic</td>\n",
       "      <td>0.947368</td>\n",
       "    </tr>\n",
       "    <tr>\n",
       "      <th>7</th>\n",
       "      <td>n-glycoproteomic</td>\n",
       "      <td>glycoproteomic</td>\n",
       "      <td>0.933333</td>\n",
       "    </tr>\n",
       "    <tr>\n",
       "      <th>8</th>\n",
       "      <td>c-metabolomic</td>\n",
       "      <td>metabolomic</td>\n",
       "      <td>0.916667</td>\n",
       "    </tr>\n",
       "    <tr>\n",
       "      <th>9</th>\n",
       "      <td>pharmacoepigenomic</td>\n",
       "      <td>pharmacogenomic</td>\n",
       "      <td>0.909091</td>\n",
       "    </tr>\n",
       "    <tr>\n",
       "      <th>10</th>\n",
       "      <td>metobolomic</td>\n",
       "      <td>metabolomic</td>\n",
       "      <td>0.909091</td>\n",
       "    </tr>\n",
       "    <tr>\n",
       "      <th>11</th>\n",
       "      <td>epitranscriptomic</td>\n",
       "      <td>transcriptomic</td>\n",
       "      <td>0.903226</td>\n",
       "    </tr>\n",
       "  </tbody>\n",
       "</table>\n",
       "</div>"
      ],
      "text/plain": [
       "               rare_term        popular_term  similarity\n",
       "0      phospho-proteomic    phosphoproteomic    0.969697\n",
       "1          transriptomic      transcriptomic    0.962963\n",
       "2          trancriptomic      transcriptomic    0.962963\n",
       "3         proteo-genomic       proteogenomic    0.962963\n",
       "4         meta-proteomic       metaproteomic    0.962963\n",
       "5            epi-genomic          epigenomic    0.952381\n",
       "6   metabotranscriptomic  metatranscriptomic    0.947368\n",
       "7       n-glycoproteomic      glycoproteomic    0.933333\n",
       "8          c-metabolomic         metabolomic    0.916667\n",
       "9     pharmacoepigenomic     pharmacogenomic    0.909091\n",
       "10           metobolomic         metabolomic    0.909091\n",
       "11     epitranscriptomic      transcriptomic    0.903226"
      ]
     },
     "execution_count": 27,
     "metadata": {},
     "output_type": "execute_result"
    }
   ],
   "source": [
    "omic_counts = omic_occurrences.drop_duplicates(['uid', 'term']).term.sorted_value_counts()\n",
    "potential_omic_typos = find_term_typos(omic_counts, TERM_IN_AT_LEAST_N_ARTICLES - 1)\n",
    "potential_omic_typos"
   ]
  },
  {
   "cell_type": "code",
   "execution_count": 28,
   "metadata": {},
   "outputs": [
    {
     "data": {
      "text/plain": [
       "uid\n",
       "30936206    h the Entner-Doudoroff pathway. We integrated the C-metabolomics data with physiological paramet...\n",
       "Name: abstract_clean, dtype: object"
      ]
     },
     "execution_count": 28,
     "metadata": {},
     "output_type": "execute_result"
    }
   ],
   "source": [
    "check_usage_in_abstracts('C-metabolomics')"
   ]
  },
  {
   "cell_type": "markdown",
   "metadata": {},
   "source": [
    "Not captured in the text abstract, but full version has 13C, so carbon-13 so type of metabolomics."
   ]
  },
  {
   "cell_type": "code",
   "execution_count": 29,
   "metadata": {},
   "outputs": [],
   "source": [
    "is_typo_subset_or_variant = {\n",
    "    ('phospho-proteomic', 'phosphoproteomic'): True,\n",
    "    ('transriptomic', 'transcriptomic'): True,\n",
    "    ('trancriptomic', 'transcriptomic'): True,\n",
    "    ('proteo-genomic', 'proteogenomic'): True,\n",
    "    ('meta-proteomic', 'metaproteomic'): True,\n",
    "    ('epi-genomic', 'epigenomic'): True,\n",
    "    ('metabotranscriptomic', 'metatranscriptomic'): False,\n",
    "    ('n-glycoproteomic', 'glycoproteomic'): True,\n",
    "    ('c-metabolomic', 'metabolomic'): True,\n",
    "    ('pharmacoepigenomic', 'pharmacogenomic'): False,\n",
    "    ('metobolomic', 'metabolomic'): True,\n",
    "    ('epitranscriptomic', 'transcriptomic'): False\n",
    "}\n",
    "omic_typos_map = create_typos_map(potential_omic_typos, is_typo_subset_or_variant)"
   ]
  },
  {
   "cell_type": "code",
   "execution_count": 30,
   "metadata": {},
   "outputs": [
    {
     "data": {
      "text/plain": [
       "meta-proteomic       2\n",
       "phospho-proteomic    2\n",
       "proteo-genomic       1\n",
       "epi-genomic          1\n",
       "trancriptomic        1\n",
       "c-metabolomic        1\n",
       "transriptomic        1\n",
       "n-glycoproteomic     1\n",
       "metobolomic          1\n",
       "Name: term, dtype: int64"
      ]
     },
     "execution_count": 30,
     "metadata": {},
     "output_type": "execute_result"
    }
   ],
   "source": [
    "replaced = omic_occurrences.term[omic_occurrences.term.isin(omic_typos_map)]\n",
    "replaced.value_counts()"
   ]
  },
  {
   "cell_type": "code",
   "execution_count": 31,
   "metadata": {},
   "outputs": [
    {
     "data": {
      "text/plain": [
       "11"
      ]
     },
     "execution_count": 31,
     "metadata": {},
     "output_type": "execute_result"
    }
   ],
   "source": [
    "len(replaced)"
   ]
  },
  {
   "cell_type": "code",
   "execution_count": 32,
   "metadata": {},
   "outputs": [],
   "source": [
    "omic_occurrences.term = omic_occurrences.term.replace(omic_typos_map)"
   ]
  },
  {
   "cell_type": "markdown",
   "metadata": {},
   "source": [
    "### 2.3 Popular *omic(s) terms:"
   ]
  },
  {
   "cell_type": "code",
   "execution_count": 33,
   "metadata": {},
   "outputs": [
    {
     "data": {
      "text/plain": [
       "index\n",
       "proteomics             551\n",
       "genomics               544\n",
       "metabolomics           442\n",
       "transcriptomics        433\n",
       "metagenomics            91\n",
       "epigenomics             80\n",
       "lipidomics              52\n",
       "proteogenomics          36\n",
       "phosphoproteomics       29\n",
       "metaproteomics          28\n",
       "pharmacogenomics        25\n",
       "metatranscriptomics     23\n",
       "phenomics               19\n",
       "glycomics               14\n",
       "fluxomics               13\n",
       "radiomics               13\n",
       "meta-omics              12\n",
       "metabonomics            12\n",
       "peptidomics             10\n",
       "methylomics              9\n",
       "nutrigenomics            8\n",
       "microbiomics             7\n",
       "glycoproteomics          5\n",
       "Name: term, dtype: int64"
      ]
     },
     "execution_count": 33,
     "metadata": {},
     "output_type": "execute_result"
    }
   ],
   "source": [
    "omic_counts = omic_occurrences.drop_duplicates(['uid', 'term']).term.sorted_value_counts()\n",
    "omic_counts[omic_counts >= TERM_IN_AT_LEAST_N_ARTICLES].add_suffix('s')"
   ]
  },
  {
   "cell_type": "markdown",
   "metadata": {},
   "source": [
    "## Fields of study"
   ]
  },
  {
   "cell_type": "code",
   "execution_count": 34,
   "metadata": {},
   "outputs": [
    {
     "data": {
      "text/plain": [
       "('genetics', 'epigenetics')"
      ]
     },
     "execution_count": 34,
     "metadata": {},
     "output_type": "execute_result"
    }
   ],
   "source": [
    "'genetics', 'epigenetics'"
   ]
  },
  {
   "cell_type": "markdown",
   "metadata": {},
   "source": [
    "Some authors may prefer to say \"we integrated genetic and proteomic data\" rather than \"genomic and proteomic\""
   ]
  },
  {
   "cell_type": "markdown",
   "metadata": {},
   "source": [
    "### Crude overview"
   ]
  },
  {
   "cell_type": "code",
   "execution_count": 35,
   "metadata": {},
   "outputs": [],
   "source": [
    "ome_terms = Series(ome_counts[ome_counts > TERM_IN_AT_LEAST_N_ARTICLES].index)\n",
    "omic_terms = Series(omic_counts[omic_counts > TERM_IN_AT_LEAST_N_ARTICLES].index)"
   ]
  },
  {
   "cell_type": "code",
   "execution_count": 36,
   "metadata": {},
   "outputs": [],
   "source": [
    "assert omics_features.index.name == 'uid'\n",
    "\n",
    "for term in ome_terms:\n",
    "    mentioned_by_uid = set(ome_occurrences[ome_occurrences.term == term].uid)\n",
    "    omics_features['mentions_' + term] = omics_features.index.isin(mentioned_by_uid)\n",
    "\n",
    "for term in omic_terms:\n",
    "    mentioned_by_uid = set(omic_occurrences[omic_occurrences.term == term].uid)\n",
    "    omics_features['mentions_' + term] = omics_features.index.isin(mentioned_by_uid)"
   ]
  },
  {
   "cell_type": "code",
   "execution_count": 37,
   "metadata": {},
   "outputs": [],
   "source": [
    "ome_terms_mentioned = omics_features['mentions_' + ome_terms].rename(columns=lambda x: x.replace('mentions_', ''))\n",
    "omic_terms_mentioned = omics_features['mentions_' + omic_terms].rename(columns=lambda x: x.replace('mentions_', ''))"
   ]
  },
  {
   "cell_type": "code",
   "execution_count": 38,
   "metadata": {},
   "outputs": [],
   "source": [
    "%R library(ComplexUpset);"
   ]
  },
  {
   "cell_type": "code",
   "execution_count": 39,
   "metadata": {},
   "outputs": [
    {
     "name": "stdout",
     "output_type": "stream",
     "text": [
      "[1] \"Dropping 12 empty groups\"\n"
     ]
    },
    {
     "data": {
      "image/png": "[encoded data removed]"
     },
     "metadata": {},
     "output_type": "display_data"
    }
   ],
   "source": [
    "%%R -i ome_terms_mentioned -w 800 -r 100\n",
    "\n",
    "upset(ome_terms_mentioned, colnames(ome_terms_mentioned), min_size=10, width_ratio=0.1)"
   ]
  },
  {
   "cell_type": "code",
   "execution_count": 40,
   "metadata": {},
   "outputs": [
    {
     "name": "stdout",
     "output_type": "stream",
     "text": [
      "[1] \"Dropping 14 empty groups\"\n"
     ]
    },
    {
     "data": {
      "image/png": "[encoded data removed]"
     },
     "metadata": {},
     "output_type": "display_data"
    }
   ],
   "source": [
    "%%R -i omic_terms_mentioned -w 800 -r 100\n",
    "\n",
    "upset(omic_terms_mentioned, colnames(omic_terms_mentioned), min_size=10, width_ratio=0.1)"
   ]
  },
  {
   "cell_type": "markdown",
   "metadata": {},
   "source": [
    "## Merge -ome and -omic terms"
   ]
  },
  {
   "cell_type": "code",
   "execution_count": 41,
   "metadata": {},
   "outputs": [],
   "source": [
    "terms_to_omics = {\n",
    "    'whole-transcriptome': 'transcriptomics',\n",
    "    'whole-genome': 'genomics',\n",
    "    # note: some researchers use \"exomics\", but it is relatively rare and\n",
    "    # does not occur on its own in analysed papers, thus using \"genomics\"\n",
    "    'exome': 'genomics',\n",
    "    'whole-exome': 'genomics',\n",
    "}"
   ]
  },
  {
   "cell_type": "code",
   "execution_count": 42,
   "metadata": {},
   "outputs": [
    {
     "name": "stdout",
     "output_type": "stream",
     "text": [
      "Creating omic interactomics\n",
      "Creating omic secretomics\n",
      "Creating omic translatomics\n",
      "Creating omic exposomics\n",
      "Creating omic mirnomics\n"
     ]
    },
    {
     "data": {
      "text/plain": [
       "{'proteomics': ['proteomic', 'proteome'],\n",
       " 'genomics': ['genomic', 'genome', 'exome', 'whole-genome', 'whole-exome'],\n",
       " 'metabolomics': ['metabolomic', 'metabolome'],\n",
       " 'transcriptomics': ['transcriptomic', 'transcriptome', 'whole-transcriptome'],\n",
       " 'metagenomics': ['metagenomic', 'metagenome'],\n",
       " 'epigenomics': ['epigenomic', 'epigenome'],\n",
       " 'lipidomics': ['lipidomic', 'lipidome'],\n",
       " 'proteogenomics': ['proteogenomic'],\n",
       " 'phosphoproteomics': ['phosphoproteomic', 'phosphoproteome'],\n",
       " 'metaproteomics': ['metaproteomic'],\n",
       " 'pharmacogenomics': ['pharmacogenomic'],\n",
       " 'metatranscriptomics': ['metatranscriptomic', 'metatranscriptome'],\n",
       " 'phenomics': ['phenomic', 'phenome'],\n",
       " 'glycomics': ['glycomic'],\n",
       " 'fluxomics': ['fluxomic'],\n",
       " 'radiomics': ['radiomic'],\n",
       " 'meta-omics': ['meta-omic'],\n",
       " 'metabonomics': ['metabonomic'],\n",
       " 'peptidomics': ['peptidomic'],\n",
       " 'methylomics': ['methylomic', 'methylome'],\n",
       " 'nutrigenomics': ['nutrigenomic'],\n",
       " 'microbiomics': ['microbiomic', 'microbiome'],\n",
       " 'interactomics': ['interactome'],\n",
       " 'secretomics': ['secretome'],\n",
       " 'translatomics': ['translatome'],\n",
       " 'exposomics': ['exposome'],\n",
       " 'mirnomics': ['mirnome']}"
      ]
     },
     "execution_count": 42,
     "metadata": {},
     "output_type": "execute_result"
    }
   ],
   "source": [
    "from warnings import warn\n",
    "\n",
    "terms_associated_with_omic = {\n",
    "    omic + 's': [omic]\n",
    "    for omic in omic_terms\n",
    "}\n",
    "\n",
    "for ome in ome_terms:\n",
    "    assert ome.endswith('ome')\n",
    "    auto_generate_omic_term = ome[:-3] + 'omics'\n",
    "    omic = terms_to_omics.get(\n",
    "        ome,\n",
    "        auto_generate_omic_term  # default if no custom\n",
    "    )\n",
    "    if omic not in terms_associated_with_omic:\n",
    "        if omic in omic_counts.index:\n",
    "            warn(f'{omic} was removed at thresholding, but it is a frequent -ome!')\n",
    "        else:\n",
    "            print(f'Creating omic {omic}')\n",
    "        terms_associated_with_omic[omic] = []\n",
    "\n",
    "    terms_associated_with_omic[omic].append(ome)\n",
    "\n",
    "terms_associated_with_omic"
   ]
  }
 ],
 "metadata": {
  "kernelspec": {
   "display_name": "Python 3",
   "language": "python",
   "name": "python3"
  },
  "language_info": {
   "codemirror_mode": {
    "name": "ipython",
    "version": 3
   },
   "file_extension": ".py",
   "mimetype": "text/x-python",
   "name": "python",
   "nbconvert_exporter": "python",
   "pygments_lexer": "ipython3",
   "version": "3.8.3"
  }
 },
 "nbformat": 4,
 "nbformat_minor": 4
}
