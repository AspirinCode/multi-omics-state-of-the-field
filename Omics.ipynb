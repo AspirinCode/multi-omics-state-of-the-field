{
 "cells": [
  {
   "cell_type": "markdown",
   "metadata": {},
   "source": [
    "**Aims**:\n",
    " - extract the omics mentioned in multi-omics articles"
   ]
  },
  {
   "cell_type": "code",
   "execution_count": 1,
   "metadata": {},
   "outputs": [],
   "source": [
    "%run notebook_setup.ipynb"
   ]
  },
  {
   "cell_type": "code",
   "execution_count": 2,
   "metadata": {},
   "outputs": [],
   "source": [
    "import pandas\n",
    "pandas.set_option('display.max_colwidth', 100)"
   ]
  },
  {
   "cell_type": "code",
   "execution_count": 3,
   "metadata": {},
   "outputs": [
    {
     "data": {
      "text/markdown": [
       "Imported `literature` (E4FB4141) at Wednesday, 22. Jul 2020 20:55"
      ],
      "text/plain": [
       "<IPython.core.display.Markdown object>"
      ]
     },
     "metadata": {
      "text/markdown": {
       "action": "import",
       "command": "from pubmed_derived_data import literature",
       "finished": "2020-07-22T20:55:02.337826",
       "finished_human_readable": "Wednesday, 22. Jul 2020 20:55",
       "result": [
        {
         "new_file": {
          "crc32": "E4FB4141",
          "sha256": "C981DC33DEA9E19014C4046161FD20ADCF763801479A0184D4670FADAD6CE564"
         },
         "subject": "literature"
        }
       ],
       "started": "2020-07-22T20:55:00.316214"
      }
     },
     "output_type": "display_data"
    }
   ],
   "source": [
    "%vault from pubmed_derived_data import literature"
   ]
  },
  {
   "cell_type": "code",
   "execution_count": 4,
   "metadata": {},
   "outputs": [],
   "source": [
    "has_abstract = ~literature['abstract'].isnull()"
   ]
  },
  {
   "cell_type": "markdown",
   "metadata": {},
   "source": [
    "**TODO: use title if not abstract, add keywords, use full text if available**"
   ]
  },
  {
   "cell_type": "code",
   "execution_count": 5,
   "metadata": {},
   "outputs": [],
   "source": [
    "literature['abstract_clean'] = literature['abstract_clean'].fillna('')"
   ]
  },
  {
   "cell_type": "code",
   "execution_count": 6,
   "metadata": {},
   "outputs": [],
   "source": [
    "omics_features = literature.index.to_frame().copy()"
   ]
  },
  {
   "cell_type": "code",
   "execution_count": 7,
   "metadata": {},
   "outputs": [],
   "source": [
    "from functools import partial\n",
    "from helpers.text_processing import check_usage\n",
    "from pandas import Series\n",
    "\n",
    "check_usage_in_abstracts = partial(check_usage, data=literature, column='abstract_clean')"
   ]
  },
  {
   "cell_type": "code",
   "execution_count": 8,
   "metadata": {},
   "outputs": [],
   "source": [
    "TERM_IN_AT_LEAST_N_ARTICLES = 5"
   ]
  },
  {
   "cell_type": "markdown",
   "metadata": {},
   "source": [
    "# Omics"
   ]
  },
  {
   "cell_type": "markdown",
   "metadata": {},
   "source": [
    "Anythings that ends with -ome, omics"
   ]
  },
  {
   "cell_type": "code",
   "execution_count": 9,
   "metadata": {},
   "outputs": [],
   "source": [
    "note_an_ome = {\n",
    "    'outcome',\n",
    "    'some',\n",
    "    'become',\n",
    "    'home',\n",
    "    'come',\n",
    "    'chromosome',\n",
    "    'overcome',\n",
    "    'cytochrome',\n",
    "    'ribosome',\n",
    "    'syndrome'\n",
    "}"
   ]
  },
  {
   "cell_type": "code",
   "execution_count": 10,
   "metadata": {},
   "outputs": [
    {
     "data": {
      "text/html": [
       "<div>\n",
       "<style scoped>\n",
       "    .dataframe tbody tr th:only-of-type {\n",
       "        vertical-align: middle;\n",
       "    }\n",
       "\n",
       "    .dataframe tbody tr th {\n",
       "        vertical-align: top;\n",
       "    }\n",
       "\n",
       "    .dataframe thead th {\n",
       "        text-align: right;\n",
       "    }\n",
       "</style>\n",
       "<table border=\"1\" class=\"dataframe\">\n",
       "  <thead>\n",
       "    <tr style=\"text-align: right;\">\n",
       "      <th></th>\n",
       "      <th>uid</th>\n",
       "      <th>match</th>\n",
       "      <th>term</th>\n",
       "    </tr>\n",
       "  </thead>\n",
       "  <tbody>\n",
       "    <tr>\n",
       "      <th>5</th>\n",
       "      <td>16611894</td>\n",
       "      <td>0</td>\n",
       "      <td>genome</td>\n",
       "    </tr>\n",
       "    <tr>\n",
       "      <th>7</th>\n",
       "      <td>16935752</td>\n",
       "      <td>0</td>\n",
       "      <td>genome</td>\n",
       "    </tr>\n",
       "    <tr>\n",
       "      <th>9</th>\n",
       "      <td>17420480</td>\n",
       "      <td>0</td>\n",
       "      <td>transcriptome</td>\n",
       "    </tr>\n",
       "  </tbody>\n",
       "</table>\n",
       "</div>"
      ],
      "text/plain": [
       "        uid  match           term\n",
       "5  16611894      0         genome\n",
       "7  16935752      0         genome\n",
       "9  17420480      0  transcriptome"
      ]
     },
     "execution_count": 10,
     "metadata": {},
     "output_type": "execute_result"
    }
   ],
   "source": [
    "ome_ocurrences = (\n",
    "    literature['abstract_clean'].str.lower()\n",
    "    .str.extractall(r'(?:^|\\s)(\\S+ome)(?:\\s|$)')[0]\n",
    "    .to_frame('term').reset_index()\n",
    ")\n",
    "ome_ocurrences = ome_ocurrences[~ome_ocurrences.term.isin(note_an_ome)]\n",
    "ome_ocurrences.head(3)"
   ]
  },
  {
   "cell_type": "code",
   "execution_count": 11,
   "metadata": {},
   "outputs": [
    {
     "data": {
      "text/plain": [
       "index\n",
       "genome                 437\n",
       "transcriptome          264\n",
       "proteome               195\n",
       "microbiome             169\n",
       "metabolome             145\n",
       "whole-genome            47\n",
       "exome                   42\n",
       "epigenome               26\n",
       "methylome               26\n",
       "whole-exome             22\n",
       "interactome             17\n",
       "metagenome              15\n",
       "phosphoproteome         15\n",
       "secretome               12\n",
       "lipidome                10\n",
       "translatome              7\n",
       "whole-transcriptome      7\n",
       "metatranscriptome        6\n",
       "peroxisome               6\n",
       "phenome                  6\n",
       "proteasome               6\n",
       "Name: term, dtype: int64"
      ]
     },
     "execution_count": 11,
     "metadata": {},
     "output_type": "execute_result"
    }
   ],
   "source": [
    "ome_counts = ome_ocurrences.drop_duplicates(['uid', 'term']).term.sorted_value_counts()\n",
    "ome_counts[ome_counts > TERM_IN_AT_LEAST_N_ARTICLES]"
   ]
  },
  {
   "cell_type": "code",
   "execution_count": 12,
   "metadata": {},
   "outputs": [],
   "source": [
    "from re import escape, findall"
   ]
  },
  {
   "cell_type": "code",
   "execution_count": 13,
   "metadata": {},
   "outputs": [],
   "source": [
    "separators = {'/', '\"', \"'\", '-'}\n",
    "separators_re = '|'.join([escape(s) for s in separators])\n",
    "omics_re = (\n",
    "    # use look-ahead to allow for overlaps\n",
    "    '(?='\n",
    "        rf'(?:^|\\s|{separators_re})'\n",
    "        # match '*-omic', '*-*omic', '*omic'\n",
    "        '('\n",
    "            # handle both *omic-*omic and *-*omic\n",
    "            r'(?:\\w+)omic'\n",
    "            '|'\n",
    "            '(?:(?:\\w+-\\w*)|\\w+)omic'\n",
    "        ')'\n",
    "        # match both *omic and omics, but capture only \"omic\" part\n",
    "        '(?:s)?'\n",
    "        rf'(?:\\s|$|{separators_re})'\n",
    "    ')'\n",
    ")"
   ]
  },
  {
   "cell_type": "code",
   "execution_count": 14,
   "metadata": {},
   "outputs": [],
   "source": [
    "assert findall(omics_re, 'omic') == []\n",
    "assert findall(omics_re, 'genomics') == ['genomic']\n",
    "assert findall(omics_re, ' genomics') == ['genomic']\n",
    "assert findall(omics_re, 'genomics ') == ['genomic']\n",
    "assert findall(omics_re, ' genomics ') == ['genomic']"
   ]
  },
  {
   "cell_type": "code",
   "execution_count": 15,
   "metadata": {},
   "outputs": [],
   "source": [
    "assert findall(omics_re, 'prote-omic') == ['prote-omic']\n",
    "assert findall(omics_re, 'prote-omics') == ['prote-omic']"
   ]
  },
  {
   "cell_type": "code",
   "execution_count": 16,
   "metadata": {},
   "outputs": [],
   "source": [
    "assert findall(omics_re, 'transcriptomic proteomic') == ['transcriptomic', 'proteomic']\n",
    "assert findall(omics_re, 'transcriptomic-proteomic') == ['transcriptomic', 'proteomic']"
   ]
  },
  {
   "cell_type": "code",
   "execution_count": 17,
   "metadata": {},
   "outputs": [],
   "source": [
    "assert findall(omics_re, 'transcriptomic proteomic') == ['transcriptomic', 'proteomic']\n",
    "assert list(Series(['transcriptomic proteomic']).str.extractall(omics_re)[0]) == ['transcriptomic', 'proteomic']"
   ]
  },
  {
   "cell_type": "code",
   "execution_count": 18,
   "metadata": {},
   "outputs": [
    {
     "data": {
      "text/plain": [
       "uid\n",
       "23105932    endium and integrative omics analyses, so-called \"integromics\", have extended our understanding ...\n",
       "24299457    rmacological response mechanisms. By means of an \"integromics\" network approach, we assessed the...\n",
       "25887273                                  \\nThe avalanche of integromics and panomics approaches shifted the de\n",
       "27255914    l explore the essential elements of assembling an integromics framework from a more detailed per...\n",
       "31126983    on of these orthogonal data sets, perhaps called \"integromics.\" We highlight examples of recent ...\n",
       "Name: abstract_clean, dtype: object"
      ]
     },
     "execution_count": 18,
     "metadata": {},
     "output_type": "execute_result"
    }
   ],
   "source": [
    "check_usage_in_abstracts('integromics')"
   ]
  },
  {
   "cell_type": "code",
   "execution_count": 19,
   "metadata": {},
   "outputs": [
    {
     "data": {
      "text/plain": [
       "uid\n",
       "19837627    s on metabolomics data management, normalization, meta-omics data analysis, and an integrative a...\n",
       "26315987    nd us through the application of high-resolution \"meta-omics\". Metaproteomics offers the ability...\n",
       "28744486    odontal ligament and alveolar bone. We employed a meta-omics approach that included microbial 16...\n",
       "29427518    ast few years, the application of high-throughput meta-omics methods has provided great progress...\n",
       "29656009    enomics, transcriptomics, proteomics metabolomics meta-omics and combined omics as powerful stra...\n",
       "30285475    per reviews studies in which application of these meta-omics technologies has led to a better un...\n",
       "30728080    onomas sp. alone.\\n\\n\\nThe three types of integrated meta-omics analyses effectively revealed th...\n",
       "30945796    oding data sets were integrated in a multivariate meta-omics analysis (multi-block PLS-DA from t...\n",
       "31186307    niches of constituent populations, and functional meta-omics becomes a proxy to characterize the...\n",
       "31803221    s, encompassing microbial communities, omics, and meta-omics as well as clinical or chemistry va...\n",
       "31810497    in a complex microbiome. The application of these meta-omics approaches to clinical samples has ...\n",
       "32516966                     Recent advances in the field of meta-omics sciences and related bioinformatics too\n",
       "32579720    s, transcriptomics, proteomics, metabolomics, and meta-omics. The ability to interpret omics in ...\n",
       "Name: abstract_clean, dtype: object"
      ]
     },
     "execution_count": 19,
     "metadata": {},
     "output_type": "execute_result"
    }
   ],
   "source": [
    "check_usage_in_abstracts('meta-omics')"
   ]
  },
  {
   "cell_type": "code",
   "execution_count": 20,
   "metadata": {},
   "outputs": [],
   "source": [
    "multi_omic = {\n",
    "    'multi-omic',\n",
    "    'multiomic',\n",
    "    'cross-omic',\n",
    "    'panomic',\n",
    "    'pan-omic',\n",
    "    'trans-omic',\n",
    "    'four-omic',\n",
    "    'multiple-omic',\n",
    "    'inter-omic',\n",
    "    'poly-omic',\n",
    "    'polyomic',\n",
    "    'integromic'\n",
    "}\n",
    "\n",
    "tools = {\n",
    "    # MixOmics\n",
    "    'mixomic'\n",
    "}\n",
    "\n",
    "vague = {\n",
    "    'single-omic'\n",
    "}\n",
    "\n",
    "adjectives = {\n",
    "    'economic',\n",
    "    'socio-economic',\n",
    "    'socioeconomic',\n",
    "    'taxonomic',\n",
    "    'syndromic',\n",
    "}\n",
    "\n",
    "not_an_omic = {\n",
    "    *adjectives,\n",
    "    *multi_omic,\n",
    "    *tools,\n",
    "    *vague\n",
    "}"
   ]
  },
  {
   "cell_type": "code",
   "execution_count": 21,
   "metadata": {},
   "outputs": [
    {
     "data": {
      "text/html": [
       "<div>\n",
       "<style scoped>\n",
       "    .dataframe tbody tr th:only-of-type {\n",
       "        vertical-align: middle;\n",
       "    }\n",
       "\n",
       "    .dataframe tbody tr th {\n",
       "        vertical-align: top;\n",
       "    }\n",
       "\n",
       "    .dataframe thead th {\n",
       "        text-align: right;\n",
       "    }\n",
       "</style>\n",
       "<table border=\"1\" class=\"dataframe\">\n",
       "  <thead>\n",
       "    <tr style=\"text-align: right;\">\n",
       "      <th></th>\n",
       "      <th>uid</th>\n",
       "      <th>match</th>\n",
       "      <th>term</th>\n",
       "    </tr>\n",
       "  </thead>\n",
       "  <tbody>\n",
       "    <tr>\n",
       "      <th>1</th>\n",
       "      <td>15687839</td>\n",
       "      <td>0</td>\n",
       "      <td>proteomic</td>\n",
       "    </tr>\n",
       "    <tr>\n",
       "      <th>2</th>\n",
       "      <td>15687839</td>\n",
       "      <td>1</td>\n",
       "      <td>proteomic</td>\n",
       "    </tr>\n",
       "  </tbody>\n",
       "</table>\n",
       "</div>"
      ],
      "text/plain": [
       "        uid  match       term\n",
       "1  15687839      0  proteomic\n",
       "2  15687839      1  proteomic"
      ]
     },
     "execution_count": 21,
     "metadata": {},
     "output_type": "execute_result"
    }
   ],
   "source": [
    "omic_occurrences = (\n",
    "    literature['abstract_clean'].str.lower()\n",
    "    .str.extractall(omics_re)[0]\n",
    "    .to_frame('term').reset_index()\n",
    ")\n",
    "omic_occurrences = omic_occurrences[~omic_occurrences.term.isin(not_an_omic)]\n",
    "omic_occurrences.head(2)"
   ]
  },
  {
   "cell_type": "code",
   "execution_count": 22,
   "metadata": {},
   "outputs": [
    {
     "data": {
      "text/plain": [
       "index\n",
       "genomics               538\n",
       "proteomics             538\n",
       "transcriptomics        423\n",
       "metabolomics           412\n",
       "metagenomics            88\n",
       "epigenomics             76\n",
       "lipidomics              52\n",
       "proteogenomics          35\n",
       "phosphoproteomics       27\n",
       "metaproteomics          26\n",
       "pharmacogenomics        25\n",
       "metatranscriptomics     23\n",
       "phenomics               19\n",
       "glycomics               14\n",
       "post-genomics           14\n",
       "radiomics               13\n",
       "meta-omics              12\n",
       "fluxomics               11\n",
       "metabonomics            11\n",
       "transomics              11\n",
       "peptidomics             10\n",
       "postgenomics            10\n",
       "methylomics              9\n",
       "agronomics               7\n",
       "microbiomics             6\n",
       "Name: term, dtype: int64"
      ]
     },
     "execution_count": 22,
     "metadata": {},
     "output_type": "execute_result"
    }
   ],
   "source": [
    "omic_counts = omic_occurrences.drop_duplicates(['uid', 'term']).term.sorted_value_counts()\n",
    "omic_counts[omic_counts > TERM_IN_AT_LEAST_N_ARTICLES].add_suffix('s')"
   ]
  },
  {
   "cell_type": "markdown",
   "metadata": {},
   "source": [
    "## Fields of study"
   ]
  },
  {
   "cell_type": "code",
   "execution_count": 23,
   "metadata": {},
   "outputs": [
    {
     "data": {
      "text/plain": [
       "('genetics', 'epigenetics')"
      ]
     },
     "execution_count": 23,
     "metadata": {},
     "output_type": "execute_result"
    }
   ],
   "source": [
    "'genetics', 'epigenetics'"
   ]
  },
  {
   "cell_type": "markdown",
   "metadata": {},
   "source": [
    "Some authors may prefer to say \"we integrated genetic and proteomic data\" rather than \"genomic and proteomic\""
   ]
  }
 ],
 "metadata": {
  "kernelspec": {
   "display_name": "Python 3",
   "language": "python",
   "name": "python3"
  },
  "language_info": {
   "codemirror_mode": {
    "name": "ipython",
    "version": 3
   },
   "file_extension": ".py",
   "mimetype": "text/x-python",
   "name": "python",
   "nbconvert_exporter": "python",
   "pygments_lexer": "ipython3",
   "version": "3.8.3"
  }
 },
 "nbformat": 4,
 "nbformat_minor": 4
}
