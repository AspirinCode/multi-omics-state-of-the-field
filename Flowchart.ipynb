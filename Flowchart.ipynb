{
 "cells": [
  {
   "cell_type": "code",
   "execution_count": 1,
   "metadata": {},
   "outputs": [],
   "source": [
    "%run notebook_setup.ipynb"
   ]
  },
  {
   "cell_type": "code",
   "execution_count": 2,
   "metadata": {},
   "outputs": [
    {
     "data": {
      "text/markdown": [
       "Imported:\n",
       "\n",
       " - `literature` (904B0F94)\n",
       " - `reliable_article_types` (5D584CB5)\n",
       "\n",
       "at Wednesday, 05. Aug 2020 01:51"
      ],
      "text/plain": [
       "<IPython.core.display.Markdown object>"
      ]
     },
     "metadata": {
      "text/markdown": {
       "action": "import",
       "command": "from pubmed_derived_data import literature, reliable_article_types",
       "finished": "2020-08-05T01:51:49.658568",
       "finished_human_readable": "Wednesday, 05. Aug 2020 01:51",
       "result": [
        {
         "new_file": {
          "crc32": "904B0F94",
          "sha256": "A2EFC068A287A3B724AE4B320EE5356E1E99474BD08A2E2A3EBA34CD0194F23B"
         },
         "subject": "literature"
        },
        {
         "new_file": {
          "crc32": "5D584CB5",
          "sha256": "585366F3E5A11FC007CC4DFF5AF9C7AFBCBEBA3A15B65333657C632F2218A1AC"
         },
         "subject": "reliable_article_types"
        }
       ],
       "started": "2020-08-05T01:51:46.802413"
      }
     },
     "output_type": "display_data"
    }
   ],
   "source": [
    "%vault from pubmed_derived_data import literature, reliable_article_types"
   ]
  },
  {
   "cell_type": "code",
   "execution_count": 3,
   "metadata": {},
   "outputs": [
    {
     "data": {
      "text/html": [
       "<script src=\"https://cdnjs.cloudflare.com/ajax/libs/mermaid/8.6.4/mermaid.min.js\"></script>"
      ],
      "text/plain": [
       "<IPython.core.display.HTML object>"
      ]
     },
     "metadata": {},
     "output_type": "display_data"
    }
   ],
   "source": [
    "from helpers import mermaid"
   ]
  },
  {
   "cell_type": "code",
   "execution_count": 4,
   "metadata": {},
   "outputs": [],
   "source": [
    "pubmed_matches_count = len(literature)\n",
    "in_pmc_count = sum(literature.has_pmc)\n",
    "full_text_count = sum(literature.has_full_text == True)\n",
    "abstract_only_count = sum((~literature.abstract.isnull()) & (~(literature.has_full_text == True)))\n",
    "article_types_count = len(reliable_article_types)"
   ]
  },
  {
   "cell_type": "code",
   "execution_count": 5,
   "metadata": {},
   "outputs": [
    {
     "data": {
      "text/html": [
       "\n",
       "<div id=\"mermaid_1\">\n",
       "graph TD\n",
       "    classDef data fill:#ffe49f,stroke:#333,stroke-width:1px;\n",
       "    classDef integration fill:#b6d7ab,stroke:#333,stroke-width:1px;\n",
       "    classDef analysis fill:#93c482,stroke:#333,stroke-width:1px,padding:0;\n",
       "    SEARCH[fa:fa-search 3456 PubMed results]\n",
       "    SEARCH:::data-->PMC[fa:fa-file-text 1951 articles in PubMed Central]:::data\n",
       "    PMC:::data-->FULL_TEXT[fa:fa-align-justify 1520 articles with full-text]:::data\n",
       "    SEARCH-->ABSTRACTS[fa:fa-font 1857 with abstracts only]:::data\n",
       "    FULL_TEXT-->COMBINED[fa:fa-plus-circle Combined dataset]:::integration\n",
       "    ABSTRACTS-->COMBINED\n",
       "    ABSTRACTS-->CLINICAL{{fa:fa-stethoscope Disease and species}}:::analysis\n",
       "    COMBINED-->TYPES{{fa:fa-shapes 1982 articles with determined type}}:::analysis\n",
       "    COMBINED-->REPOS{{fa:fa-code code and data repositories}}:::analysis\n",
       "    COMBINED-->OMICS{{fa:fa-dna omics}}:::analysis\n",
       "    COMBINED-->TRENDS{{fa:fa-calendar-alt phrase trends}}:::analysis\n",
       "\n",
       "</div>\n",
       "\n",
       "<script>mermaid.initialize({})</script>\n",
       "<script>mermaid.init({}, \"#mermaid_1\");</script>\n"
      ],
      "text/plain": [
       "<IPython.core.display.HTML object>"
      ]
     },
     "execution_count": 5,
     "metadata": {},
     "output_type": "execute_result"
    }
   ],
   "source": [
    "%%mermaid\n",
    "graph TD\n",
    "    classDef data fill:#ffe49f,stroke:#333,stroke-width:1px;\n",
    "    classDef integration fill:#b6d7ab,stroke:#333,stroke-width:1px;\n",
    "    classDef analysis fill:#93c482,stroke:#333,stroke-width:1px,padding:0;\n",
    "    SEARCH[fa:fa-search {pubmed_matches_count} PubMed results]\n",
    "    SEARCH:::data-->PMC[fa:fa-file-text {in_pmc_count} articles in PubMed Central]:::data\n",
    "    PMC:::data-->FULL_TEXT[fa:fa-align-justify {full_text_count} articles with full-text]:::data\n",
    "    SEARCH-->ABSTRACTS[fa:fa-font {abstract_only_count} with abstracts only]:::data\n",
    "    FULL_TEXT-->COMBINED[fa:fa-plus-circle Combined dataset]:::integration\n",
    "    ABSTRACTS-->COMBINED\n",
    "    ABSTRACTS-->CLINICAL{{{{fa:fa-stethoscope Disease and species}}}}:::analysis\n",
    "    COMBINED-->TYPES{{{{fa:fa-shapes {article_types_count} articles with determined type}}}}:::analysis\n",
    "    COMBINED-->REPOS{{{{fa:fa-code code and data repositories}}}}:::analysis\n",
    "    COMBINED-->OMICS{{{{fa:fa-dna omics}}}}:::analysis\n",
    "    COMBINED-->TRENDS{{{{fa:fa-calendar-alt phrase trends}}}}:::analysis"
   ]
  }
 ],
 "metadata": {
  "kernelspec": {
   "display_name": "Python 3",
   "language": "python",
   "name": "python3"
  },
  "language_info": {
   "codemirror_mode": {
    "name": "ipython",
    "version": 3
   },
   "file_extension": ".py",
   "mimetype": "text/x-python",
   "name": "python",
   "nbconvert_exporter": "python",
   "pygments_lexer": "ipython3",
   "version": "3.8.3"
  }
 },
 "nbformat": 4,
 "nbformat_minor": 4
}
