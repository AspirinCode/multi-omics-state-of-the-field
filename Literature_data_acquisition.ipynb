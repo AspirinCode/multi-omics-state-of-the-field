{
 "cells": [
  {
   "cell_type": "code",
   "execution_count": 1,
   "metadata": {},
   "outputs": [],
   "source": [
    "%run notebook_setup.ipynb"
   ]
  },
  {
   "cell_type": "markdown",
   "metadata": {},
   "source": [
    "## Define search terms"
   ]
  },
  {
   "cell_type": "code",
   "execution_count": 2,
   "metadata": {},
   "outputs": [],
   "source": [
    "from search_terms import primary_terms, secondary_terms, descriptive_terms"
   ]
  },
  {
   "cell_type": "code",
   "execution_count": 3,
   "metadata": {},
   "outputs": [
    {
     "data": {
      "text/plain": [
       "{'multi-omics': '(\"multi-omic\"[Text Words]) OR (\"multiomic\"[Text Words]) OR (\"multi omic\"[Text Words]) OR (\"multi-omics\"[Text Words]) OR (\"multiomics\"[Text Words]) OR (\"multi omics\"[Text Words])',\n",
       " 'pan-omics': '(\"pan-omic\"[Text Words]) OR (\"panomic\"[Text Words]) OR (\"pan omic\"[Text Words]) OR (\"pan-omics\"[Text Words]) OR (\"panomics\"[Text Words]) OR (\"pan omics\"[Text Words])',\n",
       " 'trans-omics': '(\"trans-omic\"[Text Words]) OR (\"transomic\"[Text Words]) OR (\"trans omic\"[Text Words]) OR (\"trans-omics\"[Text Words]) OR (\"transomics\"[Text Words]) OR (\"trans omics\"[Text Words])',\n",
       " 'poly-omics': '(\"poly-omic\"[Text Words]) OR (\"polyomic\"[Text Words]) OR (\"poly omic\"[Text Words]) OR (\"poly-omics\"[Text Words]) OR (\"polyomics\"[Text Words]) OR (\"poly omics\"[Text Words])'}"
      ]
     },
     "execution_count": 3,
     "metadata": {},
     "output_type": "execute_result"
    }
   ],
   "source": [
    "primary_terms"
   ]
  },
  {
   "cell_type": "code",
   "execution_count": 4,
   "metadata": {},
   "outputs": [
    {
     "data": {
      "text/plain": [
       "{'multi-table omics': '((\"multi-table\"[Text Words]) AND (omic[Text Words])) OR ((\"multi-table\"[Text Words]) AND (omics[Text Words])) OR ((\"multitable\"[Text Words]) AND (omic[Text Words])) OR ((\"multitable\"[Text Words]) AND (omics[Text Words])) OR ((\"multi table\"[Text Words]) AND (omic[Text Words])) OR ((\"multi table\"[Text Words]) AND (omics[Text Words])) OR ((\"multi-tables\"[Text Words]) AND (omic[Text Words])) OR ((\"multi-tables\"[Text Words]) AND (omics[Text Words])) OR ((\"multitables\"[Text Words]) AND (omic[Text Words])) OR ((\"multitables\"[Text Words]) AND (omics[Text Words])) OR ((\"multi tables\"[Text Words]) AND (omic[Text Words])) OR ((\"multi tables\"[Text Words]) AND (omics[Text Words]))',\n",
       " 'multi-source omics': '((\"multi-source\"[Text Words]) AND (omic[Text Words])) OR ((\"multi-source\"[Text Words]) AND (omics[Text Words])) OR ((\"multisource\"[Text Words]) AND (omic[Text Words])) OR ((\"multisource\"[Text Words]) AND (omics[Text Words])) OR ((\"multi source\"[Text Words]) AND (omic[Text Words])) OR ((\"multi source\"[Text Words]) AND (omics[Text Words])) OR ((\"multi-sources\"[Text Words]) AND (omic[Text Words])) OR ((\"multi-sources\"[Text Words]) AND (omics[Text Words])) OR ((\"multisources\"[Text Words]) AND (omic[Text Words])) OR ((\"multisources\"[Text Words]) AND (omics[Text Words])) OR ((\"multi sources\"[Text Words]) AND (omic[Text Words])) OR ((\"multi sources\"[Text Words]) AND (omics[Text Words]))',\n",
       " 'multi-view omics': '((\"multi-view\"[Text Words]) AND (omic[Text Words])) OR ((\"multi-view\"[Text Words]) AND (omics[Text Words])) OR ((\"multiview\"[Text Words]) AND (omic[Text Words])) OR ((\"multiview\"[Text Words]) AND (omics[Text Words])) OR ((\"multi view\"[Text Words]) AND (omic[Text Words])) OR ((\"multi view\"[Text Words]) AND (omics[Text Words])) OR ((\"multi-views\"[Text Words]) AND (omic[Text Words])) OR ((\"multi-views\"[Text Words]) AND (omics[Text Words])) OR ((\"multiviews\"[Text Words]) AND (omic[Text Words])) OR ((\"multiviews\"[Text Words]) AND (omics[Text Words])) OR ((\"multi views\"[Text Words]) AND (omic[Text Words])) OR ((\"multi views\"[Text Words]) AND (omics[Text Words]))',\n",
       " 'multi-modal omics': '((\"multi-modal\"[Text Words]) AND (omic[Text Words])) OR ((\"multi-modal\"[Text Words]) AND (omics[Text Words])) OR ((\"multimodal\"[Text Words]) AND (omic[Text Words])) OR ((\"multimodal\"[Text Words]) AND (omics[Text Words])) OR ((\"multi modal\"[Text Words]) AND (omic[Text Words])) OR ((\"multi modal\"[Text Words]) AND (omics[Text Words])) OR ((\"multi-modals\"[Text Words]) AND (omic[Text Words])) OR ((\"multi-modals\"[Text Words]) AND (omics[Text Words])) OR ((\"multimodals\"[Text Words]) AND (omic[Text Words])) OR ((\"multimodals\"[Text Words]) AND (omics[Text Words])) OR ((\"multi modals\"[Text Words]) AND (omic[Text Words])) OR ((\"multi modals\"[Text Words]) AND (omics[Text Words]))',\n",
       " 'multi-block omics': '((\"multi-block\"[Text Words]) AND (omic[Text Words])) OR ((\"multi-block\"[Text Words]) AND (omics[Text Words])) OR ((\"multiblock\"[Text Words]) AND (omic[Text Words])) OR ((\"multiblock\"[Text Words]) AND (omics[Text Words])) OR ((\"multi block\"[Text Words]) AND (omic[Text Words])) OR ((\"multi block\"[Text Words]) AND (omics[Text Words])) OR ((\"multi-blocks\"[Text Words]) AND (omic[Text Words])) OR ((\"multi-blocks\"[Text Words]) AND (omics[Text Words])) OR ((\"multiblocks\"[Text Words]) AND (omic[Text Words])) OR ((\"multiblocks\"[Text Words]) AND (omics[Text Words])) OR ((\"multi blocks\"[Text Words]) AND (omic[Text Words])) OR ((\"multi blocks\"[Text Words]) AND (omics[Text Words]))'}"
      ]
     },
     "execution_count": 4,
     "metadata": {},
     "output_type": "execute_result"
    }
   ],
   "source": [
    "secondary_terms"
   ]
  },
  {
   "cell_type": "code",
   "execution_count": 5,
   "metadata": {},
   "outputs": [
    {
     "data": {
      "text/plain": [
       "{'integrative omics': '\"integrative omic\"[Text Words] OR \"integrative omics\"[Text Words]',\n",
       " 'integrated omics': '\"integrated omic\"[Text Words] OR \"integrated omics\"[Text Words]'}"
      ]
     },
     "execution_count": 5,
     "metadata": {},
     "output_type": "execute_result"
    }
   ],
   "source": [
    "descriptive_terms"
   ]
  },
  {
   "cell_type": "markdown",
   "metadata": {},
   "source": [
    "## Perform search in PubMed"
   ]
  },
  {
   "cell_type": "code",
   "execution_count": 6,
   "metadata": {},
   "outputs": [],
   "source": [
    "from easy_entrez import EntrezAPI\n",
    "from config import ENTREZ_API_NAME, ENTREZ_API_EMAIL\n",
    "\n",
    "entrez_api = EntrezAPI(\n",
    "    tool=ENTREZ_API_NAME,\n",
    "    email=ENTREZ_API_EMAIL,\n",
    "    minimal_interval=2\n",
    ")"
   ]
  },
  {
   "cell_type": "code",
   "execution_count": 7,
   "metadata": {},
   "outputs": [],
   "source": [
    "from tqdm import tqdm\n",
    "\n",
    "search_terms = {\n",
    "    **primary_terms,\n",
    "    **secondary_terms,\n",
    "    **descriptive_terms\n",
    "}"
   ]
  },
  {
   "cell_type": "code",
   "execution_count": 8,
   "metadata": {},
   "outputs": [
    {
     "name": "stdout",
     "output_type": "stream",
     "text": [
      "Reusing the results from cache/search_results.pickle\n"
     ]
    }
   ],
   "source": [
    "%%cache search_results pubmed_results\n",
    "\n",
    "pubmed_results = {}\n",
    "\n",
    "MAX_RESULTS = 10_000\n",
    "\n",
    "for term in tqdm(search_terms):\n",
    "    result = entrez_api.search(\n",
    "        search_terms[term],\n",
    "        database='pubmed',\n",
    "        max_results=MAX_RESULTS\n",
    "    )\n",
    "    esearch = result.data['esearchresult']\n",
    "    count = int(esearch['count'])\n",
    "    assert count >= 0\n",
    "    assert count < MAX_RESULTS\n",
    "\n",
    "    pubmed_results[term] = result"
   ]
  },
  {
   "cell_type": "code",
   "execution_count": 9,
   "metadata": {},
   "outputs": [],
   "source": [
    "all_papers = sorted(set(sum(\n",
    "    [\n",
    "        result.data['esearchresult']['idlist']\n",
    "        for result in pubmed_results.values()\n",
    "    ],\n",
    "    []\n",
    ")))"
   ]
  },
  {
   "cell_type": "code",
   "execution_count": 10,
   "metadata": {},
   "outputs": [
    {
     "data": {
      "text/plain": [
       "3206"
      ]
     },
     "execution_count": 10,
     "metadata": {},
     "output_type": "execute_result"
    }
   ],
   "source": [
    "len(all_papers)"
   ]
  },
  {
   "cell_type": "code",
   "execution_count": 11,
   "metadata": {},
   "outputs": [
    {
     "name": "stdout",
     "output_type": "stream",
     "text": [
      "Reusing the results from cache/pubmed_documents_data.pickle\n"
     ]
    }
   ],
   "source": [
    "%%cache pubmed_documents_data documents\n",
    "\n",
    "documents_by_batch = (\n",
    "    entrez_api\n",
    "    .in_batches_of(size=100)\n",
    "    .fetch(all_papers, max_results=10_000, return_type='xml')\n",
    ")\n",
    "\n",
    "documents = sum(\n",
    "    (\n",
    "        list(result.data)\n",
    "        for result in documents_by_batch.values()\n",
    "    ),\n",
    "    []\n",
    ")"
   ]
  },
  {
   "cell_type": "code",
   "execution_count": 12,
   "metadata": {},
   "outputs": [],
   "source": [
    "from utils import xml_element_to_json\n",
    "documents = [xml_element_to_json(document) for document in list(documents)]"
   ]
  },
  {
   "cell_type": "code",
   "execution_count": 13,
   "metadata": {},
   "outputs": [],
   "source": [
    "assert len(documents) == len(all_papers)"
   ]
  },
  {
   "cell_type": "markdown",
   "metadata": {},
   "source": [
    "## Create a data frame with PubMed documents and covariates"
   ]
  },
  {
   "cell_type": "code",
   "execution_count": 14,
   "metadata": {},
   "outputs": [],
   "source": [
    "from pandas import Series, DataFrame, read_csv, to_datetime"
   ]
  },
  {
   "cell_type": "code",
   "execution_count": 15,
   "metadata": {},
   "outputs": [
    {
     "data": {
      "text/html": [
       "<div>\n",
       "<style scoped>\n",
       "    .dataframe tbody tr th:only-of-type {\n",
       "        vertical-align: middle;\n",
       "    }\n",
       "\n",
       "    .dataframe tbody tr th {\n",
       "        vertical-align: top;\n",
       "    }\n",
       "\n",
       "    .dataframe thead th {\n",
       "        text-align: right;\n",
       "    }\n",
       "</style>\n",
       "<table border=\"1\" class=\"dataframe\">\n",
       "  <thead>\n",
       "    <tr style=\"text-align: right;\">\n",
       "      <th></th>\n",
       "      <th>multi-omics</th>\n",
       "      <th>pan-omics</th>\n",
       "      <th>trans-omics</th>\n",
       "      <th>poly-omics</th>\n",
       "      <th>multi-table omics</th>\n",
       "      <th>multi-source omics</th>\n",
       "      <th>multi-view omics</th>\n",
       "      <th>multi-modal omics</th>\n",
       "      <th>multi-block omics</th>\n",
       "      <th>integrative omics</th>\n",
       "      <th>integrated omics</th>\n",
       "    </tr>\n",
       "    <tr>\n",
       "      <th>uid</th>\n",
       "      <th></th>\n",
       "      <th></th>\n",
       "      <th></th>\n",
       "      <th></th>\n",
       "      <th></th>\n",
       "      <th></th>\n",
       "      <th></th>\n",
       "      <th></th>\n",
       "      <th></th>\n",
       "      <th></th>\n",
       "      <th></th>\n",
       "    </tr>\n",
       "  </thead>\n",
       "  <tbody>\n",
       "    <tr>\n",
       "      <th>15687700</th>\n",
       "      <td>False</td>\n",
       "      <td>False</td>\n",
       "      <td>True</td>\n",
       "      <td>False</td>\n",
       "      <td>False</td>\n",
       "      <td>False</td>\n",
       "      <td>False</td>\n",
       "      <td>False</td>\n",
       "      <td>False</td>\n",
       "      <td>False</td>\n",
       "      <td>False</td>\n",
       "    </tr>\n",
       "    <tr>\n",
       "      <th>15687839</th>\n",
       "      <td>False</td>\n",
       "      <td>False</td>\n",
       "      <td>False</td>\n",
       "      <td>False</td>\n",
       "      <td>False</td>\n",
       "      <td>False</td>\n",
       "      <td>False</td>\n",
       "      <td>False</td>\n",
       "      <td>False</td>\n",
       "      <td>True</td>\n",
       "      <td>False</td>\n",
       "    </tr>\n",
       "    <tr>\n",
       "      <th>15763567</th>\n",
       "      <td>True</td>\n",
       "      <td>False</td>\n",
       "      <td>False</td>\n",
       "      <td>False</td>\n",
       "      <td>False</td>\n",
       "      <td>False</td>\n",
       "      <td>False</td>\n",
       "      <td>False</td>\n",
       "      <td>False</td>\n",
       "      <td>False</td>\n",
       "      <td>False</td>\n",
       "    </tr>\n",
       "    <tr>\n",
       "      <th>16338138</th>\n",
       "      <td>False</td>\n",
       "      <td>True</td>\n",
       "      <td>False</td>\n",
       "      <td>False</td>\n",
       "      <td>False</td>\n",
       "      <td>False</td>\n",
       "      <td>False</td>\n",
       "      <td>False</td>\n",
       "      <td>False</td>\n",
       "      <td>False</td>\n",
       "      <td>False</td>\n",
       "    </tr>\n",
       "    <tr>\n",
       "      <th>16479594</th>\n",
       "      <td>True</td>\n",
       "      <td>False</td>\n",
       "      <td>False</td>\n",
       "      <td>False</td>\n",
       "      <td>False</td>\n",
       "      <td>False</td>\n",
       "      <td>False</td>\n",
       "      <td>False</td>\n",
       "      <td>False</td>\n",
       "      <td>False</td>\n",
       "      <td>False</td>\n",
       "    </tr>\n",
       "    <tr>\n",
       "      <th>...</th>\n",
       "      <td>...</td>\n",
       "      <td>...</td>\n",
       "      <td>...</td>\n",
       "      <td>...</td>\n",
       "      <td>...</td>\n",
       "      <td>...</td>\n",
       "      <td>...</td>\n",
       "      <td>...</td>\n",
       "      <td>...</td>\n",
       "      <td>...</td>\n",
       "      <td>...</td>\n",
       "    </tr>\n",
       "    <tr>\n",
       "      <th>32528899</th>\n",
       "      <td>True</td>\n",
       "      <td>False</td>\n",
       "      <td>False</td>\n",
       "      <td>False</td>\n",
       "      <td>False</td>\n",
       "      <td>False</td>\n",
       "      <td>False</td>\n",
       "      <td>False</td>\n",
       "      <td>False</td>\n",
       "      <td>False</td>\n",
       "      <td>False</td>\n",
       "    </tr>\n",
       "    <tr>\n",
       "      <th>32529434</th>\n",
       "      <td>True</td>\n",
       "      <td>False</td>\n",
       "      <td>False</td>\n",
       "      <td>False</td>\n",
       "      <td>False</td>\n",
       "      <td>False</td>\n",
       "      <td>False</td>\n",
       "      <td>False</td>\n",
       "      <td>False</td>\n",
       "      <td>False</td>\n",
       "      <td>False</td>\n",
       "    </tr>\n",
       "    <tr>\n",
       "      <th>32532869</th>\n",
       "      <td>True</td>\n",
       "      <td>False</td>\n",
       "      <td>False</td>\n",
       "      <td>False</td>\n",
       "      <td>False</td>\n",
       "      <td>False</td>\n",
       "      <td>False</td>\n",
       "      <td>False</td>\n",
       "      <td>False</td>\n",
       "      <td>False</td>\n",
       "      <td>False</td>\n",
       "    </tr>\n",
       "    <tr>\n",
       "      <th>32533167</th>\n",
       "      <td>True</td>\n",
       "      <td>False</td>\n",
       "      <td>False</td>\n",
       "      <td>False</td>\n",
       "      <td>False</td>\n",
       "      <td>False</td>\n",
       "      <td>False</td>\n",
       "      <td>False</td>\n",
       "      <td>False</td>\n",
       "      <td>False</td>\n",
       "      <td>False</td>\n",
       "    </tr>\n",
       "    <tr>\n",
       "      <th>32534442</th>\n",
       "      <td>True</td>\n",
       "      <td>False</td>\n",
       "      <td>False</td>\n",
       "      <td>False</td>\n",
       "      <td>False</td>\n",
       "      <td>False</td>\n",
       "      <td>False</td>\n",
       "      <td>False</td>\n",
       "      <td>False</td>\n",
       "      <td>False</td>\n",
       "      <td>False</td>\n",
       "    </tr>\n",
       "  </tbody>\n",
       "</table>\n",
       "<p>3206 rows × 11 columns</p>\n",
       "</div>"
      ],
      "text/plain": [
       "          multi-omics  pan-omics  trans-omics  poly-omics  multi-table omics  \\\n",
       "uid                                                                            \n",
       "15687700        False      False         True       False              False   \n",
       "15687839        False      False        False       False              False   \n",
       "15763567         True      False        False       False              False   \n",
       "16338138        False       True        False       False              False   \n",
       "16479594         True      False        False       False              False   \n",
       "...               ...        ...          ...         ...                ...   \n",
       "32528899         True      False        False       False              False   \n",
       "32529434         True      False        False       False              False   \n",
       "32532869         True      False        False       False              False   \n",
       "32533167         True      False        False       False              False   \n",
       "32534442         True      False        False       False              False   \n",
       "\n",
       "          multi-source omics  multi-view omics  multi-modal omics  \\\n",
       "uid                                                                 \n",
       "15687700               False             False              False   \n",
       "15687839               False             False              False   \n",
       "15763567               False             False              False   \n",
       "16338138               False             False              False   \n",
       "16479594               False             False              False   \n",
       "...                      ...               ...                ...   \n",
       "32528899               False             False              False   \n",
       "32529434               False             False              False   \n",
       "32532869               False             False              False   \n",
       "32533167               False             False              False   \n",
       "32534442               False             False              False   \n",
       "\n",
       "          multi-block omics  integrative omics  integrated omics  \n",
       "uid                                                               \n",
       "15687700              False              False             False  \n",
       "15687839              False               True             False  \n",
       "15763567              False              False             False  \n",
       "16338138              False              False             False  \n",
       "16479594              False              False             False  \n",
       "...                     ...                ...               ...  \n",
       "32528899              False              False             False  \n",
       "32529434              False              False             False  \n",
       "32532869              False              False             False  \n",
       "32533167              False              False             False  \n",
       "32534442              False              False             False  \n",
       "\n",
       "[3206 rows x 11 columns]"
      ]
     },
     "execution_count": 15,
     "metadata": {},
     "output_type": "execute_result"
    }
   ],
   "source": [
    "# create a frame with 0 columns and UID of each paper on the index\n",
    "literature = Series(all_papers).to_frame('uid').set_index('uid')\n",
    "# add columns for the occurrences of the terms\n",
    "for term, result in pubmed_results.items():\n",
    "    literature[term] = False\n",
    "    for uid in result.data['esearchresult']['idlist']:\n",
    "        literature.loc[uid, term] = True\n",
    "literature"
   ]
  },
  {
   "cell_type": "markdown",
   "metadata": {},
   "source": [
    "## Parse the PubMed metadata on articles"
   ]
  },
  {
   "cell_type": "markdown",
   "metadata": {},
   "source": [
    "Reference:\n",
    "  - Medline: https://www.nlm.nih.gov/bsd/mms/medlineelements.html\n",
    "  - Publication types: https://www.nlm.nih.gov/mesh/pubtypes.html (fun fact: includes \"Wit and Humor\" type)"
   ]
  },
  {
   "cell_type": "code",
   "execution_count": 16,
   "metadata": {},
   "outputs": [
    {
     "name": "stderr",
     "output_type": "stream",
     "text": [
      "<ipython-input-16-05b783722365>:70: UserWarning: {'JournalIssue': {'@CitedMedium': 'Internet', 'Volume': '1', 'Issue': '1', 'PubDate': {'Year': '2018'}}, 'Title': 'Journal of clinical genomics', 'ISOAbbreviation': 'J Clin Genom'} had no ISSN assigned\n",
      "  warn(f'{article[\"Journal\"]} had no ISSN assigned')\n",
      "<ipython-input-16-05b783722365>:70: UserWarning: {'JournalIssue': {'@CitedMedium': 'Print', 'Volume': '2018', 'PubDate': {'Year': '2018', 'Month': 'Oct'}}, 'Title': 'Proceedings of the ... International Conference on Data Science and Advanced Analytics. IEEE International Conference on Data Science and Advanced Analytics', 'ISOAbbreviation': 'Proc Int Conf Data Sci Adv Anal'} had no ISSN assigned\n",
      "  warn(f'{article[\"Journal\"]} had no ISSN assigned')\n",
      "<ipython-input-16-05b783722365>:70: UserWarning: {'JournalIssue': {'@CitedMedium': 'Print', 'Volume': '2019', 'PubDate': {'Year': '2019', 'Month': 'Sep'}}, 'Title': 'ACM-BCB ... ... : the ... ACM Conference on Bioinformatics, Computational Biology and Biomedicine. ACM Conference on Bioinformatics, Computational Biology and Biomedicine', 'ISOAbbreviation': 'ACM BCB'} had no ISSN assigned\n",
      "  warn(f'{article[\"Journal\"]} had no ISSN assigned')\n"
     ]
    }
   ],
   "source": [
    "from warnings import warn\n",
    "from parse_pubmed import listify, extract_abstract, parse_date, parse_doi\n",
    "\n",
    "missing_abstract = []\n",
    "authors = []\n",
    "affiliations = []\n",
    "\n",
    "publication_types = []\n",
    "\n",
    "for document in documents:\n",
    "    # TODO review or original\n",
    "\n",
    "    kind = None\n",
    "    date = None\n",
    "    doi = None\n",
    "\n",
    "    if 'PubmedBookArticle' in document:\n",
    "        kind = 'article in book'\n",
    "        book_document = document['PubmedBookArticle']['BookDocument']\n",
    "        pmid = book_document['PMID']['#text']\n",
    "\n",
    "        title = book_document['ArticleTitle']['#text']\n",
    "        abstract = extract_abstract(book_document)\n",
    "\n",
    "        #book_document['PublicationType']\n",
    "        #book_document['KeywordList']\n",
    "\n",
    "    if 'PubmedArticle' in document:\n",
    "        pubmed_article = document['PubmedArticle']\n",
    "        assert not kind\n",
    "        kind = 'article'\n",
    "        medline_citation = pubmed_article['MedlineCitation']\n",
    "        pmid = medline_citation['PMID']['#text']\n",
    "        article = medline_citation['Article']\n",
    "        literature.loc[pmid, 'journal'] = article['Journal']['Title']\n",
    "\n",
    "        if 'ELocationID' in article:\n",
    "            doi = parse_doi(article['ELocationID'])\n",
    "\n",
    "        issue = article['Journal']['JournalIssue']\n",
    "        if 'PubDate' in issue:\n",
    "            date = parse_date(issue['PubDate'])\n",
    "\n",
    "        for author in listify(article['AuthorList']['Author'] if 'AuthorList' in article else None):\n",
    "            author_id = len(authors)\n",
    "            authors.append(\n",
    "                {\n",
    "                    'ID': author_id,\n",
    "                    'ForeName': author.get('ForeName'),\n",
    "                    'LastName': author.get('LastName'),\n",
    "                    'CollectiveName': author.get('CollectiveName'),\n",
    "                    'PMID': pmid\n",
    "                }\n",
    "            )\n",
    "            for affiliation in listify(author.get('AffiliationInfo')):\n",
    "                affiliations.append({\n",
    "                    'Affiliation': affiliation['Affiliation'],\n",
    "                    'PMID': pmid,\n",
    "                    'AuthorID': author_id\n",
    "                })\n",
    "\n",
    "        for publication_type in listify(article['PublicationTypeList']['PublicationType'] if 'PublicationTypeList' in article else None):\n",
    "            type_name = publication_type['#text']\n",
    "            publication_types.append(type_name)\n",
    "            literature.loc[pmid, f'Is {type_name}'] = True\n",
    "\n",
    "        try:\n",
    "            literature.loc[pmid, 'journal_issn'] = article['Journal']['ISSN']['#text']\n",
    "        except KeyError:\n",
    "            warn(f'{article[\"Journal\"]} had no ISSN assigned')\n",
    "        if 'ArticleTitle' in article:\n",
    "            title = article['ArticleTitle']\n",
    "            if isinstance(title, dict):\n",
    "                title = title['#text']\n",
    "\n",
    "        abstract = extract_abstract(article)\n",
    "\n",
    "    if not abstract:\n",
    "        missing_abstract.append(pmid)\n",
    "\n",
    "    assert kind\n",
    "\n",
    "    literature.loc[pmid, 'kind'] = kind\n",
    "    literature.loc[pmid, 'doi'] = doi\n",
    "    literature.loc[pmid, 'title'] = title\n",
    "    literature.loc[pmid, 'abstract'] = abstract\n",
    "    literature.loc[pmid, 'date'] = date\n",
    "\n",
    "publication_types = Series(publication_types)"
   ]
  },
  {
   "cell_type": "code",
   "execution_count": 17,
   "metadata": {},
   "outputs": [],
   "source": [
    "affiliations = DataFrame(affiliations)\n",
    "authors = DataFrame(authors)\n",
    "\n",
    "authors['JointName'] = authors['ForeName'] + ' ' + authors['LastName']"
   ]
  },
  {
   "cell_type": "code",
   "execution_count": 18,
   "metadata": {},
   "outputs": [],
   "source": [
    "literature['has_doi'] = ~literature.doi.isnull()\n",
    "literature.date = to_datetime(literature.date)\n",
    "literature['year'] = literature.date.dt.year"
   ]
  },
  {
   "cell_type": "code",
   "execution_count": 19,
   "metadata": {},
   "outputs": [],
   "source": [
    "terms = list(pubmed_results.keys())"
   ]
  },
  {
   "cell_type": "code",
   "execution_count": 20,
   "metadata": {},
   "outputs": [],
   "source": [
    "def which_term(term):\n",
    "    term = list(term[term].index)\n",
    "    if len(term) == 1:\n",
    "        return term[0]\n",
    "    else:\n",
    "        return 'multiple'"
   ]
  },
  {
   "cell_type": "code",
   "execution_count": 21,
   "metadata": {},
   "outputs": [],
   "source": [
    "literature['term'] = literature[terms].apply(which_term, axis=1)"
   ]
  },
  {
   "cell_type": "code",
   "execution_count": 22,
   "metadata": {},
   "outputs": [],
   "source": [
    "from pandas import Categorical\n",
    "literature['term'] = Categorical(literature['term'], ordered=True, categories=list(literature['term'].value_counts().index))"
   ]
  },
  {
   "cell_type": "markdown",
   "metadata": {},
   "source": [
    "## Add PubmedCentral mapping"
   ]
  },
  {
   "cell_type": "code",
   "execution_count": 23,
   "metadata": {},
   "outputs": [
    {
     "name": "stdout",
     "output_type": "stream",
     "text": [
      "Reusing the results from cache/pubmed_central_metadata.pickle\n"
     ]
    }
   ],
   "source": [
    "%%cache pubmed_central_metadata pmc_metadata\n",
    "# approx 2GB in RAM, best to subset early\n",
    "pmc_metadata_all = read_csv('PMC-ids.csv.gz')\n",
    "pmid_of_interest = set(literature.index)\n",
    "pmc_metadata = pmc_metadata_all[pmc_metadata_all.PMID.isin(pmid_of_interest)]\n",
    "del pmc_metadata_all"
   ]
  },
  {
   "cell_type": "code",
   "execution_count": 24,
   "metadata": {},
   "outputs": [
    {
     "data": {
      "text/plain": [
       "1921"
      ]
     },
     "execution_count": 24,
     "metadata": {},
     "output_type": "execute_result"
    }
   ],
   "source": [
    "len(pmc_metadata)"
   ]
  },
  {
   "cell_type": "code",
   "execution_count": 25,
   "metadata": {},
   "outputs": [
    {
     "data": {
      "text/html": [
       "<div>\n",
       "<style scoped>\n",
       "    .dataframe tbody tr th:only-of-type {\n",
       "        vertical-align: middle;\n",
       "    }\n",
       "\n",
       "    .dataframe tbody tr th {\n",
       "        vertical-align: top;\n",
       "    }\n",
       "\n",
       "    .dataframe thead th {\n",
       "        text-align: right;\n",
       "    }\n",
       "</style>\n",
       "<table border=\"1\" class=\"dataframe\">\n",
       "  <thead>\n",
       "    <tr style=\"text-align: right;\">\n",
       "      <th></th>\n",
       "      <th>Journal Title</th>\n",
       "      <th>ISSN</th>\n",
       "      <th>eISSN</th>\n",
       "      <th>Year</th>\n",
       "      <th>Volume</th>\n",
       "      <th>Issue</th>\n",
       "      <th>Page</th>\n",
       "      <th>DOI</th>\n",
       "      <th>PMCID</th>\n",
       "      <th>PMID</th>\n",
       "      <th>Manuscript Id</th>\n",
       "      <th>Release Date</th>\n",
       "    </tr>\n",
       "  </thead>\n",
       "  <tbody>\n",
       "    <tr>\n",
       "      <th>817169</th>\n",
       "      <td>J Virol</td>\n",
       "      <td>0022-538X</td>\n",
       "      <td>1098-5514</td>\n",
       "      <td>2006</td>\n",
       "      <td>80</td>\n",
       "      <td>9</td>\n",
       "      <td>4356</td>\n",
       "      <td>10.1128/JVI.80.9.4356-4362.2006</td>\n",
       "      <td>PMC1472023</td>\n",
       "      <td>16611894.0</td>\n",
       "      <td>NaN</td>\n",
       "      <td>live</td>\n",
       "    </tr>\n",
       "    <tr>\n",
       "      <th>1155415</th>\n",
       "      <td>Proc Natl Acad Sci U S A</td>\n",
       "      <td>0027-8424</td>\n",
       "      <td>1091-6490</td>\n",
       "      <td>2007</td>\n",
       "      <td>104</td>\n",
       "      <td>15</td>\n",
       "      <td>6478</td>\n",
       "      <td>10.1073/pnas.0611629104</td>\n",
       "      <td>PMC1849962</td>\n",
       "      <td>17420480.0</td>\n",
       "      <td>NaN</td>\n",
       "      <td>live</td>\n",
       "    </tr>\n",
       "    <tr>\n",
       "      <th>1212422</th>\n",
       "      <td>J Bacteriol</td>\n",
       "      <td>0021-9193</td>\n",
       "      <td>1098-5530</td>\n",
       "      <td>2007</td>\n",
       "      <td>189</td>\n",
       "      <td>13</td>\n",
       "      <td>4635</td>\n",
       "      <td>10.1128/JB.00128-07</td>\n",
       "      <td>PMC1913438</td>\n",
       "      <td>17449607.0</td>\n",
       "      <td>NaN</td>\n",
       "      <td>live</td>\n",
       "    </tr>\n",
       "    <tr>\n",
       "      <th>1430120</th>\n",
       "      <td>Osteoarthritis Cartilage</td>\n",
       "      <td>1063-4584</td>\n",
       "      <td>1522-9653</td>\n",
       "      <td>2007</td>\n",
       "      <td>15</td>\n",
       "      <td>12</td>\n",
       "      <td>1367</td>\n",
       "      <td>10.1016/j.joca.2007.04.011</td>\n",
       "      <td>PMC2153443</td>\n",
       "      <td>17604656.0</td>\n",
       "      <td>NIHMS34878</td>\n",
       "      <td>live</td>\n",
       "    </tr>\n",
       "    <tr>\n",
       "      <th>1532139</th>\n",
       "      <td>Br J Pharmacol</td>\n",
       "      <td>0007-1188</td>\n",
       "      <td>1476-5381</td>\n",
       "      <td>2008</td>\n",
       "      <td>153</td>\n",
       "      <td>Suppl 1</td>\n",
       "      <td>S133</td>\n",
       "      <td>10.1038/sj.bjp.0707658</td>\n",
       "      <td>PMC2268044</td>\n",
       "      <td>18193070.0</td>\n",
       "      <td>NaN</td>\n",
       "      <td>live</td>\n",
       "    </tr>\n",
       "  </tbody>\n",
       "</table>\n",
       "</div>"
      ],
      "text/plain": [
       "                    Journal Title       ISSN      eISSN  Year Volume    Issue  \\\n",
       "817169                    J Virol  0022-538X  1098-5514  2006     80        9   \n",
       "1155415  Proc Natl Acad Sci U S A  0027-8424  1091-6490  2007    104       15   \n",
       "1212422               J Bacteriol  0021-9193  1098-5530  2007    189       13   \n",
       "1430120  Osteoarthritis Cartilage  1063-4584  1522-9653  2007     15       12   \n",
       "1532139            Br J Pharmacol  0007-1188  1476-5381  2008    153  Suppl 1   \n",
       "\n",
       "         Page                              DOI       PMCID        PMID  \\\n",
       "817169   4356  10.1128/JVI.80.9.4356-4362.2006  PMC1472023  16611894.0   \n",
       "1155415  6478          10.1073/pnas.0611629104  PMC1849962  17420480.0   \n",
       "1212422  4635              10.1128/JB.00128-07  PMC1913438  17449607.0   \n",
       "1430120  1367       10.1016/j.joca.2007.04.011  PMC2153443  17604656.0   \n",
       "1532139  S133           10.1038/sj.bjp.0707658  PMC2268044  18193070.0   \n",
       "\n",
       "        Manuscript Id Release Date  \n",
       "817169            NaN         live  \n",
       "1155415           NaN         live  \n",
       "1212422           NaN         live  \n",
       "1430120    NIHMS34878         live  \n",
       "1532139           NaN         live  "
      ]
     },
     "execution_count": 25,
     "metadata": {},
     "output_type": "execute_result"
    }
   ],
   "source": [
    "pmc_metadata.head()"
   ]
  },
  {
   "cell_type": "code",
   "execution_count": 26,
   "metadata": {},
   "outputs": [],
   "source": [
    "literature['PMC'] = pmc_metadata.set_index('PMID').reindex(literature.index.astype(float))['PMCID']\n",
    "assert len(pmc_metadata) == sum(~literature['PMC'].isnull())\n",
    "\n",
    "literature['has_pmc'] = (~literature['PMC'].isnull())"
   ]
  },
  {
   "cell_type": "markdown",
   "metadata": {},
   "source": [
    "Note can also try to find missing PMCs in the summaries:"
   ]
  },
  {
   "cell_type": "code",
   "execution_count": 27,
   "metadata": {},
   "outputs": [],
   "source": [
    "# result = entrez_api.search(primary_terms['poly-omics'], max_results=10_000)\n",
    "# summary = entrez_api.summarize(result.data['esearchresult']['idlist'][:5], max_results=10_000)\n",
    "# summary.data"
   ]
  },
  {
   "cell_type": "markdown",
   "metadata": {},
   "source": [
    "### Download full texts as XML"
   ]
  },
  {
   "cell_type": "code",
   "execution_count": 28,
   "metadata": {},
   "outputs": [
    {
     "data": {
      "text/plain": [
       "['PMC1472023', 'PMC1849962', 'PMC1913438', 'PMC2153443']"
      ]
     },
     "execution_count": 28,
     "metadata": {},
     "output_type": "execute_result"
    }
   ],
   "source": [
    "pmc_ids = literature[literature['has_pmc']]['PMC'].tolist()\n",
    "pmc_ids[:4]"
   ]
  },
  {
   "cell_type": "code",
   "execution_count": 29,
   "metadata": {},
   "outputs": [
    {
     "name": "stdout",
     "output_type": "stream",
     "text": [
      "Reusing the results from cache/pubmed_central_xml.pickle\n"
     ]
    }
   ],
   "source": [
    "%%cache pubmed_central_xml pmc_xmls\n",
    "pmc_full_texts = entrez_api.in_batches_of(size=100).fetch(pmc_ids, max_results=5_000, database='pmc', return_type='xml')\n",
    "\n",
    "pmc_xmls = sum(\n",
    "    [\n",
    "        list(response.data)\n",
    "        for response in pmc_full_texts.values()\n",
    "    ],\n",
    "    []\n",
    ")"
   ]
  },
  {
   "cell_type": "code",
   "execution_count": 30,
   "metadata": {},
   "outputs": [
    {
     "data": {
      "text/plain": [
       "1921"
      ]
     },
     "execution_count": 30,
     "metadata": {},
     "output_type": "execute_result"
    }
   ],
   "source": [
    "len(pmc_xmls)"
   ]
  },
  {
   "cell_type": "code",
   "execution_count": 31,
   "metadata": {},
   "outputs": [],
   "source": [
    "ignore_text = {'xref', 'table', 'thead', 'th', 'td', 'tr', 'graphic'}\n",
    "\n",
    "\n",
    "def extract_text(body) -> str:\n",
    "    fragments = []\n",
    "    for i in body.iter():\n",
    "        if i.tag in ignore_text:\n",
    "            continue\n",
    "        text = i.text\n",
    "        if i.tag == 'label' and text and text.startswith('Figure'):\n",
    "            continue\n",
    "        if text:\n",
    "            fragments.append(text)\n",
    "    return '\\n'.join(fragments)"
   ]
  },
  {
   "cell_type": "code",
   "execution_count": 32,
   "metadata": {},
   "outputs": [],
   "source": [
    "for xml in pmc_xmls:\n",
    "    pmid = xml.find('front/article-meta/article-id[@pub-id-type=\"pmid\"]').text\n",
    "    body = xml.find('body')\n",
    "    has_full_text = body is not None\n",
    "    literature.loc[pmid, 'has_full_text'] = has_full_text\n",
    "    literature.loc[pmid, 'full_text'] = extract_text(body) if has_full_text else None"
   ]
  },
  {
   "cell_type": "code",
   "execution_count": 33,
   "metadata": {},
   "outputs": [
    {
     "data": {
      "text/plain": [
       "1493"
      ]
     },
     "execution_count": 33,
     "metadata": {},
     "output_type": "execute_result"
    }
   ],
   "source": [
    "sum(literature['has_full_text'] == True)"
   ]
  },
  {
   "cell_type": "code",
   "execution_count": 34,
   "metadata": {},
   "outputs": [],
   "source": [
    "# from utils import display_xml\n",
    "# display_xml(pmc_xmls[-2].find('body'))"
   ]
  },
  {
   "cell_type": "markdown",
   "metadata": {},
   "source": [
    "## Code archives and repositories extraction"
   ]
  },
  {
   "cell_type": "markdown",
   "metadata": {},
   "source": [
    "Limitations:\n",
    " - does not count gitlab in custom domains"
   ]
  },
  {
   "cell_type": "code",
   "execution_count": 35,
   "metadata": {},
   "outputs": [],
   "source": [
    "from re import escape\n",
    "\n",
    "\n",
    "def collapse_lists(lists):\n",
    "    return sorted(set(sum(lists, [])))\n",
    "\n",
    "\n",
    "fields = ['abstract', 'full_text']\n",
    "platforms = {\n",
    "    'github': r'(github\\.com/\\S+/\\S+)',\n",
    "    'gitlab': r'(gitlab\\.com/\\S+/\\S+)',\n",
    "    'sourceforge': r'(sourceforge\\.net/\\S+)',\n",
    "    'bitbucket': r'(bitbucket\\.org/\\S+)',\n",
    "    r'.git': r'(\\S+:\\S+\\.git\\S*)',\n",
    "}\n",
    "\n",
    "for platform in platforms:\n",
    "    for field in fields:\n",
    "        literature[f'{field}_mentions_{platform}'] = literature[field].str.lower().str.contains(escape(platform)) == True\n",
    "        matches = literature[field].astype(str).str.findall(platforms[platform])\n",
    "        literature[f'{field}_{platform}_matches'] = matches\n",
    "    literature[f'mentions_{platform}'] = literature[[f'{field}_mentions_{platform}' for field in fields]].any(axis=1)\n",
    "    literature[f'{platform}_matches'] = literature[[f'{field}_{platform}_matches' for field in fields]].apply(collapse_lists, axis=1)"
   ]
  },
  {
   "cell_type": "markdown",
   "metadata": {},
   "source": [
    "TODO extract \"ext-link\", as in:"
   ]
  },
  {
   "cell_type": "raw",
   "metadata": {},
   "source": [
    "<notes notes-type=\"data-availability\">\n",
    "      <title>Availability of data and materials</title>\n",
    "      <p>The datasets generated and/or analyzed during the current study are available in the <italic>PS4DR</italic>&#8217;s GitHub repository, [<ext-link ext-link-type=\"uri\" ns0:href=\"https://github.com/ps4dr/ps4dr\">https://github.com/ps4dr/ps4dr</ext-link>]. The datasets generated and/or analyzed during the current study are publicly available at <ext-link ext-link-type=\"uri\" ns0:href=\"https://github.com/ps4dr/results\">https://github.com/ps4dr/results</ext-link>.</p>"
   ]
  },
  {
   "cell_type": "code",
   "execution_count": 36,
   "metadata": {},
   "outputs": [
    {
     "data": {
      "text/plain": [
       "abstract_mentions_github         50\n",
       "abstract_mentions_gitlab          2\n",
       "abstract_mentions_sourceforge     4\n",
       "abstract_mentions_bitbucket       3\n",
       "abstract_mentions_.git            2\n",
       "dtype: int64"
      ]
     },
     "execution_count": 36,
     "metadata": {},
     "output_type": "execute_result"
    }
   ],
   "source": [
    "literature[[f'abstract_mentions_{platform}' for platform in platforms]].sum()"
   ]
  },
  {
   "cell_type": "code",
   "execution_count": 37,
   "metadata": {},
   "outputs": [
    {
     "data": {
      "text/plain": [
       "full_text_mentions_github         205\n",
       "full_text_mentions_gitlab           5\n",
       "full_text_mentions_sourceforge     44\n",
       "full_text_mentions_bitbucket       15\n",
       "full_text_mentions_.git            54\n",
       "dtype: int64"
      ]
     },
     "execution_count": 37,
     "metadata": {},
     "output_type": "execute_result"
    }
   ],
   "source": [
    "literature[[f'full_text_mentions_{platform}' for platform in platforms]].sum()"
   ]
  },
  {
   "cell_type": "markdown",
   "metadata": {},
   "source": [
    "The sourceforge mentions might be uses of tools."
   ]
  },
  {
   "cell_type": "code",
   "execution_count": 38,
   "metadata": {},
   "outputs": [
    {
     "data": {
      "text/plain": [
       "mentions_github         241\n",
       "mentions_gitlab           5\n",
       "mentions_sourceforge     46\n",
       "mentions_bitbucket       17\n",
       "mentions_.git            56\n",
       "dtype: int64"
      ]
     },
     "execution_count": 38,
     "metadata": {},
     "output_type": "execute_result"
    }
   ],
   "source": [
    "literature[[f'mentions_{platform}' for platform in platforms]].sum()"
   ]
  },
  {
   "cell_type": "code",
   "execution_count": 39,
   "metadata": {},
   "outputs": [
    {
     "data": {
      "text/plain": [
       "github_matches         [github.com/Magdoll//ECE, github.com/wizardfan...\n",
       "gitlab_matches         [gitlab.com/Gustafsson-lab/lassim, gitlab.com/...\n",
       "sourceforge_matches    [sourceforge.net/., sourceforge.net/projects/a...\n",
       "bitbucket_matches      [bitbucket.org/hbc/galaxy-central-hbc, bitbuck...\n",
       ".git_matches           [http://networkx.github.io/, http://broadinsti...\n",
       "dtype: object"
      ]
     },
     "execution_count": 39,
     "metadata": {},
     "output_type": "execute_result"
    }
   ],
   "source": [
    "literature[[f'{platform}_matches' for platform in platforms]].sum()"
   ]
  },
  {
   "cell_type": "code",
   "execution_count": 40,
   "metadata": {},
   "outputs": [
    {
     "data": {
      "text/plain": [
       "http://broadinstitute.github.io/picard/                                                                                              11\n",
       "http://broadinstitute.github.io/picard                                                                                                4\n",
       "http://cole-trapnell-lab.github.io/cufflinks/                                                                                         3\n",
       "https://broadinstitute.github.io/picard/                                                                                              3\n",
       "http://zwdzwd.github.io/InfiniumAnnotation                                                                                            2\n",
       "https://trinotate.github.io                                                                                                           2\n",
       "https://rrshieldscutler.github.io/splinectomeR/                                                                                       1\n",
       "https://gist.github.com/yannabraham/c1f9de9b23fb94105ca5                                                                              1\n",
       "https://transdecoder.github.io/                                                                                                       1\n",
       "https://rstudio.github.io/DT/                                                                                                         1\n",
       "https://jheatmap.github.io/jheatmap/                                                                                                  1\n",
       "https://samtools.github.io/hts-specs/SAMv1.pdf                                                                                        1\n",
       "https://github.com/xu1912/SMON.git                                                                                                    1\n",
       "https://galaxyproject.github.io/training-material/topics/proteomics/tutorials/proteogenomics-novel-peptide-analysis/tutorial.html     1\n",
       "https://github.com/ucdavis-bioinformatics/sickle.git                                                                                  1\n",
       "https://github.com/TiphaineCMartin/multiomic_AITD.git                                                                                 1\n",
       "https://oliviaab.github.io/sismonr/.                                                                                                  1\n",
       "http://networkx.github.io/                                                                                                            1\n",
       "https://galaxyproject.github.io/training-material/topics/proteomics/tutorials/metaproteomics/tutorial.html                            1\n",
       "https://chun-weitung.gitbooks.io/chemdis/content/data-sources.html                                                                    1\n",
       "http://www.github.com/baolinwu/MSKAT.                                                                                                 1\n",
       "https://broadinstitute.github.io/picard                                                                                               1\n",
       "https://github.com/biopython/biopython.github.io/                                                                                     1\n",
       "https://opencobra.github.io/                                                                                                          1\n",
       "http://yjjang.github.io/mongkie                                                                                                       1\n",
       "http://varadanlab.github.io/InFlo/                                                                                                    1\n",
       "http://kwanjeeraw.github.io/grinn/                                                                                                    1\n",
       "https://chun-weitung.gitbooks.io/chemdis/content/web-api.html                                                                         1\n",
       "https://xjtu-funet-source.github.io/FuNet/FuNet.html                                                                                  1\n",
       "http://topepo.github.io/caret/index.html                                                                                              1\n",
       "https://funricegenes.github.io/                                                                                                       1\n",
       "http://cole-trapnell-lab.github.io/cufflinks/cuffmerge/                                                                               1\n",
       "https://github.com/galaxyproteomics/mvpapplication-git.git                                                                            1\n",
       "https://openseadragon.github.io/                                                                                                      1\n",
       "https://jcupitt.github.io/libvips/                                                                                                    1\n",
       "http://mzmine.github.io/                                                                                                              1\n",
       "http://sbgn.github.io/sbgn/                                                                                                           1\n",
       "http://linsalrob.github.io/PyFBA/                                                                                                     1\n",
       "https://ginolhac.github.io/mapDamage/                                                                                                 1\n",
       "http://picrust.github.com/picrust/                                                                                                    1\n",
       "https://transdecoder.github.io                                                                                                        1\n",
       "http://cole-trapnell-lab.github.io/cufflinks/releases/v2.2.1/                                                                         1\n",
       "http://galaxyproject.github.io/training-material                                                                                      1\n",
       "http://cole-trapnell-lab.github.io/monocle-release/articles/v2.0.0                                                                    1\n",
       "dtype: int64"
      ]
     },
     "execution_count": 40,
     "metadata": {},
     "output_type": "execute_result"
    }
   ],
   "source": [
    "Series(literature['.git_matches'].sum()).value_counts()"
   ]
  },
  {
   "cell_type": "markdown",
   "metadata": {},
   "source": [
    "### Abstrace cleaning"
   ]
  },
  {
   "cell_type": "markdown",
   "metadata": {},
   "source": [
    "Many abstracts contains sections/organising headers, such as:"
   ]
  },
  {
   "cell_type": "code",
   "execution_count": 41,
   "metadata": {},
   "outputs": [
    {
     "data": {
      "text/plain": [
       "['BACKGROUND', 'MOTIVATION', 'OBJECTIVE', 'SCOPE']"
      ]
     },
     "execution_count": 41,
     "metadata": {},
     "output_type": "execute_result"
    }
   ],
   "source": [
    "['BACKGROUND', 'MOTIVATION', 'OBJECTIVE', 'SCOPE']"
   ]
  },
  {
   "cell_type": "markdown",
   "metadata": {},
   "source": [
    "By convention those are upper case in PubMed. Here We filter those out:"
   ]
  },
  {
   "cell_type": "code",
   "execution_count": 42,
   "metadata": {},
   "outputs": [],
   "source": [
    "from re import findall\n",
    "\n",
    "\n",
    "def extract_upper_case(abstract: str, min_len: int = 3):\n",
    "    if abstract:\n",
    "        return findall('([A-Z]{' + str(min_len) + ',})', abstract)\n",
    "    return []\n",
    "\n",
    "\n",
    "def count_upper_case_phrases(data: Series, min_len: int = 3) -> Series:\n",
    "    return Series(sum(data.apply(extract_upper_case, min_len=min_len), [])).value_counts()"
   ]
  },
  {
   "cell_type": "code",
   "execution_count": 43,
   "metadata": {},
   "outputs": [
    {
     "data": {
      "text/plain": [
       "RNA            2173\n",
       "DNA             907\n",
       "RESULTS         428\n",
       "BACKGROUND      321\n",
       "CONCLUSIONS     268\n",
       "METHODS         228\n",
       "HCC             189\n",
       "TCGA            189\n",
       "SNP             154\n",
       "GWAS            153\n",
       "CONCLUSION      136\n",
       "QTL             128\n",
       "CRC             125\n",
       "IBD             114\n",
       "GBM             109\n",
       "dtype: int64"
      ]
     },
     "execution_count": 43,
     "metadata": {},
     "output_type": "execute_result"
    }
   ],
   "source": [
    "potential_headers = count_upper_case_phrases(literature['abstract'])\n",
    "potential_headers[potential_headers > 100]"
   ]
  },
  {
   "cell_type": "markdown",
   "metadata": {},
   "source": [
    "There are many disease abbreviations making the list too long to browse:"
   ]
  },
  {
   "cell_type": "code",
   "execution_count": 44,
   "metadata": {},
   "outputs": [
    {
     "data": {
      "text/plain": [
       "1096"
      ]
     },
     "execution_count": 44,
     "metadata": {},
     "output_type": "execute_result"
    }
   ],
   "source": [
    "len(potential_headers[potential_headers > 3])"
   ]
  },
  {
   "cell_type": "markdown",
   "metadata": {},
   "source": [
    "So we will look at longer words:"
   ]
  },
  {
   "cell_type": "code",
   "execution_count": 45,
   "metadata": {},
   "outputs": [
    {
     "data": {
      "text/plain": [
       "3     663\n",
       "4     273\n",
       "5      79\n",
       "6      31\n",
       "7      16\n",
       "12      9\n",
       "10      7\n",
       "8       7\n",
       "9       6\n",
       "14      2\n",
       "11      2\n",
       "13      1\n",
       "dtype: int64"
      ]
     },
     "execution_count": 45,
     "metadata": {},
     "output_type": "execute_result"
    }
   ],
   "source": [
    "potential_headers[potential_headers > 3].index.map(len).value_counts()"
   ]
  },
  {
   "cell_type": "code",
   "execution_count": 46,
   "metadata": {},
   "outputs": [
    {
     "data": {
      "text/plain": [
       "RESULTS           428\n",
       "BACKGROUND        321\n",
       "CONCLUSIONS       268\n",
       "METHODS           228\n",
       "CONCLUSION        136\n",
       "NAFLD              63\n",
       "PURPOSE            56\n",
       "OBJECTIVE          50\n",
       "NSCLC              47\n",
       "HNSCC              46\n",
       "AVAILABILITY       44\n",
       "CRISPR             42\n",
       "MOTIVATION         40\n",
       "INFORMATION        37\n",
       "OMICS              37\n",
       "IMPLEMENTATION     36\n",
       "FINDINGS           36\n",
       "SUPPLEMENTARY      36\n",
       "LASSO              32\n",
       "MALDI              32\n",
       "dtype: int64"
      ]
     },
     "execution_count": 46,
     "metadata": {},
     "output_type": "execute_result"
    }
   ],
   "source": [
    "potential_headers_long = count_upper_case_phrases(literature['abstract'], min_len=5)\n",
    "potential_headers_long.head(20)"
   ]
  },
  {
   "cell_type": "markdown",
   "metadata": {},
   "source": [
    "I manually chosen headers from among top 100 hits:"
   ]
  },
  {
   "cell_type": "code",
   "execution_count": 47,
   "metadata": {},
   "outputs": [],
   "source": [
    "ABSTRACT_HEADERS = [\n",
    "    # manually added to prevent hanging \"OF\"\n",
    "    'PURPOSE OF REVIEW',\n",
    "    # chosen from top 100 most frequent\n",
    "    'RESULTS',\n",
    "    'BACKGROUND',\n",
    "    'CONCLUSIONS',\n",
    "    'METHODS',\n",
    "    'CONCLUSION',\n",
    "    'PURPOSE',\n",
    "    'OBJECTIVE',\n",
    "    'AVAILABILITY',\n",
    "    'MOTIVATION',\n",
    "    'INFORMATION',\n",
    "    'SUPPLEMENTARY',\n",
    "    'FINDINGS',\n",
    "    'SIGNIFICANCE',\n",
    "    'INTRODUCTION',\n",
    "    'DESIGN',\n",
    "    'OBJECTIVES',\n",
    "    'REVIEW',\n",
    "    'SUMMARY',\n",
    "    'MATERIALS',\n",
    "    'STUDY',\n",
    "    'EXPERIMENTAL',\n",
    "    'DISCUSSION',\n",
    "    'REGISTRATION',\n",
    "    'METHOD',\n",
    "    'CONTACT',\n",
    "    'FUTURE',\n",
    "    'INTERPRETATION',\n",
    "]"
   ]
  },
  {
   "cell_type": "code",
   "execution_count": 48,
   "metadata": {},
   "outputs": [],
   "source": [
    "literature['abstract_clean'] = literature['abstract'].str.replace('|'.join(ABSTRACT_HEADERS), '')"
   ]
  },
  {
   "cell_type": "code",
   "execution_count": 50,
   "metadata": {},
   "outputs": [
    {
     "data": {
      "text/markdown": [
       "Stored `literature` (None → 6B6823C9) at Monday, 15. Jun 2020 01:28"
      ],
      "text/plain": [
       "<IPython.core.display.Markdown object>"
      ]
     },
     "metadata": {
      "text/markdown": {
       "action": "store",
       "command": "store literature in pubmed_derived_data",
       "finished": "2020-06-15T01:28:55.094828",
       "finished_human_readable": "Monday, 15. Jun 2020 01:28",
       "result": [
        {
         "new_file": {
          "crc32": "6B6823C9",
          "sha256": "DE75D238E372B99F23BFCA1A2B38BBB09905550E97EDA04D3952BCA4E080D2F3"
         },
         "old_file": {
          "crc32": null,
          "sha256": null
         },
         "subject": "literature"
        }
       ],
       "started": "2020-06-15T01:28:46.292330"
      }
     },
     "output_type": "display_data"
    }
   ],
   "source": [
    "%vault store literature in pubmed_derived_data"
   ]
  }
 ],
 "metadata": {
  "kernelspec": {
   "display_name": "Python 3",
   "language": "python",
   "name": "python3"
  },
  "language_info": {
   "codemirror_mode": {
    "name": "ipython",
    "version": 3
   },
   "file_extension": ".py",
   "mimetype": "text/x-python",
   "name": "python",
   "nbconvert_exporter": "python",
   "pygments_lexer": "ipython3",
   "version": "3.8.3"
  }
 },
 "nbformat": 4,
 "nbformat_minor": 4
}
